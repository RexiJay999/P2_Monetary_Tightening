{
 "cells": [
  {
   "cell_type": "markdown",
   "id": "52006e30",
   "metadata": {},
   "source": [
    "# Final Project Exploration"
   ]
  },
  {
   "cell_type": "code",
   "execution_count": 4,
   "id": "7294cc66",
   "metadata": {
    "ExecuteTime": {
     "end_time": "2024-02-27T17:58:14.960814600Z",
     "start_time": "2024-02-27T17:58:09.332504100Z"
    }
   },
   "outputs": [],
   "source": [
    "import pandas as pd\n",
    "import numpy as np \n",
    "import matplotlib.pyplot as plt\n",
    "import warnings\n",
    "import data_read\n",
    "import load_assets\n",
    "import calc_functions\n",
    "\n",
    "warnings.filterwarnings(\"ignore\")"
   ]
  },
  {
   "cell_type": "markdown",
   "id": "ffa35b95",
   "metadata": {},
   "source": [
    "### Reports load"
   ]
  },
  {
   "cell_type": "code",
   "execution_count": 5,
   "id": "12a38572",
   "metadata": {
    "ExecuteTime": {
     "end_time": "2024-02-27T17:58:48.743701500Z",
     "start_time": "2024-02-27T17:58:14.954831300Z"
    }
   },
   "outputs": [],
   "source": [
    "#Data Series from WRDS\n",
    "rcfd_data_1 = load_assets.load_wrds_reports('ddss0fpozaxonboe') #series 1 of rcfd\n",
    "rcfd_data_2 = load_assets.load_wrds_reports('dycfrwcdm9puanhs') #series 2 of rcfd\n",
    "rcon_data_1 = load_assets.load_wrds_reports('m3pzkcjsgvk26dwa') #series 1 of rcon\n",
    "rcon_data_2 = load_assets.load_wrds_reports('hwv0m9qml6efztsi') #series 2 of rcon\n",
    "rcfn_data = load_assets.load_wrds_reports('cipzs5x6g2axzlhe') #rcfnb"
   ]
  },
  {
   "cell_type": "code",
   "execution_count": 6,
   "id": "4cffb5c1",
   "metadata": {},
   "outputs": [],
   "source": [
    "inital_date = '03/31/2022'\n",
    "analysis_date = '12/31/2023'"
   ]
  },
  {
   "cell_type": "markdown",
   "id": "c363a7c1",
   "metadata": {},
   "source": [
    "## Data Cleaning"
   ]
  },
  {
   "cell_type": "markdown",
   "id": "fa07dabc",
   "metadata": {},
   "source": [
    "### Assets"
   ]
  },
  {
   "cell_type": "code",
   "execution_count": 7,
   "id": "88738279",
   "metadata": {},
   "outputs": [
    {
     "data": {
      "text/html": [
       "<div>\n",
       "<style scoped>\n",
       "    .dataframe tbody tr th:only-of-type {\n",
       "        vertical-align: middle;\n",
       "    }\n",
       "\n",
       "    .dataframe tbody tr th {\n",
       "        vertical-align: top;\n",
       "    }\n",
       "\n",
       "    .dataframe thead th {\n",
       "        text-align: right;\n",
       "    }\n",
       "</style>\n",
       "<table border=\"1\" class=\"dataframe\">\n",
       "  <thead>\n",
       "    <tr style=\"text-align: right;\">\n",
       "      <th></th>\n",
       "      <th>Bank_ID</th>\n",
       "      <th>bank_name</th>\n",
       "      <th>report_date</th>\n",
       "      <th>gross_asset</th>\n",
       "    </tr>\n",
       "  </thead>\n",
       "  <tbody>\n",
       "    <tr>\n",
       "      <th>0</th>\n",
       "      <td>37</td>\n",
       "      <td>BANK OF HANCOCK COUNTY</td>\n",
       "      <td>03/31/2022</td>\n",
       "      <td>87842.0</td>\n",
       "    </tr>\n",
       "    <tr>\n",
       "      <th>5</th>\n",
       "      <td>242</td>\n",
       "      <td>FIRST COMMUNITY BANK XENIA-FLORA</td>\n",
       "      <td>03/31/2022</td>\n",
       "      <td>53236.0</td>\n",
       "    </tr>\n",
       "    <tr>\n",
       "      <th>10</th>\n",
       "      <td>279</td>\n",
       "      <td>MINEOLA COMMUNITY BANK, SSB</td>\n",
       "      <td>03/31/2022</td>\n",
       "      <td>368875.0</td>\n",
       "    </tr>\n",
       "    <tr>\n",
       "      <th>15</th>\n",
       "      <td>354</td>\n",
       "      <td>BISON STATE BANK</td>\n",
       "      <td>03/31/2022</td>\n",
       "      <td>25077.0</td>\n",
       "    </tr>\n",
       "    <tr>\n",
       "      <th>20</th>\n",
       "      <td>457</td>\n",
       "      <td>LOWRY STATE BANK</td>\n",
       "      <td>03/31/2022</td>\n",
       "      <td>65336.0</td>\n",
       "    </tr>\n",
       "  </tbody>\n",
       "</table>\n",
       "</div>"
      ],
      "text/plain": [
       "    Bank_ID                         bank_name report_date  gross_asset\n",
       "0        37            BANK OF HANCOCK COUNTY  03/31/2022      87842.0\n",
       "5       242  FIRST COMMUNITY BANK XENIA-FLORA  03/31/2022      53236.0\n",
       "10      279       MINEOLA COMMUNITY BANK, SSB  03/31/2022     368875.0\n",
       "15      354                  BISON STATE BANK  03/31/2022      25077.0\n",
       "20      457                  LOWRY STATE BANK  03/31/2022      65336.0"
      ]
     },
     "execution_count": 7,
     "metadata": {},
     "output_type": "execute_result"
    }
   ],
   "source": [
    "\n",
    "filtered_asset_level_0 = load_assets.clean_assets(rcfd_data_2,'RCFD2170',inital_date)\n",
    "filtered_asset_level = load_assets.clean_assets(rcon_data_2,'RCON2170',inital_date)\n",
    "filtered_asset_level.head()\n"
   ]
  },
  {
   "cell_type": "markdown",
   "id": "88fbbcd9",
   "metadata": {},
   "source": [
    "#### Creating a dataframe for total/gross asset for each bank"
   ]
  },
  {
   "cell_type": "code",
   "execution_count": 8,
   "id": "44923543",
   "metadata": {},
   "outputs": [
    {
     "data": {
      "text/html": [
       "<div>\n",
       "<style scoped>\n",
       "    .dataframe tbody tr th:only-of-type {\n",
       "        vertical-align: middle;\n",
       "    }\n",
       "\n",
       "    .dataframe tbody tr th {\n",
       "        vertical-align: top;\n",
       "    }\n",
       "\n",
       "    .dataframe thead th {\n",
       "        text-align: right;\n",
       "    }\n",
       "</style>\n",
       "<table border=\"1\" class=\"dataframe\">\n",
       "  <thead>\n",
       "    <tr style=\"text-align: right;\">\n",
       "      <th></th>\n",
       "      <th>Bank_ID</th>\n",
       "      <th>bank_name</th>\n",
       "      <th>report_date</th>\n",
       "      <th>gross_asset</th>\n",
       "    </tr>\n",
       "  </thead>\n",
       "  <tbody>\n",
       "    <tr>\n",
       "      <th>230</th>\n",
       "      <td>12311</td>\n",
       "      <td>HUNTINGTON NATIONAL BANK, THE</td>\n",
       "      <td>03/31/2022</td>\n",
       "      <td>176020595.0</td>\n",
       "    </tr>\n",
       "    <tr>\n",
       "      <th>537</th>\n",
       "      <td>30810</td>\n",
       "      <td>DISCOVER BANK</td>\n",
       "      <td>03/31/2022</td>\n",
       "      <td>105657408.0</td>\n",
       "    </tr>\n",
       "    <tr>\n",
       "      <th>635</th>\n",
       "      <td>35301</td>\n",
       "      <td>STATE STREET BANK AND TRUST COMPANY</td>\n",
       "      <td>03/31/2022</td>\n",
       "      <td>318494000.0</td>\n",
       "    </tr>\n",
       "    <tr>\n",
       "      <th>1095</th>\n",
       "      <td>60143</td>\n",
       "      <td>COMERICA BANK</td>\n",
       "      <td>03/31/2022</td>\n",
       "      <td>89142000.0</td>\n",
       "    </tr>\n",
       "    <tr>\n",
       "      <th>1170</th>\n",
       "      <td>63069</td>\n",
       "      <td>CITY NATIONAL BANK</td>\n",
       "      <td>03/31/2022</td>\n",
       "      <td>91770285.0</td>\n",
       "    </tr>\n",
       "  </tbody>\n",
       "</table>\n",
       "</div>"
      ],
      "text/plain": [
       "      Bank_ID                            bank_name report_date  gross_asset\n",
       "230     12311        HUNTINGTON NATIONAL BANK, THE  03/31/2022  176020595.0\n",
       "537     30810                        DISCOVER BANK  03/31/2022  105657408.0\n",
       "635     35301  STATE STREET BANK AND TRUST COMPANY  03/31/2022  318494000.0\n",
       "1095    60143                        COMERICA BANK  03/31/2022   89142000.0\n",
       "1170    63069                   CITY NATIONAL BANK  03/31/2022   91770285.0"
      ]
     },
     "execution_count": 8,
     "metadata": {},
     "output_type": "execute_result"
    }
   ],
   "source": [
    "df_asset = pd.concat([filtered_asset_level_0, filtered_asset_level])\n",
    "total_asset = df_asset['gross_asset'].sum()\n",
    "df_asset.head()"
   ]
  },
  {
   "cell_type": "markdown",
   "id": "e6aebef5",
   "metadata": {},
   "source": [
    "#### LOANS"
   ]
  },
  {
   "cell_type": "code",
   "execution_count": 9,
   "id": "3b40d945",
   "metadata": {},
   "outputs": [
    {
     "data": {
      "text/html": [
       "<div>\n",
       "<style scoped>\n",
       "    .dataframe tbody tr th:only-of-type {\n",
       "        vertical-align: middle;\n",
       "    }\n",
       "\n",
       "    .dataframe tbody tr th {\n",
       "        vertical-align: top;\n",
       "    }\n",
       "\n",
       "    .dataframe thead th {\n",
       "        text-align: right;\n",
       "    }\n",
       "</style>\n",
       "<table border=\"1\" class=\"dataframe\">\n",
       "  <thead>\n",
       "    <tr style=\"text-align: right;\">\n",
       "      <th></th>\n",
       "      <th>Bank_ID</th>\n",
       "      <th>bank_name</th>\n",
       "      <th>report_date</th>\n",
       "      <th>&lt;3m</th>\n",
       "      <th>3m-1y</th>\n",
       "      <th>1y-3y</th>\n",
       "      <th>3y-5y</th>\n",
       "      <th>5y-15y</th>\n",
       "      <th>&gt;15y</th>\n",
       "    </tr>\n",
       "  </thead>\n",
       "  <tbody>\n",
       "    <tr>\n",
       "      <th>0</th>\n",
       "      <td>37</td>\n",
       "      <td>BANK OF HANCOCK COUNTY</td>\n",
       "      <td>03/31/2022</td>\n",
       "      <td>355</td>\n",
       "      <td>354</td>\n",
       "      <td>2430</td>\n",
       "      <td>2229</td>\n",
       "      <td>2641</td>\n",
       "      <td>0</td>\n",
       "    </tr>\n",
       "    <tr>\n",
       "      <th>5</th>\n",
       "      <td>242</td>\n",
       "      <td>FIRST COMMUNITY BANK XENIA-FLORA</td>\n",
       "      <td>03/31/2022</td>\n",
       "      <td>683</td>\n",
       "      <td>588</td>\n",
       "      <td>2566</td>\n",
       "      <td>5361</td>\n",
       "      <td>2137</td>\n",
       "      <td>0</td>\n",
       "    </tr>\n",
       "    <tr>\n",
       "      <th>10</th>\n",
       "      <td>279</td>\n",
       "      <td>MINEOLA COMMUNITY BANK, SSB</td>\n",
       "      <td>03/31/2022</td>\n",
       "      <td>74</td>\n",
       "      <td>22</td>\n",
       "      <td>2136</td>\n",
       "      <td>4966</td>\n",
       "      <td>30924</td>\n",
       "      <td>113757</td>\n",
       "    </tr>\n",
       "    <tr>\n",
       "      <th>15</th>\n",
       "      <td>354</td>\n",
       "      <td>BISON STATE BANK</td>\n",
       "      <td>03/31/2022</td>\n",
       "      <td>41</td>\n",
       "      <td>230</td>\n",
       "      <td>995</td>\n",
       "      <td>4528</td>\n",
       "      <td>441</td>\n",
       "      <td>5310</td>\n",
       "    </tr>\n",
       "    <tr>\n",
       "      <th>20</th>\n",
       "      <td>457</td>\n",
       "      <td>LOWRY STATE BANK</td>\n",
       "      <td>03/31/2022</td>\n",
       "      <td>212</td>\n",
       "      <td>999</td>\n",
       "      <td>2964</td>\n",
       "      <td>11051</td>\n",
       "      <td>2962</td>\n",
       "      <td>245</td>\n",
       "    </tr>\n",
       "  </tbody>\n",
       "</table>\n",
       "</div>"
      ],
      "text/plain": [
       "    Bank_ID                         bank_name report_date  <3m  3m-1y  1y-3y  \\\n",
       "0        37            BANK OF HANCOCK COUNTY  03/31/2022  355    354   2430   \n",
       "5       242  FIRST COMMUNITY BANK XENIA-FLORA  03/31/2022  683    588   2566   \n",
       "10      279       MINEOLA COMMUNITY BANK, SSB  03/31/2022   74     22   2136   \n",
       "15      354                  BISON STATE BANK  03/31/2022   41    230    995   \n",
       "20      457                  LOWRY STATE BANK  03/31/2022  212    999   2964   \n",
       "\n",
       "    3y-5y  5y-15y    >15y  \n",
       "0    2229    2641       0  \n",
       "5    5361    2137       0  \n",
       "10   4966   30924  113757  \n",
       "15   4528     441    5310  \n",
       "20  11051    2962     245  "
      ]
     },
     "execution_count": 9,
     "metadata": {},
     "output_type": "execute_result"
    }
   ],
   "source": [
    "rcon_cols = ['RCONA564', 'RCONA565', 'RCONA566', 'RCONA567', 'RCONA568', 'RCONA569']\n",
    "rcon_cols2 = ['RCONA570', 'RCONA571', 'RCONA572', 'RCONA573', 'RCONA574', 'RCONA575']\n",
    "rcfd_cols = ['RCFDA570', 'RCFDA571', 'RCFDA572', 'RCFDA573', 'RCFDA574', 'RCFDA575']\n",
    "\n",
    "# Residential Loans with repricing maturity (secured by first liens)\n",
    "df_loans_first_lien_domestic = load_assets.clean_loans(rcon_data_1,rcon_cols,inital_date)\n",
    "\n",
    "# Loans and Leases (not-secured by first liens)\n",
    "df_loans_exc_first_lien = load_assets.clean_loans(rcfd_data_1,rcfd_cols,inital_date)\n",
    "df_loans_exc_first_lien_domestic = load_assets.clean_loans(rcon_data_2,rcon_cols2,inital_date)\n",
    "\n",
    "df_loans_first_lien_domestic.head()"
   ]
  },
  {
   "cell_type": "code",
   "execution_count": 10,
   "id": "1e768f6e",
   "metadata": {},
   "outputs": [
    {
     "data": {
      "text/html": [
       "<div>\n",
       "<style scoped>\n",
       "    .dataframe tbody tr th:only-of-type {\n",
       "        vertical-align: middle;\n",
       "    }\n",
       "\n",
       "    .dataframe tbody tr th {\n",
       "        vertical-align: top;\n",
       "    }\n",
       "\n",
       "    .dataframe thead th {\n",
       "        text-align: right;\n",
       "    }\n",
       "</style>\n",
       "<table border=\"1\" class=\"dataframe\">\n",
       "  <thead>\n",
       "    <tr style=\"text-align: right;\">\n",
       "      <th></th>\n",
       "      <th>Bank_ID</th>\n",
       "      <th>bank_name</th>\n",
       "      <th>report_date</th>\n",
       "      <th>&lt;3m</th>\n",
       "      <th>3m-1y</th>\n",
       "      <th>1y-3y</th>\n",
       "      <th>3y-5y</th>\n",
       "      <th>5y-15y</th>\n",
       "      <th>&gt;15y</th>\n",
       "    </tr>\n",
       "  </thead>\n",
       "  <tbody>\n",
       "    <tr>\n",
       "      <th>0</th>\n",
       "      <td>37</td>\n",
       "      <td>BANK OF HANCOCK COUNTY</td>\n",
       "      <td>03/31/2022</td>\n",
       "      <td>1082.0</td>\n",
       "      <td>3574.0</td>\n",
       "      <td>2928.0</td>\n",
       "      <td>3088.0</td>\n",
       "      <td>2106.0</td>\n",
       "      <td>0.0</td>\n",
       "    </tr>\n",
       "    <tr>\n",
       "      <th>5</th>\n",
       "      <td>242</td>\n",
       "      <td>FIRST COMMUNITY BANK XENIA-FLORA</td>\n",
       "      <td>03/31/2022</td>\n",
       "      <td>6436.0</td>\n",
       "      <td>2335.0</td>\n",
       "      <td>1715.0</td>\n",
       "      <td>2749.0</td>\n",
       "      <td>767.0</td>\n",
       "      <td>481.0</td>\n",
       "    </tr>\n",
       "    <tr>\n",
       "      <th>10</th>\n",
       "      <td>279</td>\n",
       "      <td>MINEOLA COMMUNITY BANK, SSB</td>\n",
       "      <td>03/31/2022</td>\n",
       "      <td>8861.0</td>\n",
       "      <td>11647.0</td>\n",
       "      <td>16963.0</td>\n",
       "      <td>11508.0</td>\n",
       "      <td>18670.0</td>\n",
       "      <td>5189.0</td>\n",
       "    </tr>\n",
       "    <tr>\n",
       "      <th>15</th>\n",
       "      <td>354</td>\n",
       "      <td>BISON STATE BANK</td>\n",
       "      <td>03/31/2022</td>\n",
       "      <td>1023.0</td>\n",
       "      <td>802.0</td>\n",
       "      <td>1041.0</td>\n",
       "      <td>1249.0</td>\n",
       "      <td>489.0</td>\n",
       "      <td>0.0</td>\n",
       "    </tr>\n",
       "    <tr>\n",
       "      <th>20</th>\n",
       "      <td>457</td>\n",
       "      <td>LOWRY STATE BANK</td>\n",
       "      <td>03/31/2022</td>\n",
       "      <td>5623.0</td>\n",
       "      <td>5694.0</td>\n",
       "      <td>6740.0</td>\n",
       "      <td>15109.0</td>\n",
       "      <td>6130.0</td>\n",
       "      <td>1116.0</td>\n",
       "    </tr>\n",
       "  </tbody>\n",
       "</table>\n",
       "</div>"
      ],
      "text/plain": [
       "    Bank_ID                         bank_name report_date     <3m    3m-1y  \\\n",
       "0        37            BANK OF HANCOCK COUNTY  03/31/2022  1082.0   3574.0   \n",
       "5       242  FIRST COMMUNITY BANK XENIA-FLORA  03/31/2022  6436.0   2335.0   \n",
       "10      279       MINEOLA COMMUNITY BANK, SSB  03/31/2022  8861.0  11647.0   \n",
       "15      354                  BISON STATE BANK  03/31/2022  1023.0    802.0   \n",
       "20      457                  LOWRY STATE BANK  03/31/2022  5623.0   5694.0   \n",
       "\n",
       "      1y-3y    3y-5y   5y-15y    >15y  \n",
       "0    2928.0   3088.0   2106.0     0.0  \n",
       "5    1715.0   2749.0    767.0   481.0  \n",
       "10  16963.0  11508.0  18670.0  5189.0  \n",
       "15   1041.0   1249.0    489.0     0.0  \n",
       "20   6740.0  15109.0   6130.0  1116.0  "
      ]
     },
     "execution_count": 10,
     "metadata": {},
     "output_type": "execute_result"
    }
   ],
   "source": [
    "df_other_loan = pd.concat([df_loans_exc_first_lien_domestic, df_loans_exc_first_lien])\n",
    "df_other_loan = df_other_loan.sort_index()\n",
    "df_other_loan.head()"
   ]
  },
  {
   "cell_type": "markdown",
   "id": "68d98ca5",
   "metadata": {},
   "source": [
    "### RMBs"
   ]
  },
  {
   "cell_type": "code",
   "execution_count": 11,
   "id": "4ebcb0ee",
   "metadata": {},
   "outputs": [],
   "source": [
    "rmbs_cols = ['RCFDA555', 'RCFDA556', 'RCFDA557', 'RCFDA558', 'RCFDA559', 'RCFDA560']\n",
    "rmbs_dom_cols = ['RCONA555', 'RCONA556', 'RCONA557', 'RCONA558', 'RCONA559', 'RCONA560']\n",
    "df_RMBS = load_assets.clean_loans(rcfd_data_1,rmbs_cols,inital_date)\n",
    "df_RMBS_dom = load_assets.clean_loans(rcon_data_1,rmbs_dom_cols,inital_date) #Form 051 - Domestic"
   ]
  },
  {
   "cell_type": "code",
   "execution_count": 12,
   "id": "931807f4",
   "metadata": {
    "ExecuteTime": {
     "end_time": "2024-02-27T17:58:50.400324300Z",
     "start_time": "2024-02-27T17:58:49.353787100Z"
    }
   },
   "outputs": [
    {
     "data": {
      "text/html": [
       "<div>\n",
       "<style scoped>\n",
       "    .dataframe tbody tr th:only-of-type {\n",
       "        vertical-align: middle;\n",
       "    }\n",
       "\n",
       "    .dataframe tbody tr th {\n",
       "        vertical-align: top;\n",
       "    }\n",
       "\n",
       "    .dataframe thead th {\n",
       "        text-align: right;\n",
       "    }\n",
       "</style>\n",
       "<table border=\"1\" class=\"dataframe\">\n",
       "  <thead>\n",
       "    <tr style=\"text-align: right;\">\n",
       "      <th></th>\n",
       "      <th>Bank_ID</th>\n",
       "      <th>bank_name</th>\n",
       "      <th>report_date</th>\n",
       "      <th>&lt;3m</th>\n",
       "      <th>3m-1y</th>\n",
       "      <th>1y-3y</th>\n",
       "      <th>3y-5y</th>\n",
       "      <th>5y-15y</th>\n",
       "      <th>&gt;15y</th>\n",
       "    </tr>\n",
       "  </thead>\n",
       "  <tbody>\n",
       "    <tr>\n",
       "      <th>0</th>\n",
       "      <td>37</td>\n",
       "      <td>BANK OF HANCOCK COUNTY</td>\n",
       "      <td>03/31/2022</td>\n",
       "      <td>0.0</td>\n",
       "      <td>0.0</td>\n",
       "      <td>0.0</td>\n",
       "      <td>0.0</td>\n",
       "      <td>856.0</td>\n",
       "      <td>6021.0</td>\n",
       "    </tr>\n",
       "    <tr>\n",
       "      <th>5</th>\n",
       "      <td>242</td>\n",
       "      <td>FIRST COMMUNITY BANK XENIA-FLORA</td>\n",
       "      <td>03/31/2022</td>\n",
       "      <td>0.0</td>\n",
       "      <td>0.0</td>\n",
       "      <td>0.0</td>\n",
       "      <td>0.0</td>\n",
       "      <td>0.0</td>\n",
       "      <td>0.0</td>\n",
       "    </tr>\n",
       "    <tr>\n",
       "      <th>10</th>\n",
       "      <td>279</td>\n",
       "      <td>MINEOLA COMMUNITY BANK, SSB</td>\n",
       "      <td>03/31/2022</td>\n",
       "      <td>2814.0</td>\n",
       "      <td>86.0</td>\n",
       "      <td>0.0</td>\n",
       "      <td>1049.0</td>\n",
       "      <td>26085.0</td>\n",
       "      <td>16737.0</td>\n",
       "    </tr>\n",
       "    <tr>\n",
       "      <th>15</th>\n",
       "      <td>354</td>\n",
       "      <td>BISON STATE BANK</td>\n",
       "      <td>03/31/2022</td>\n",
       "      <td>0.0</td>\n",
       "      <td>0.0</td>\n",
       "      <td>0.0</td>\n",
       "      <td>0.0</td>\n",
       "      <td>58.0</td>\n",
       "      <td>0.0</td>\n",
       "    </tr>\n",
       "    <tr>\n",
       "      <th>20</th>\n",
       "      <td>457</td>\n",
       "      <td>LOWRY STATE BANK</td>\n",
       "      <td>03/31/2022</td>\n",
       "      <td>0.0</td>\n",
       "      <td>0.0</td>\n",
       "      <td>0.0</td>\n",
       "      <td>0.0</td>\n",
       "      <td>0.0</td>\n",
       "      <td>0.0</td>\n",
       "    </tr>\n",
       "  </tbody>\n",
       "</table>\n",
       "</div>"
      ],
      "text/plain": [
       "    Bank_ID                         bank_name report_date     <3m  3m-1y  \\\n",
       "0        37            BANK OF HANCOCK COUNTY  03/31/2022     0.0    0.0   \n",
       "5       242  FIRST COMMUNITY BANK XENIA-FLORA  03/31/2022     0.0    0.0   \n",
       "10      279       MINEOLA COMMUNITY BANK, SSB  03/31/2022  2814.0   86.0   \n",
       "15      354                  BISON STATE BANK  03/31/2022     0.0    0.0   \n",
       "20      457                  LOWRY STATE BANK  03/31/2022     0.0    0.0   \n",
       "\n",
       "    1y-3y   3y-5y   5y-15y     >15y  \n",
       "0     0.0     0.0    856.0   6021.0  \n",
       "5     0.0     0.0      0.0      0.0  \n",
       "10    0.0  1049.0  26085.0  16737.0  \n",
       "15    0.0     0.0     58.0      0.0  \n",
       "20    0.0     0.0      0.0      0.0  "
      ]
     },
     "execution_count": 12,
     "metadata": {},
     "output_type": "execute_result"
    }
   ],
   "source": [
    "df_RMBS_Final = pd.concat([df_RMBS_dom, df_RMBS])\n",
    "df_RMBS_Final = df_RMBS_Final.sort_index()\n",
    "df_RMBS_Final.head()"
   ]
  },
  {
   "cell_type": "markdown",
   "id": "25d5b3e8",
   "metadata": {},
   "source": [
    "# Treausurys and Other (non-RMBs)"
   ]
  },
  {
   "cell_type": "code",
   "execution_count": 13,
   "id": "27443aaf",
   "metadata": {},
   "outputs": [],
   "source": [
    "non_RMBS_cols = ['RCFDA549', 'RCFDA550', 'RCFDA551', 'RCFDA552', 'RCFDA553', 'RCFDA554']\n",
    "non_RMBS_dom_cols = ['RCONA549', 'RCONA550', 'RCONA551', 'RCONA552', 'RCONA553', 'RCONA554']\n",
    "\n",
    "df_non_RMBS = load_assets.clean_loans(rcfd_data_2,non_RMBS_cols,inital_date)\n",
    "df_non_RMBS_dom = load_assets.clean_loans(rcon_data_2,non_RMBS_dom_cols,inital_date)"
   ]
  },
  {
   "cell_type": "code",
   "execution_count": 14,
   "id": "f1899b39",
   "metadata": {
    "ExecuteTime": {
     "end_time": "2024-02-27T17:58:51.260338Z",
     "start_time": "2024-02-27T17:58:49.554536300Z"
    }
   },
   "outputs": [
    {
     "data": {
      "text/html": [
       "<div>\n",
       "<style scoped>\n",
       "    .dataframe tbody tr th:only-of-type {\n",
       "        vertical-align: middle;\n",
       "    }\n",
       "\n",
       "    .dataframe tbody tr th {\n",
       "        vertical-align: top;\n",
       "    }\n",
       "\n",
       "    .dataframe thead th {\n",
       "        text-align: right;\n",
       "    }\n",
       "</style>\n",
       "<table border=\"1\" class=\"dataframe\">\n",
       "  <thead>\n",
       "    <tr style=\"text-align: right;\">\n",
       "      <th></th>\n",
       "      <th>Bank_ID</th>\n",
       "      <th>bank_name</th>\n",
       "      <th>report_date</th>\n",
       "      <th>&lt;3m</th>\n",
       "      <th>3m-1y</th>\n",
       "      <th>1y-3y</th>\n",
       "      <th>3y-5y</th>\n",
       "      <th>5y-15y</th>\n",
       "      <th>&gt;15y</th>\n",
       "    </tr>\n",
       "  </thead>\n",
       "  <tbody>\n",
       "    <tr>\n",
       "      <th>0</th>\n",
       "      <td>37</td>\n",
       "      <td>BANK OF HANCOCK COUNTY</td>\n",
       "      <td>03/31/2022</td>\n",
       "      <td>0.0</td>\n",
       "      <td>0.0</td>\n",
       "      <td>330.0</td>\n",
       "      <td>708.0</td>\n",
       "      <td>26220.0</td>\n",
       "      <td>19212.0</td>\n",
       "    </tr>\n",
       "    <tr>\n",
       "      <th>5</th>\n",
       "      <td>242</td>\n",
       "      <td>FIRST COMMUNITY BANK XENIA-FLORA</td>\n",
       "      <td>03/31/2022</td>\n",
       "      <td>600.0</td>\n",
       "      <td>784.0</td>\n",
       "      <td>2268.0</td>\n",
       "      <td>2813.0</td>\n",
       "      <td>11784.0</td>\n",
       "      <td>135.0</td>\n",
       "    </tr>\n",
       "    <tr>\n",
       "      <th>10</th>\n",
       "      <td>279</td>\n",
       "      <td>MINEOLA COMMUNITY BANK, SSB</td>\n",
       "      <td>03/31/2022</td>\n",
       "      <td>0.0</td>\n",
       "      <td>0.0</td>\n",
       "      <td>8190.0</td>\n",
       "      <td>7815.0</td>\n",
       "      <td>16591.0</td>\n",
       "      <td>5854.0</td>\n",
       "    </tr>\n",
       "    <tr>\n",
       "      <th>15</th>\n",
       "      <td>354</td>\n",
       "      <td>BISON STATE BANK</td>\n",
       "      <td>03/31/2022</td>\n",
       "      <td>150.0</td>\n",
       "      <td>348.0</td>\n",
       "      <td>0.0</td>\n",
       "      <td>189.0</td>\n",
       "      <td>0.0</td>\n",
       "      <td>0.0</td>\n",
       "    </tr>\n",
       "    <tr>\n",
       "      <th>20</th>\n",
       "      <td>457</td>\n",
       "      <td>LOWRY STATE BANK</td>\n",
       "      <td>03/31/2022</td>\n",
       "      <td>0.0</td>\n",
       "      <td>0.0</td>\n",
       "      <td>952.0</td>\n",
       "      <td>479.0</td>\n",
       "      <td>0.0</td>\n",
       "      <td>0.0</td>\n",
       "    </tr>\n",
       "  </tbody>\n",
       "</table>\n",
       "</div>"
      ],
      "text/plain": [
       "    Bank_ID                         bank_name report_date    <3m  3m-1y  \\\n",
       "0        37            BANK OF HANCOCK COUNTY  03/31/2022    0.0    0.0   \n",
       "5       242  FIRST COMMUNITY BANK XENIA-FLORA  03/31/2022  600.0  784.0   \n",
       "10      279       MINEOLA COMMUNITY BANK, SSB  03/31/2022    0.0    0.0   \n",
       "15      354                  BISON STATE BANK  03/31/2022  150.0  348.0   \n",
       "20      457                  LOWRY STATE BANK  03/31/2022    0.0    0.0   \n",
       "\n",
       "     1y-3y   3y-5y   5y-15y     >15y  \n",
       "0    330.0   708.0  26220.0  19212.0  \n",
       "5   2268.0  2813.0  11784.0    135.0  \n",
       "10  8190.0  7815.0  16591.0   5854.0  \n",
       "15     0.0   189.0      0.0      0.0  \n",
       "20   952.0   479.0      0.0      0.0  "
      ]
     },
     "execution_count": 14,
     "metadata": {},
     "output_type": "execute_result"
    }
   ],
   "source": [
    "df_treasury_and_others = pd.concat([df_non_RMBS_dom, df_non_RMBS])\n",
    "df_treasury_and_others = df_treasury_and_others.sort_index()\n",
    "df_treasury_and_others.head()"
   ]
  },
  {
   "cell_type": "code",
   "execution_count": 15,
   "id": "bcda7327",
   "metadata": {},
   "outputs": [
    {
     "data": {
      "text/html": [
       "<div>\n",
       "<style scoped>\n",
       "    .dataframe tbody tr th:only-of-type {\n",
       "        vertical-align: middle;\n",
       "    }\n",
       "\n",
       "    .dataframe tbody tr th {\n",
       "        vertical-align: top;\n",
       "    }\n",
       "\n",
       "    .dataframe thead th {\n",
       "        text-align: right;\n",
       "    }\n",
       "</style>\n",
       "<table border=\"1\" class=\"dataframe\">\n",
       "  <thead>\n",
       "    <tr style=\"text-align: right;\">\n",
       "      <th></th>\n",
       "      <th>Bank_ID</th>\n",
       "      <th>bank_name</th>\n",
       "      <th>report_date</th>\n",
       "      <th>&lt;3y</th>\n",
       "      <th>&gt;3y</th>\n",
       "    </tr>\n",
       "  </thead>\n",
       "  <tbody>\n",
       "    <tr>\n",
       "      <th>230</th>\n",
       "      <td>12311</td>\n",
       "      <td>HUNTINGTON NATIONAL BANK, THE</td>\n",
       "      <td>03/31/2022</td>\n",
       "      <td>905975.0</td>\n",
       "      <td>10885639.0</td>\n",
       "    </tr>\n",
       "    <tr>\n",
       "      <th>537</th>\n",
       "      <td>30810</td>\n",
       "      <td>DISCOVER BANK</td>\n",
       "      <td>03/31/2022</td>\n",
       "      <td>0.0</td>\n",
       "      <td>0.0</td>\n",
       "    </tr>\n",
       "    <tr>\n",
       "      <th>635</th>\n",
       "      <td>35301</td>\n",
       "      <td>STATE STREET BANK AND TRUST COMPANY</td>\n",
       "      <td>03/31/2022</td>\n",
       "      <td>10596000.0</td>\n",
       "      <td>23772000.0</td>\n",
       "    </tr>\n",
       "    <tr>\n",
       "      <th>1095</th>\n",
       "      <td>60143</td>\n",
       "      <td>COMERICA BANK</td>\n",
       "      <td>03/31/2022</td>\n",
       "      <td>1727000.0</td>\n",
       "      <td>2868000.0</td>\n",
       "    </tr>\n",
       "    <tr>\n",
       "      <th>1170</th>\n",
       "      <td>63069</td>\n",
       "      <td>CITY NATIONAL BANK</td>\n",
       "      <td>03/31/2022</td>\n",
       "      <td>1511646.0</td>\n",
       "      <td>19059340.0</td>\n",
       "    </tr>\n",
       "  </tbody>\n",
       "</table>\n",
       "</div>"
      ],
      "text/plain": [
       "      Bank_ID                            bank_name report_date         <3y  \\\n",
       "230     12311        HUNTINGTON NATIONAL BANK, THE  03/31/2022    905975.0   \n",
       "537     30810                        DISCOVER BANK  03/31/2022         0.0   \n",
       "635     35301  STATE STREET BANK AND TRUST COMPANY  03/31/2022  10596000.0   \n",
       "1095    60143                        COMERICA BANK  03/31/2022   1727000.0   \n",
       "1170    63069                   CITY NATIONAL BANK  03/31/2022   1511646.0   \n",
       "\n",
       "             >3y  \n",
       "230   10885639.0  \n",
       "537          0.0  \n",
       "635   23772000.0  \n",
       "1095   2868000.0  \n",
       "1170  19059340.0  "
      ]
     },
     "execution_count": 15,
     "metadata": {},
     "output_type": "execute_result"
    }
   ],
   "source": [
    "other_cols = ['RCFDA561', 'RCFDA562']\n",
    "other_cols2 = ['RCONA561', 'RCONA562']\n",
    "other_names = ['<3y', '>3y']\n",
    "\n",
    "df_other_MBS =  load_assets.clean_others(rcfd_data_1,other_cols,other_names,inital_date)\n",
    "df_other_MBS_domestic =  load_assets.clean_others(rcon_data_2,other_cols2,other_names,inital_date)\n",
    "df_other_MBS_total = pd.concat([df_other_MBS, df_other_MBS_domestic])\n",
    "df_other_MBS_total.head()"
   ]
  },
  {
   "cell_type": "code",
   "execution_count": 16,
   "id": "e6de4e28",
   "metadata": {},
   "outputs": [
    {
     "data": {
      "text/html": [
       "<div>\n",
       "<style scoped>\n",
       "    .dataframe tbody tr th:only-of-type {\n",
       "        vertical-align: middle;\n",
       "    }\n",
       "\n",
       "    .dataframe tbody tr th {\n",
       "        vertical-align: top;\n",
       "    }\n",
       "\n",
       "    .dataframe thead th {\n",
       "        text-align: right;\n",
       "    }\n",
       "</style>\n",
       "<table border=\"1\" class=\"dataframe\">\n",
       "  <thead>\n",
       "    <tr style=\"text-align: right;\">\n",
       "      <th></th>\n",
       "      <th>Bank_ID</th>\n",
       "      <th>bank_name</th>\n",
       "      <th>report_date</th>\n",
       "      <th>&lt;1y</th>\n",
       "    </tr>\n",
       "  </thead>\n",
       "  <tbody>\n",
       "    <tr>\n",
       "      <th>230</th>\n",
       "      <td>12311</td>\n",
       "      <td>HUNTINGTON NATIONAL BANK, THE</td>\n",
       "      <td>03/31/2022</td>\n",
       "      <td>19296859.0</td>\n",
       "    </tr>\n",
       "    <tr>\n",
       "      <th>537</th>\n",
       "      <td>30810</td>\n",
       "      <td>DISCOVER BANK</td>\n",
       "      <td>03/31/2022</td>\n",
       "      <td>185091.0</td>\n",
       "    </tr>\n",
       "    <tr>\n",
       "      <th>635</th>\n",
       "      <td>35301</td>\n",
       "      <td>STATE STREET BANK AND TRUST COMPANY</td>\n",
       "      <td>03/31/2022</td>\n",
       "      <td>20053000.0</td>\n",
       "    </tr>\n",
       "    <tr>\n",
       "      <th>1095</th>\n",
       "      <td>60143</td>\n",
       "      <td>COMERICA BANK</td>\n",
       "      <td>03/31/2022</td>\n",
       "      <td>16972000.0</td>\n",
       "    </tr>\n",
       "    <tr>\n",
       "      <th>1170</th>\n",
       "      <td>63069</td>\n",
       "      <td>CITY NATIONAL BANK</td>\n",
       "      <td>03/31/2022</td>\n",
       "      <td>10554867.0</td>\n",
       "    </tr>\n",
       "  </tbody>\n",
       "</table>\n",
       "</div>"
      ],
      "text/plain": [
       "      Bank_ID                            bank_name report_date         <1y\n",
       "230     12311        HUNTINGTON NATIONAL BANK, THE  03/31/2022  19296859.0\n",
       "537     30810                        DISCOVER BANK  03/31/2022    185091.0\n",
       "635     35301  STATE STREET BANK AND TRUST COMPANY  03/31/2022  20053000.0\n",
       "1095    60143                        COMERICA BANK  03/31/2022  16972000.0\n",
       "1170    63069                   CITY NATIONAL BANK  03/31/2022  10554867.0"
      ]
     },
     "execution_count": 16,
     "metadata": {},
     "output_type": "execute_result"
    }
   ],
   "source": [
    "other_leases = ['RCFDA247']\n",
    "other_leases2 = ['RCONA247']\n",
    "other_names2 = ['<1y']\n",
    "\n",
    "df_other_loan_lease =  load_assets.clean_others(rcfd_data_1,other_leases,other_names2,inital_date)\n",
    "df_other_loan_lease_domestic =  load_assets.clean_others(rcon_data_1,other_leases2,other_names2,inital_date)\n",
    "df_total_other_loan_lease = pd.concat([df_other_loan_lease, df_other_loan_lease_domestic])\n",
    "df_total_other_loan_lease.head()"
   ]
  },
  {
   "cell_type": "markdown",
   "id": "45ccc0bb",
   "metadata": {},
   "source": [
    "# Asset Decomposition"
   ]
  },
  {
   "cell_type": "code",
   "execution_count": 17,
   "id": "e41fbba4",
   "metadata": {},
   "outputs": [
    {
     "name": "stdout",
     "output_type": "stream",
     "text": [
      "total assets: 16,590,518,404.00\n"
     ]
    }
   ],
   "source": [
    "sum_asset = 0\n",
    "for df in [df_RMBS_Final, df_loans_first_lien_domestic, df_treasury_and_others, df_other_loan]:\n",
    "    total = df[['<3m', '3m-1y', '1y-3y', '3y-5y', '5y-15y', '>15y']].sum().sum()\n",
    "    sum_asset += total\n",
    "\n",
    "print('total assets:',\"{:,.2f}\".format(sum_asset))"
   ]
  },
  {
   "cell_type": "code",
   "execution_count": 18,
   "id": "0197f339",
   "metadata": {},
   "outputs": [
    {
     "name": "stdout",
     "output_type": "stream",
     "text": [
      "assets ratio: 69.16%\n"
     ]
    }
   ],
   "source": [
    "print('assets ratio:',\"{:,.2%}\".format(sum_asset/total_asset))"
   ]
  },
  {
   "cell_type": "code",
   "execution_count": 19,
   "id": "a0b5022c",
   "metadata": {},
   "outputs": [
    {
     "data": {
      "text/plain": [
       "'9.81%'"
      ]
     },
     "execution_count": 19,
     "metadata": {},
     "output_type": "execute_result"
    }
   ],
   "source": [
    "RMBS = df_RMBS_Final[['<3m', '3m-1y', '1y-3y', '3y-5y', '5y-15y', '>15y']].sum().sum()\n",
    "a = RMBS / total_asset\n",
    "\"{:,.2%}\".format(a)"
   ]
  },
  {
   "cell_type": "code",
   "execution_count": 20,
   "id": "51ab438d",
   "metadata": {},
   "outputs": [
    {
     "data": {
      "text/plain": [
       "'9.28%'"
      ]
     },
     "execution_count": 20,
     "metadata": {},
     "output_type": "execute_result"
    }
   ],
   "source": [
    "df_loans = df_loans_first_lien_domestic[['<3m', '3m-1y', '1y-3y', '3y-5y', '5y-15y', '>15y']].sum().sum()\n",
    "b = df_loans / total_asset\n",
    "\"{:,.2%}\".format(b)"
   ]
  },
  {
   "cell_type": "code",
   "execution_count": 21,
   "id": "5569f81c",
   "metadata": {},
   "outputs": [
    {
     "data": {
      "text/plain": [
       "'12.26%'"
      ]
     },
     "execution_count": 21,
     "metadata": {},
     "output_type": "execute_result"
    }
   ],
   "source": [
    "df_treasury = df_treasury_and_others[['<3m', '3m-1y', '1y-3y', '3y-5y', '5y-15y', '>15y']].sum().sum()\n",
    "c = df_treasury / total_asset\n",
    "\"{:,.2%}\".format(c)"
   ]
  },
  {
   "cell_type": "code",
   "execution_count": 22,
   "id": "eb5914e1",
   "metadata": {},
   "outputs": [
    {
     "data": {
      "text/plain": [
       "'37.81%'"
      ]
     },
     "execution_count": 22,
     "metadata": {},
     "output_type": "execute_result"
    }
   ],
   "source": [
    "df_other_ln = df_other_loan[['<3m', '3m-1y', '1y-3y', '3y-5y', '5y-15y', '>15y']].sum().sum()\n",
    "d = df_other_ln / total_asset\n",
    "\"{:,.2%}\".format(d)"
   ]
  },
  {
   "cell_type": "code",
   "execution_count": 23,
   "id": "5e5b0373",
   "metadata": {},
   "outputs": [
    {
     "data": {
      "text/plain": [
       "'3.98%'"
      ]
     },
     "execution_count": 23,
     "metadata": {},
     "output_type": "execute_result"
    }
   ],
   "source": [
    "df_other_MBS = df_other_MBS_total[['<3y', '>3y']].sum().sum()\n",
    "e = df_other_MBS  / total_asset\n",
    "\"{:,.2%}\".format(e)"
   ]
  },
  {
   "cell_type": "code",
   "execution_count": 24,
   "id": "636b9936",
   "metadata": {},
   "outputs": [
    {
     "data": {
      "text/plain": [
       "'9.35%'"
      ]
     },
     "execution_count": 24,
     "metadata": {},
     "output_type": "execute_result"
    }
   ],
   "source": [
    "df_total_other_ll = df_total_other_loan_lease['<1y'].sum()\n",
    "f = df_total_other_ll / total_asset\n",
    "\"{:,.2%}\".format(f)"
   ]
  },
  {
   "cell_type": "code",
   "execution_count": 25,
   "id": "c7b1ff83",
   "metadata": {},
   "outputs": [
    {
     "data": {
      "text/plain": [
       "'73.14%'"
      ]
     },
     "execution_count": 25,
     "metadata": {},
     "output_type": "execute_result"
    }
   ],
   "source": [
    "\"{:,.2%}\".format(a+b+c+d+e) #matches with the function above"
   ]
  },
  {
   "cell_type": "markdown",
   "id": "2e6c3b28",
   "metadata": {},
   "source": [
    "## roughly the same as the security component (see Panel A)"
   ]
  },
  {
   "cell_type": "code",
   "execution_count": 26,
   "id": "724cef75",
   "metadata": {},
   "outputs": [
    {
     "data": {
      "text/plain": [
       "'26.05%'"
      ]
     },
     "execution_count": 26,
     "metadata": {},
     "output_type": "execute_result"
    }
   ],
   "source": [
    "\"{:,.2%}\".format(a+e+c)"
   ]
  },
  {
   "cell_type": "markdown",
   "id": "8066a4e3",
   "metadata": {},
   "source": [
    "## roughly the same as the total loan component (see Panel A)"
   ]
  },
  {
   "cell_type": "code",
   "execution_count": 27,
   "id": "eb7d21da",
   "metadata": {},
   "outputs": [
    {
     "data": {
      "text/plain": [
       "'47.09%'"
      ]
     },
     "execution_count": 27,
     "metadata": {},
     "output_type": "execute_result"
    }
   ],
   "source": [
    "\"{:,.2%}\".format(d+b)"
   ]
  },
  {
   "cell_type": "markdown",
   "id": "6d517953",
   "metadata": {},
   "source": [
    " "
   ]
  },
  {
   "cell_type": "markdown",
   "id": "5f6091d7",
   "metadata": {},
   "source": [
    "# Table Analysis (Below are the contents for first column of table 1)"
   ]
  },
  {
   "cell_type": "markdown",
   "id": "88ee3d68",
   "metadata": {},
   "source": [
    "# 1. Aggregate Loss and Bank Loss (include each share)"
   ]
  },
  {
   "cell_type": "markdown",
   "id": "52bc311d",
   "metadata": {},
   "source": [
    "###  Treasury prices"
   ]
  },
  {
   "cell_type": "code",
   "execution_count": 28,
   "id": "edc57d30",
   "metadata": {
    "ExecuteTime": {
     "end_time": "2024-02-27T17:58:52.610176200Z",
     "start_time": "2024-02-27T17:58:49.614620800Z"
    }
   },
   "outputs": [
    {
     "data": {
      "text/html": [
       "<div>\n",
       "<style scoped>\n",
       "    .dataframe tbody tr th:only-of-type {\n",
       "        vertical-align: middle;\n",
       "    }\n",
       "\n",
       "    .dataframe tbody tr th {\n",
       "        vertical-align: top;\n",
       "    }\n",
       "\n",
       "    .dataframe thead th {\n",
       "        text-align: right;\n",
       "    }\n",
       "</style>\n",
       "<table border=\"1\" class=\"dataframe\">\n",
       "  <thead>\n",
       "    <tr style=\"text-align: right;\">\n",
       "      <th></th>\n",
       "      <th>iShares 0-1</th>\n",
       "      <th>iShares 1-3</th>\n",
       "      <th>sp 3-5</th>\n",
       "      <th>iShares 7-10</th>\n",
       "      <th>iShares 10-20</th>\n",
       "      <th>iShares 20+</th>\n",
       "    </tr>\n",
       "    <tr>\n",
       "      <th>date</th>\n",
       "      <th></th>\n",
       "      <th></th>\n",
       "      <th></th>\n",
       "      <th></th>\n",
       "      <th></th>\n",
       "      <th></th>\n",
       "    </tr>\n",
       "  </thead>\n",
       "  <tbody>\n",
       "    <tr>\n",
       "      <th>2022-03-31</th>\n",
       "      <td>102.080002</td>\n",
       "      <td>81.459160</td>\n",
       "      <td>490.30</td>\n",
       "      <td>109.055511</td>\n",
       "      <td>138.736893</td>\n",
       "      <td>139.034607</td>\n",
       "    </tr>\n",
       "    <tr>\n",
       "      <th>2022-06-30</th>\n",
       "      <td>101.980003</td>\n",
       "      <td>79.252747</td>\n",
       "      <td>465.35</td>\n",
       "      <td>101.439735</td>\n",
       "      <td>126.306000</td>\n",
       "      <td>124.729774</td>\n",
       "    </tr>\n",
       "    <tr>\n",
       "      <th>2022-09-30</th>\n",
       "      <td>101.980003</td>\n",
       "      <td>79.260551</td>\n",
       "      <td>464.47</td>\n",
       "      <td>98.588120</td>\n",
       "      <td>114.192192</td>\n",
       "      <td>109.723854</td>\n",
       "    </tr>\n",
       "    <tr>\n",
       "      <th>2022-12-31</th>\n",
       "      <td>102.220001</td>\n",
       "      <td>77.765366</td>\n",
       "      <td>445.74</td>\n",
       "      <td>91.988579</td>\n",
       "      <td>103.304291</td>\n",
       "      <td>97.439491</td>\n",
       "    </tr>\n",
       "    <tr>\n",
       "      <th>2023-03-31</th>\n",
       "      <td>103.180000</td>\n",
       "      <td>78.298477</td>\n",
       "      <td>450.77</td>\n",
       "      <td>92.527946</td>\n",
       "      <td>103.718979</td>\n",
       "      <td>95.607788</td>\n",
       "    </tr>\n",
       "    <tr>\n",
       "      <th>2023-06-30</th>\n",
       "      <td>104.309998</td>\n",
       "      <td>79.560150</td>\n",
       "      <td>461.71</td>\n",
       "      <td>96.156395</td>\n",
       "      <td>110.428497</td>\n",
       "      <td>102.662582</td>\n",
       "    </tr>\n",
       "    <tr>\n",
       "      <th>2023-09-30</th>\n",
       "      <td>105.400002</td>\n",
       "      <td>79.060684</td>\n",
       "      <td>455.55</td>\n",
       "      <td>94.346184</td>\n",
       "      <td>107.785049</td>\n",
       "      <td>100.120781</td>\n",
       "    </tr>\n",
       "    <tr>\n",
       "      <th>2023-12-31</th>\n",
       "      <td>106.739998</td>\n",
       "      <td>79.563690</td>\n",
       "      <td>452.71</td>\n",
       "      <td>90.125717</td>\n",
       "      <td>96.766701</td>\n",
       "      <td>86.993179</td>\n",
       "    </tr>\n",
       "  </tbody>\n",
       "</table>\n",
       "</div>"
      ],
      "text/plain": [
       "            iShares 0-1  iShares 1-3  sp 3-5  iShares 7-10  iShares 10-20  \\\n",
       "date                                                                        \n",
       "2022-03-31   102.080002    81.459160  490.30    109.055511     138.736893   \n",
       "2022-06-30   101.980003    79.252747  465.35    101.439735     126.306000   \n",
       "2022-09-30   101.980003    79.260551  464.47     98.588120     114.192192   \n",
       "2022-12-31   102.220001    77.765366  445.74     91.988579     103.304291   \n",
       "2023-03-31   103.180000    78.298477  450.77     92.527946     103.718979   \n",
       "2023-06-30   104.309998    79.560150  461.71     96.156395     110.428497   \n",
       "2023-09-30   105.400002    79.060684  455.55     94.346184     107.785049   \n",
       "2023-12-31   106.739998    79.563690  452.71     90.125717      96.766701   \n",
       "\n",
       "            iShares 20+  \n",
       "date                     \n",
       "2022-03-31   139.034607  \n",
       "2022-06-30   124.729774  \n",
       "2022-09-30   109.723854  \n",
       "2022-12-31    97.439491  \n",
       "2023-03-31    95.607788  \n",
       "2023-06-30   102.662582  \n",
       "2023-09-30   100.120781  \n",
       "2023-12-31    86.993179  "
      ]
     },
     "execution_count": 28,
     "metadata": {},
     "output_type": "execute_result"
    }
   ],
   "source": [
    "combined_index_df = data_read.load_df('combined_index_df')\n",
    "treasury_prices = combined_index_df[['iShares 0-1', 'iShares 1-3', 'sp 3-5', 'iShares 7-10', 'iShares 10-20', 'iShares 20+']]\n",
    "treasury_prices = treasury_prices.resample('Q').first()\n",
    "treasury_prices = treasury_prices.loc[inital_date:analysis_date]\n",
    "treasury_prices"
   ]
  },
  {
   "cell_type": "code",
   "execution_count": 29,
   "id": "4d3ebbc9",
   "metadata": {},
   "outputs": [
    {
     "data": {
      "text/html": [
       "<div>\n",
       "<style scoped>\n",
       "    .dataframe tbody tr th:only-of-type {\n",
       "        vertical-align: middle;\n",
       "    }\n",
       "\n",
       "    .dataframe tbody tr th {\n",
       "        vertical-align: top;\n",
       "    }\n",
       "\n",
       "    .dataframe thead th {\n",
       "        text-align: right;\n",
       "    }\n",
       "</style>\n",
       "<table border=\"1\" class=\"dataframe\">\n",
       "  <thead>\n",
       "    <tr style=\"text-align: right;\">\n",
       "      <th></th>\n",
       "      <th>S&amp;P U.S. Treasury Bond Index</th>\n",
       "    </tr>\n",
       "    <tr>\n",
       "      <th>date</th>\n",
       "      <th></th>\n",
       "    </tr>\n",
       "  </thead>\n",
       "  <tbody>\n",
       "    <tr>\n",
       "      <th>2022-03-31</th>\n",
       "      <td>470.35</td>\n",
       "    </tr>\n",
       "    <tr>\n",
       "      <th>2022-06-30</th>\n",
       "      <td>449.59</td>\n",
       "    </tr>\n",
       "    <tr>\n",
       "      <th>2022-09-30</th>\n",
       "      <td>438.25</td>\n",
       "    </tr>\n",
       "    <tr>\n",
       "      <th>2022-12-31</th>\n",
       "      <td>421.94</td>\n",
       "    </tr>\n",
       "    <tr>\n",
       "      <th>2023-03-31</th>\n",
       "      <td>423.71</td>\n",
       "    </tr>\n",
       "    <tr>\n",
       "      <th>2023-06-30</th>\n",
       "      <td>435.28</td>\n",
       "    </tr>\n",
       "    <tr>\n",
       "      <th>2023-09-30</th>\n",
       "      <td>428.60</td>\n",
       "    </tr>\n",
       "    <tr>\n",
       "      <th>2023-12-31</th>\n",
       "      <td>417.11</td>\n",
       "    </tr>\n",
       "  </tbody>\n",
       "</table>\n",
       "</div>"
      ],
      "text/plain": [
       "            S&P U.S. Treasury Bond Index\n",
       "date                                    \n",
       "2022-03-31                        470.35\n",
       "2022-06-30                        449.59\n",
       "2022-09-30                        438.25\n",
       "2022-12-31                        421.94\n",
       "2023-03-31                        423.71\n",
       "2023-06-30                        435.28\n",
       "2023-09-30                        428.60\n",
       "2023-12-31                        417.11"
      ]
     },
     "execution_count": 29,
     "metadata": {},
     "output_type": "execute_result"
    }
   ],
   "source": [
    "df_SP_Treasury_bond_index = data_read.load_df('Treasury_index',1)\n",
    "df_SP_Treasury_bond_index = df_SP_Treasury_bond_index.resample('Q').first()\n",
    "df_SP_Treasury_bond_index = df_SP_Treasury_bond_index.loc[inital_date:analysis_date]\n",
    "df_SP_Treasury_bond_index\n"
   ]
  },
  {
   "cell_type": "code",
   "execution_count": 30,
   "id": "7c912fe9",
   "metadata": {},
   "outputs": [
    {
     "data": {
      "text/html": [
       "<div>\n",
       "<style scoped>\n",
       "    .dataframe tbody tr th:only-of-type {\n",
       "        vertical-align: middle;\n",
       "    }\n",
       "\n",
       "    .dataframe tbody tr th {\n",
       "        vertical-align: top;\n",
       "    }\n",
       "\n",
       "    .dataframe thead th {\n",
       "        text-align: right;\n",
       "    }\n",
       "</style>\n",
       "<table border=\"1\" class=\"dataframe\">\n",
       "  <thead>\n",
       "    <tr style=\"text-align: right;\">\n",
       "      <th></th>\n",
       "      <th>Open</th>\n",
       "      <th>High</th>\n",
       "      <th>Low</th>\n",
       "      <th>Close</th>\n",
       "      <th>Adj Close</th>\n",
       "      <th>Volume</th>\n",
       "    </tr>\n",
       "    <tr>\n",
       "      <th>date</th>\n",
       "      <th></th>\n",
       "      <th></th>\n",
       "      <th></th>\n",
       "      <th></th>\n",
       "      <th></th>\n",
       "      <th></th>\n",
       "    </tr>\n",
       "  </thead>\n",
       "  <tbody>\n",
       "    <tr>\n",
       "      <th>2022-03-31</th>\n",
       "      <td>107.279999</td>\n",
       "      <td>107.279999</td>\n",
       "      <td>107.000000</td>\n",
       "      <td>107.000000</td>\n",
       "      <td>100.458702</td>\n",
       "      <td>2352200</td>\n",
       "    </tr>\n",
       "    <tr>\n",
       "      <th>2022-06-30</th>\n",
       "      <td>100.940002</td>\n",
       "      <td>101.349998</td>\n",
       "      <td>100.879997</td>\n",
       "      <td>101.260002</td>\n",
       "      <td>95.471237</td>\n",
       "      <td>1854600</td>\n",
       "    </tr>\n",
       "    <tr>\n",
       "      <th>2022-09-30</th>\n",
       "      <td>97.989998</td>\n",
       "      <td>98.599998</td>\n",
       "      <td>97.809998</td>\n",
       "      <td>98.010002</td>\n",
       "      <td>92.840919</td>\n",
       "      <td>1463400</td>\n",
       "    </tr>\n",
       "    <tr>\n",
       "      <th>2022-12-31</th>\n",
       "      <td>92.169998</td>\n",
       "      <td>92.879997</td>\n",
       "      <td>92.120003</td>\n",
       "      <td>92.220001</td>\n",
       "      <td>87.885315</td>\n",
       "      <td>2229800</td>\n",
       "    </tr>\n",
       "    <tr>\n",
       "      <th>2023-03-31</th>\n",
       "      <td>93.559998</td>\n",
       "      <td>93.699997</td>\n",
       "      <td>93.110001</td>\n",
       "      <td>93.190002</td>\n",
       "      <td>89.444168</td>\n",
       "      <td>2060800</td>\n",
       "    </tr>\n",
       "    <tr>\n",
       "      <th>2023-06-30</th>\n",
       "      <td>94.199997</td>\n",
       "      <td>94.940002</td>\n",
       "      <td>94.139999</td>\n",
       "      <td>94.900002</td>\n",
       "      <td>91.806252</td>\n",
       "      <td>1933400</td>\n",
       "    </tr>\n",
       "    <tr>\n",
       "      <th>2023-09-30</th>\n",
       "      <td>92.839996</td>\n",
       "      <td>93.190002</td>\n",
       "      <td>92.699997</td>\n",
       "      <td>92.709999</td>\n",
       "      <td>90.448257</td>\n",
       "      <td>811600</td>\n",
       "    </tr>\n",
       "    <tr>\n",
       "      <th>2023-12-31</th>\n",
       "      <td>87.940002</td>\n",
       "      <td>88.089996</td>\n",
       "      <td>87.519997</td>\n",
       "      <td>87.599998</td>\n",
       "      <td>86.246132</td>\n",
       "      <td>4070300</td>\n",
       "    </tr>\n",
       "  </tbody>\n",
       "</table>\n",
       "</div>"
      ],
      "text/plain": [
       "                  Open        High         Low       Close   Adj Close  \\\n",
       "date                                                                     \n",
       "2022-03-31  107.279999  107.279999  107.000000  107.000000  100.458702   \n",
       "2022-06-30  100.940002  101.349998  100.879997  101.260002   95.471237   \n",
       "2022-09-30   97.989998   98.599998   97.809998   98.010002   92.840919   \n",
       "2022-12-31   92.169998   92.879997   92.120003   92.220001   87.885315   \n",
       "2023-03-31   93.559998   93.699997   93.110001   93.190002   89.444168   \n",
       "2023-06-30   94.199997   94.940002   94.139999   94.900002   91.806252   \n",
       "2023-09-30   92.839996   93.190002   92.699997   92.709999   90.448257   \n",
       "2023-12-31   87.940002   88.089996   87.519997   87.599998   86.246132   \n",
       "\n",
       "             Volume  \n",
       "date                 \n",
       "2022-03-31  2352200  \n",
       "2022-06-30  1854600  \n",
       "2022-09-30  1463400  \n",
       "2022-12-31  2229800  \n",
       "2023-03-31  2060800  \n",
       "2023-06-30  1933400  \n",
       "2023-09-30   811600  \n",
       "2023-12-31  4070300  "
      ]
     },
     "execution_count": 30,
     "metadata": {},
     "output_type": "execute_result"
    }
   ],
   "source": [
    "df_iShare_MBS_ETF = data_read.load_df('MBS_ETF',1,csv=True)\n",
    "df_iShare_MBS_ETF.index = pd.to_datetime(df_iShare_MBS_ETF.index)\n",
    "df_iShare_MBS_ETF = df_iShare_MBS_ETF.resample('Q').first()\n",
    "df_iShare_MBS_ETF.index.rename('date', inplace=True)\n",
    "df_iShare_MBS_ETF = df_iShare_MBS_ETF.loc[inital_date:analysis_date]\n",
    "df_iShare_MBS_ETF"
   ]
  },
  {
   "cell_type": "code",
   "execution_count": 31,
   "id": "ffaaab68",
   "metadata": {},
   "outputs": [
    {
     "data": {
      "text/html": [
       "<div>\n",
       "<style scoped>\n",
       "    .dataframe tbody tr th:only-of-type {\n",
       "        vertical-align: middle;\n",
       "    }\n",
       "\n",
       "    .dataframe tbody tr th {\n",
       "        vertical-align: top;\n",
       "    }\n",
       "\n",
       "    .dataframe thead th {\n",
       "        text-align: right;\n",
       "    }\n",
       "</style>\n",
       "<table border=\"1\" class=\"dataframe\">\n",
       "  <thead>\n",
       "    <tr style=\"text-align: right;\">\n",
       "      <th></th>\n",
       "      <th>Bank_ID</th>\n",
       "      <th>bank_name</th>\n",
       "      <th>report_date</th>\n",
       "      <th>gross_asset</th>\n",
       "    </tr>\n",
       "  </thead>\n",
       "  <tbody>\n",
       "    <tr>\n",
       "      <th>230</th>\n",
       "      <td>12311</td>\n",
       "      <td>HUNTINGTON NATIONAL BANK, THE</td>\n",
       "      <td>03/31/2022</td>\n",
       "      <td>176020595.0</td>\n",
       "    </tr>\n",
       "    <tr>\n",
       "      <th>537</th>\n",
       "      <td>30810</td>\n",
       "      <td>DISCOVER BANK</td>\n",
       "      <td>03/31/2022</td>\n",
       "      <td>105657408.0</td>\n",
       "    </tr>\n",
       "    <tr>\n",
       "      <th>635</th>\n",
       "      <td>35301</td>\n",
       "      <td>STATE STREET BANK AND TRUST COMPANY</td>\n",
       "      <td>03/31/2022</td>\n",
       "      <td>318494000.0</td>\n",
       "    </tr>\n",
       "    <tr>\n",
       "      <th>1095</th>\n",
       "      <td>60143</td>\n",
       "      <td>COMERICA BANK</td>\n",
       "      <td>03/31/2022</td>\n",
       "      <td>89142000.0</td>\n",
       "    </tr>\n",
       "    <tr>\n",
       "      <th>1170</th>\n",
       "      <td>63069</td>\n",
       "      <td>CITY NATIONAL BANK</td>\n",
       "      <td>03/31/2022</td>\n",
       "      <td>91770285.0</td>\n",
       "    </tr>\n",
       "    <tr>\n",
       "      <th>...</th>\n",
       "      <td>...</td>\n",
       "      <td>...</td>\n",
       "      <td>...</td>\n",
       "      <td>...</td>\n",
       "    </tr>\n",
       "    <tr>\n",
       "      <th>23870</th>\n",
       "      <td>5620869</td>\n",
       "      <td>GENESIS BANK</td>\n",
       "      <td>03/31/2022</td>\n",
       "      <td>95052.0</td>\n",
       "    </tr>\n",
       "    <tr>\n",
       "      <th>23875</th>\n",
       "      <td>5650923</td>\n",
       "      <td>WATERFALL BANK</td>\n",
       "      <td>03/31/2022</td>\n",
       "      <td>87152.0</td>\n",
       "    </tr>\n",
       "    <tr>\n",
       "      <th>23880</th>\n",
       "      <td>5660146</td>\n",
       "      <td>ENTREBANK</td>\n",
       "      <td>03/31/2022</td>\n",
       "      <td>35261.0</td>\n",
       "    </tr>\n",
       "    <tr>\n",
       "      <th>23885</th>\n",
       "      <td>5673191</td>\n",
       "      <td>LOCALITY BANK</td>\n",
       "      <td>03/31/2022</td>\n",
       "      <td>43775.0</td>\n",
       "    </tr>\n",
       "    <tr>\n",
       "      <th>23894</th>\n",
       "      <td>5691319</td>\n",
       "      <td>SCOTTSDALE COMMUNITY BANK</td>\n",
       "      <td>03/31/2022</td>\n",
       "      <td>19216.0</td>\n",
       "    </tr>\n",
       "  </tbody>\n",
       "</table>\n",
       "<p>4844 rows × 4 columns</p>\n",
       "</div>"
      ],
      "text/plain": [
       "       Bank_ID                            bank_name report_date  gross_asset\n",
       "230      12311        HUNTINGTON NATIONAL BANK, THE  03/31/2022  176020595.0\n",
       "537      30810                        DISCOVER BANK  03/31/2022  105657408.0\n",
       "635      35301  STATE STREET BANK AND TRUST COMPANY  03/31/2022  318494000.0\n",
       "1095     60143                        COMERICA BANK  03/31/2022   89142000.0\n",
       "1170     63069                   CITY NATIONAL BANK  03/31/2022   91770285.0\n",
       "...        ...                                  ...         ...          ...\n",
       "23870  5620869                         GENESIS BANK  03/31/2022      95052.0\n",
       "23875  5650923                       WATERFALL BANK  03/31/2022      87152.0\n",
       "23880  5660146                            ENTREBANK  03/31/2022      35261.0\n",
       "23885  5673191                        LOCALITY BANK  03/31/2022      43775.0\n",
       "23894  5691319            SCOTTSDALE COMMUNITY BANK  03/31/2022      19216.0\n",
       "\n",
       "[4844 rows x 4 columns]"
      ]
     },
     "execution_count": 31,
     "metadata": {},
     "output_type": "execute_result"
    }
   ],
   "source": [
    "df_asset"
   ]
  },
  {
   "cell_type": "code",
   "execution_count": 32,
   "id": "ddfba33f",
   "metadata": {},
   "outputs": [
    {
     "data": {
      "text/plain": [
       "1.2498795310682302"
      ]
     },
     "execution_count": 32,
     "metadata": {},
     "output_type": "execute_result"
    }
   ],
   "source": [
    "RMBS_Multiplier = calc_functions.RMBs_Multiplier(df_SP_Treasury_bond_index, df_iShare_MBS_ETF,inital_date,analysis_date)\n",
    "RMBS_Multiplier"
   ]
  },
  {
   "cell_type": "code",
   "execution_count": 33,
   "id": "bdeafce6",
   "metadata": {},
   "outputs": [],
   "source": [
    "#Create copies for each dataframe\n",
    "df_RMBS_Final_1 = df_RMBS_Final.copy() \n",
    "df_loans_first_lien_domestic_1 = df_loans_first_lien_domestic.copy()\n",
    "df_treasury_and_others_1 = df_treasury_and_others.copy()\n",
    "df_other_loan_1 = df_other_loan.copy()"
   ]
  },
  {
   "cell_type": "code",
   "execution_count": 34,
   "id": "5018d3f4",
   "metadata": {},
   "outputs": [
    {
     "data": {
      "text/html": [
       "<div>\n",
       "<style scoped>\n",
       "    .dataframe tbody tr th:only-of-type {\n",
       "        vertical-align: middle;\n",
       "    }\n",
       "\n",
       "    .dataframe tbody tr th {\n",
       "        vertical-align: top;\n",
       "    }\n",
       "\n",
       "    .dataframe thead th {\n",
       "        text-align: right;\n",
       "    }\n",
       "</style>\n",
       "<table border=\"1\" class=\"dataframe\">\n",
       "  <thead>\n",
       "    <tr style=\"text-align: right;\">\n",
       "      <th></th>\n",
       "      <th>bank_name</th>\n",
       "      <th>bank_ID</th>\n",
       "      <th>RMBs_loss</th>\n",
       "      <th>treasury_loss</th>\n",
       "      <th>loans_loss</th>\n",
       "      <th>other_loan_loss</th>\n",
       "      <th>total_loss</th>\n",
       "      <th>Share RMBs</th>\n",
       "      <th>Share Treasury and Other</th>\n",
       "      <th>Share Residential Mortgage</th>\n",
       "      <th>Share Other Loan</th>\n",
       "      <th>RMBs_asset</th>\n",
       "      <th>treasury_asset</th>\n",
       "      <th>residential_mortgage_asset</th>\n",
       "      <th>other_loan_asset</th>\n",
       "      <th>core_asset</th>\n",
       "      <th>gross_asset</th>\n",
       "      <th>loss/core_asset</th>\n",
       "      <th>loss/gross_asset</th>\n",
       "    </tr>\n",
       "  </thead>\n",
       "  <tbody>\n",
       "    <tr>\n",
       "      <th>0</th>\n",
       "      <td>HUNTINGTON NATIONAL BANK, THE</td>\n",
       "      <td>12311</td>\n",
       "      <td>-1.097136e+07</td>\n",
       "      <td>-9.578672e+05</td>\n",
       "      <td>-7.514459e+06</td>\n",
       "      <td>-2.987875e+06</td>\n",
       "      <td>-2.243156e+07</td>\n",
       "      <td>48.910375</td>\n",
       "      <td>4.270176</td>\n",
       "      <td>33.499489</td>\n",
       "      <td>13.319960</td>\n",
       "      <td>23910558.0</td>\n",
       "      <td>6623679.0</td>\n",
       "      <td>22529389</td>\n",
       "      <td>92122592.0</td>\n",
       "      <td>145186218.0</td>\n",
       "      <td>176020595.0</td>\n",
       "      <td>0.154502</td>\n",
       "      <td>0.127437</td>\n",
       "    </tr>\n",
       "    <tr>\n",
       "      <th>1</th>\n",
       "      <td>DISCOVER BANK</td>\n",
       "      <td>30810</td>\n",
       "      <td>-1.276556e+05</td>\n",
       "      <td>-2.655136e+04</td>\n",
       "      <td>-3.451989e+05</td>\n",
       "      <td>3.215732e+05</td>\n",
       "      <td>-1.778327e+05</td>\n",
       "      <td>71.784105</td>\n",
       "      <td>14.930531</td>\n",
       "      <td>194.114454</td>\n",
       "      <td>-180.829090</td>\n",
       "      <td>364810.0</td>\n",
       "      <td>5612015.0</td>\n",
       "      <td>804718</td>\n",
       "      <td>92452467.0</td>\n",
       "      <td>99234010.0</td>\n",
       "      <td>105657408.0</td>\n",
       "      <td>0.001792</td>\n",
       "      <td>0.001683</td>\n",
       "    </tr>\n",
       "    <tr>\n",
       "      <th>2</th>\n",
       "      <td>STATE STREET BANK AND TRUST COMPANY</td>\n",
       "      <td>35301</td>\n",
       "      <td>-9.932409e+06</td>\n",
       "      <td>-2.278605e+06</td>\n",
       "      <td>0.000000e+00</td>\n",
       "      <td>6.051207e+05</td>\n",
       "      <td>-1.160589e+07</td>\n",
       "      <td>85.580738</td>\n",
       "      <td>19.633171</td>\n",
       "      <td>-0.000000</td>\n",
       "      <td>-5.213909</td>\n",
       "      <td>22436000.0</td>\n",
       "      <td>62518000.0</td>\n",
       "      <td>0</td>\n",
       "      <td>35293000.0</td>\n",
       "      <td>120247000.0</td>\n",
       "      <td>318494000.0</td>\n",
       "      <td>0.096517</td>\n",
       "      <td>0.036440</td>\n",
       "    </tr>\n",
       "    <tr>\n",
       "      <th>3</th>\n",
       "      <td>COMERICA BANK</td>\n",
       "      <td>60143</td>\n",
       "      <td>-4.264916e+06</td>\n",
       "      <td>-5.217943e+05</td>\n",
       "      <td>-4.569991e+05</td>\n",
       "      <td>1.448761e+06</td>\n",
       "      <td>-3.794949e+06</td>\n",
       "      <td>112.384019</td>\n",
       "      <td>13.749704</td>\n",
       "      <td>12.042297</td>\n",
       "      <td>-38.176020</td>\n",
       "      <td>9378000.0</td>\n",
       "      <td>4835000.0</td>\n",
       "      <td>1825000</td>\n",
       "      <td>47475000.0</td>\n",
       "      <td>63513000.0</td>\n",
       "      <td>89142000.0</td>\n",
       "      <td>0.059751</td>\n",
       "      <td>0.042572</td>\n",
       "    </tr>\n",
       "    <tr>\n",
       "      <th>4</th>\n",
       "      <td>CITY NATIONAL BANK</td>\n",
       "      <td>63069</td>\n",
       "      <td>-1.063489e+05</td>\n",
       "      <td>-3.593933e+05</td>\n",
       "      <td>-6.203280e+06</td>\n",
       "      <td>-9.497244e+05</td>\n",
       "      <td>-7.618747e+06</td>\n",
       "      <td>1.395884</td>\n",
       "      <td>4.717223</td>\n",
       "      <td>81.421268</td>\n",
       "      <td>12.465625</td>\n",
       "      <td>336792.0</td>\n",
       "      <td>5698026.0</td>\n",
       "      <td>19072816</td>\n",
       "      <td>39175374.0</td>\n",
       "      <td>64283008.0</td>\n",
       "      <td>91770285.0</td>\n",
       "      <td>0.118519</td>\n",
       "      <td>0.083020</td>\n",
       "    </tr>\n",
       "    <tr>\n",
       "      <th>...</th>\n",
       "      <td>...</td>\n",
       "      <td>...</td>\n",
       "      <td>...</td>\n",
       "      <td>...</td>\n",
       "      <td>...</td>\n",
       "      <td>...</td>\n",
       "      <td>...</td>\n",
       "      <td>...</td>\n",
       "      <td>...</td>\n",
       "      <td>...</td>\n",
       "      <td>...</td>\n",
       "      <td>...</td>\n",
       "      <td>...</td>\n",
       "      <td>...</td>\n",
       "      <td>...</td>\n",
       "      <td>...</td>\n",
       "      <td>...</td>\n",
       "      <td>...</td>\n",
       "      <td>...</td>\n",
       "    </tr>\n",
       "    <tr>\n",
       "      <th>4839</th>\n",
       "      <td>GENESIS BANK</td>\n",
       "      <td>5620869</td>\n",
       "      <td>0.000000e+00</td>\n",
       "      <td>0.000000e+00</td>\n",
       "      <td>0.000000e+00</td>\n",
       "      <td>-9.029200e+03</td>\n",
       "      <td>-9.029200e+03</td>\n",
       "      <td>-0.000000</td>\n",
       "      <td>-0.000000</td>\n",
       "      <td>-0.000000</td>\n",
       "      <td>100.000000</td>\n",
       "      <td>0.0</td>\n",
       "      <td>0.0</td>\n",
       "      <td>0</td>\n",
       "      <td>59836.0</td>\n",
       "      <td>59836.0</td>\n",
       "      <td>95052.0</td>\n",
       "      <td>0.150899</td>\n",
       "      <td>0.094992</td>\n",
       "    </tr>\n",
       "    <tr>\n",
       "      <th>4840</th>\n",
       "      <td>WATERFALL BANK</td>\n",
       "      <td>5650923</td>\n",
       "      <td>-3.100823e+03</td>\n",
       "      <td>-6.458241e+02</td>\n",
       "      <td>0.000000e+00</td>\n",
       "      <td>-3.820399e+03</td>\n",
       "      <td>-7.567046e+03</td>\n",
       "      <td>40.977982</td>\n",
       "      <td>8.534692</td>\n",
       "      <td>-0.000000</td>\n",
       "      <td>50.487326</td>\n",
       "      <td>6628.0</td>\n",
       "      <td>2713.0</td>\n",
       "      <td>0</td>\n",
       "      <td>24447.0</td>\n",
       "      <td>33788.0</td>\n",
       "      <td>87152.0</td>\n",
       "      <td>0.223957</td>\n",
       "      <td>0.086826</td>\n",
       "    </tr>\n",
       "    <tr>\n",
       "      <th>4841</th>\n",
       "      <td>ENTREBANK</td>\n",
       "      <td>5660146</td>\n",
       "      <td>0.000000e+00</td>\n",
       "      <td>0.000000e+00</td>\n",
       "      <td>0.000000e+00</td>\n",
       "      <td>-2.386654e+02</td>\n",
       "      <td>-2.386654e+02</td>\n",
       "      <td>-0.000000</td>\n",
       "      <td>-0.000000</td>\n",
       "      <td>-0.000000</td>\n",
       "      <td>100.000000</td>\n",
       "      <td>0.0</td>\n",
       "      <td>0.0</td>\n",
       "      <td>0</td>\n",
       "      <td>3113.0</td>\n",
       "      <td>3113.0</td>\n",
       "      <td>35261.0</td>\n",
       "      <td>0.076667</td>\n",
       "      <td>0.006769</td>\n",
       "    </tr>\n",
       "    <tr>\n",
       "      <th>4842</th>\n",
       "      <td>LOCALITY BANK</td>\n",
       "      <td>5673191</td>\n",
       "      <td>0.000000e+00</td>\n",
       "      <td>0.000000e+00</td>\n",
       "      <td>0.000000e+00</td>\n",
       "      <td>-7.856424e+02</td>\n",
       "      <td>-7.856424e+02</td>\n",
       "      <td>-0.000000</td>\n",
       "      <td>-0.000000</td>\n",
       "      <td>-0.000000</td>\n",
       "      <td>100.000000</td>\n",
       "      <td>0.0</td>\n",
       "      <td>0.0</td>\n",
       "      <td>0</td>\n",
       "      <td>8312.0</td>\n",
       "      <td>8312.0</td>\n",
       "      <td>43775.0</td>\n",
       "      <td>0.094519</td>\n",
       "      <td>0.017947</td>\n",
       "    </tr>\n",
       "    <tr>\n",
       "      <th>4843</th>\n",
       "      <td>SCOTTSDALE COMMUNITY BANK</td>\n",
       "      <td>5691319</td>\n",
       "      <td>-5.235436e+02</td>\n",
       "      <td>-1.256753e+02</td>\n",
       "      <td>0.000000e+00</td>\n",
       "      <td>0.000000e+00</td>\n",
       "      <td>-6.492189e+02</td>\n",
       "      <td>80.642074</td>\n",
       "      <td>19.357926</td>\n",
       "      <td>-0.000000</td>\n",
       "      <td>-0.000000</td>\n",
       "      <td>1474.0</td>\n",
       "      <td>2996.0</td>\n",
       "      <td>0</td>\n",
       "      <td>0.0</td>\n",
       "      <td>4470.0</td>\n",
       "      <td>19216.0</td>\n",
       "      <td>0.145239</td>\n",
       "      <td>0.033785</td>\n",
       "    </tr>\n",
       "  </tbody>\n",
       "</table>\n",
       "<p>4844 rows × 19 columns</p>\n",
       "</div>"
      ],
      "text/plain": [
       "                                bank_name  bank_ID     RMBs_loss  \\\n",
       "0           HUNTINGTON NATIONAL BANK, THE    12311 -1.097136e+07   \n",
       "1                           DISCOVER BANK    30810 -1.276556e+05   \n",
       "2     STATE STREET BANK AND TRUST COMPANY    35301 -9.932409e+06   \n",
       "3                           COMERICA BANK    60143 -4.264916e+06   \n",
       "4                      CITY NATIONAL BANK    63069 -1.063489e+05   \n",
       "...                                   ...      ...           ...   \n",
       "4839                         GENESIS BANK  5620869  0.000000e+00   \n",
       "4840                       WATERFALL BANK  5650923 -3.100823e+03   \n",
       "4841                            ENTREBANK  5660146  0.000000e+00   \n",
       "4842                        LOCALITY BANK  5673191  0.000000e+00   \n",
       "4843            SCOTTSDALE COMMUNITY BANK  5691319 -5.235436e+02   \n",
       "\n",
       "      treasury_loss    loans_loss  other_loan_loss    total_loss  Share RMBs  \\\n",
       "0     -9.578672e+05 -7.514459e+06    -2.987875e+06 -2.243156e+07   48.910375   \n",
       "1     -2.655136e+04 -3.451989e+05     3.215732e+05 -1.778327e+05   71.784105   \n",
       "2     -2.278605e+06  0.000000e+00     6.051207e+05 -1.160589e+07   85.580738   \n",
       "3     -5.217943e+05 -4.569991e+05     1.448761e+06 -3.794949e+06  112.384019   \n",
       "4     -3.593933e+05 -6.203280e+06    -9.497244e+05 -7.618747e+06    1.395884   \n",
       "...             ...           ...              ...           ...         ...   \n",
       "4839   0.000000e+00  0.000000e+00    -9.029200e+03 -9.029200e+03   -0.000000   \n",
       "4840  -6.458241e+02  0.000000e+00    -3.820399e+03 -7.567046e+03   40.977982   \n",
       "4841   0.000000e+00  0.000000e+00    -2.386654e+02 -2.386654e+02   -0.000000   \n",
       "4842   0.000000e+00  0.000000e+00    -7.856424e+02 -7.856424e+02   -0.000000   \n",
       "4843  -1.256753e+02  0.000000e+00     0.000000e+00 -6.492189e+02   80.642074   \n",
       "\n",
       "      Share Treasury and Other  Share Residential Mortgage  Share Other Loan  \\\n",
       "0                     4.270176                   33.499489         13.319960   \n",
       "1                    14.930531                  194.114454       -180.829090   \n",
       "2                    19.633171                   -0.000000         -5.213909   \n",
       "3                    13.749704                   12.042297        -38.176020   \n",
       "4                     4.717223                   81.421268         12.465625   \n",
       "...                        ...                         ...               ...   \n",
       "4839                 -0.000000                   -0.000000        100.000000   \n",
       "4840                  8.534692                   -0.000000         50.487326   \n",
       "4841                 -0.000000                   -0.000000        100.000000   \n",
       "4842                 -0.000000                   -0.000000        100.000000   \n",
       "4843                 19.357926                   -0.000000         -0.000000   \n",
       "\n",
       "      RMBs_asset  treasury_asset  residential_mortgage_asset  \\\n",
       "0     23910558.0       6623679.0                    22529389   \n",
       "1       364810.0       5612015.0                      804718   \n",
       "2     22436000.0      62518000.0                           0   \n",
       "3      9378000.0       4835000.0                     1825000   \n",
       "4       336792.0       5698026.0                    19072816   \n",
       "...          ...             ...                         ...   \n",
       "4839         0.0             0.0                           0   \n",
       "4840      6628.0          2713.0                           0   \n",
       "4841         0.0             0.0                           0   \n",
       "4842         0.0             0.0                           0   \n",
       "4843      1474.0          2996.0                           0   \n",
       "\n",
       "      other_loan_asset   core_asset  gross_asset  loss/core_asset  \\\n",
       "0           92122592.0  145186218.0  176020595.0         0.154502   \n",
       "1           92452467.0   99234010.0  105657408.0         0.001792   \n",
       "2           35293000.0  120247000.0  318494000.0         0.096517   \n",
       "3           47475000.0   63513000.0   89142000.0         0.059751   \n",
       "4           39175374.0   64283008.0   91770285.0         0.118519   \n",
       "...                ...          ...          ...              ...   \n",
       "4839           59836.0      59836.0      95052.0         0.150899   \n",
       "4840           24447.0      33788.0      87152.0         0.223957   \n",
       "4841            3113.0       3113.0      35261.0         0.076667   \n",
       "4842            8312.0       8312.0      43775.0         0.094519   \n",
       "4843               0.0       4470.0      19216.0         0.145239   \n",
       "\n",
       "      loss/gross_asset  \n",
       "0             0.127437  \n",
       "1             0.001683  \n",
       "2             0.036440  \n",
       "3             0.042572  \n",
       "4             0.083020  \n",
       "...                ...  \n",
       "4839          0.094992  \n",
       "4840          0.086826  \n",
       "4841          0.006769  \n",
       "4842          0.017947  \n",
       "4843          0.033785  \n",
       "\n",
       "[4844 rows x 19 columns]"
      ]
     },
     "execution_count": 34,
     "metadata": {},
     "output_type": "execute_result"
    }
   ],
   "source": [
    "bank_losses = calc_functions.report_losses(inital_date,analysis_date,df_RMBS_Final, df_loans_first_lien_domestic,\\\n",
    "                                            df_treasury_and_others, df_other_loan, treasury_prices, RMBS_Multiplier, df_asset)\n",
    "bank_losses"
   ]
  },
  {
   "cell_type": "code",
   "execution_count": 35,
   "id": "947b94c6",
   "metadata": {},
   "outputs": [
    {
     "data": {
      "text/plain": [
       "Share RMBs                     8.936900\n",
       "Share Treasury and Other      17.421553\n",
       "Share Residential Mortgage    20.136596\n",
       "Share Other Loan              30.847693\n",
       "dtype: float64"
      ]
     },
     "execution_count": 35,
     "metadata": {},
     "output_type": "execute_result"
    }
   ],
   "source": [
    "median_percentage = bank_losses[['Share RMBs', 'Share Treasury and Other', \n",
    "        'Share Residential Mortgage', 'Share Other Loan']].median()\n",
    "median_percentage\n",
    "#close to reported values, but the distribution looks good"
   ]
  },
  {
   "cell_type": "code",
   "execution_count": 36,
   "id": "704118d2",
   "metadata": {},
   "outputs": [
    {
     "data": {
      "text/plain": [
       "Share RMBs                     33.875838\n",
       "Share Treasury and Other       56.802442\n",
       "Share Residential Mortgage     86.194508\n",
       "Share Other Loan              103.781097\n",
       "dtype: float64"
      ]
     },
     "execution_count": 36,
     "metadata": {},
     "output_type": "execute_result"
    }
   ],
   "source": [
    "std_percentages =bank_losses[['Share RMBs', 'Share Treasury and Other', \n",
    "        'Share Residential Mortgage', 'Share Other Loan']].std()\n",
    "std_percentages #this is slightly different "
   ]
  },
  {
   "cell_type": "markdown",
   "id": "522b9c6d",
   "metadata": {},
   "source": [
    "## Total, median, and std of losses"
   ]
  },
  {
   "cell_type": "code",
   "execution_count": 37,
   "id": "f93f3744",
   "metadata": {},
   "outputs": [
    {
     "data": {
      "text/plain": [
       "-2338613159.696033"
      ]
     },
     "execution_count": 37,
     "metadata": {},
     "output_type": "execute_result"
    }
   ],
   "source": [
    "total_sum_loss = bank_losses['total_loss'].sum()\n",
    "total_sum_loss"
   ]
  },
  {
   "cell_type": "code",
   "execution_count": 38,
   "id": "efb66ec7",
   "metadata": {},
   "outputs": [
    {
     "data": {
      "text/plain": [
       "-32489.424964474798"
      ]
     },
     "execution_count": 38,
     "metadata": {},
     "output_type": "execute_result"
    }
   ],
   "source": [
    "median_bank_loss = bank_losses['total_loss'].median()\n",
    "median_bank_loss "
   ]
  },
  {
   "cell_type": "code",
   "execution_count": 39,
   "id": "4b1c9166",
   "metadata": {},
   "outputs": [
    {
     "data": {
      "text/plain": [
       "7838968.539039594"
      ]
     },
     "execution_count": 39,
     "metadata": {},
     "output_type": "execute_result"
    }
   ],
   "source": [
    "std_bank_loss = bank_losses['total_loss'].std()\n",
    "std_bank_loss"
   ]
  },
  {
   "cell_type": "markdown",
   "id": "c05fcfcd",
   "metadata": {},
   "source": [
    "## Checks"
   ]
  },
  {
   "cell_type": "code",
   "execution_count": 40,
   "id": "e94a6864",
   "metadata": {},
   "outputs": [
    {
     "data": {
      "text/plain": [
       "16590518404.0"
      ]
     },
     "execution_count": 40,
     "metadata": {},
     "output_type": "execute_result"
    }
   ],
   "source": [
    "core_asset = bank_losses['core_asset'].sum()\n",
    "core_asset"
   ]
  },
  {
   "cell_type": "code",
   "execution_count": 41,
   "id": "e37dc638",
   "metadata": {},
   "outputs": [
    {
     "data": {
      "text/plain": [
       "23988517644.0"
      ]
     },
     "execution_count": 41,
     "metadata": {},
     "output_type": "execute_result"
    }
   ],
   "source": [
    "gross_asset = bank_losses['gross_asset'].sum()\n",
    "gross_asset "
   ]
  },
  {
   "cell_type": "code",
   "execution_count": 42,
   "id": "8d046198",
   "metadata": {},
   "outputs": [
    {
     "data": {
      "text/plain": [
       "0.6916024845807683"
      ]
     },
     "execution_count": 42,
     "metadata": {},
     "output_type": "execute_result"
    }
   ],
   "source": [
    "core_asset / gross_asset"
   ]
  },
  {
   "cell_type": "markdown",
   "id": "e4316b18",
   "metadata": {},
   "source": [
    "# 2. Loss / Asset"
   ]
  },
  {
   "cell_type": "markdown",
   "id": "962ffbc9",
   "metadata": {},
   "source": [
    "## Ratio Results"
   ]
  },
  {
   "cell_type": "code",
   "execution_count": 43,
   "id": "bc83dfa1",
   "metadata": {},
   "outputs": [
    {
     "data": {
      "text/plain": [
       "0.10473796053386572"
      ]
     },
     "execution_count": 43,
     "metadata": {},
     "output_type": "execute_result"
    }
   ],
   "source": [
    "median_loss_asset_ratio = bank_losses['loss/gross_asset'].median()\n",
    "median_loss_asset_ratio"
   ]
  },
  {
   "cell_type": "code",
   "execution_count": 44,
   "id": "b93234c7",
   "metadata": {},
   "outputs": [
    {
     "data": {
      "text/plain": [
       "0.11264914503898231"
      ]
     },
     "execution_count": 44,
     "metadata": {},
     "output_type": "execute_result"
    }
   ],
   "source": [
    "average_loss_asset_ratio = bank_losses['loss/gross_asset'].mean()\n",
    "average_loss_asset_ratio"
   ]
  },
  {
   "cell_type": "code",
   "execution_count": 45,
   "id": "427e7af7",
   "metadata": {},
   "outputs": [
    {
     "data": {
      "text/plain": [
       "0.06690484537220656"
      ]
     },
     "execution_count": 45,
     "metadata": {},
     "output_type": "execute_result"
    }
   ],
   "source": [
    "std_loss_asset_ratio = bank_losses['loss/gross_asset'].std()\n",
    "std_loss_asset_ratio"
   ]
  },
  {
   "cell_type": "markdown",
   "id": "19daeec6",
   "metadata": {},
   "source": [
    "### 3. Uninsured Deposit/MM Asset"
   ]
  },
  {
   "cell_type": "code",
   "execution_count": 46,
   "id": "953ce17c",
   "metadata": {},
   "outputs": [],
   "source": [
    "uninsured_deposit = rcon_data_1[['RSSD9001','RSSD9017', 'RSSD9999', 'RCON5597']]\n",
    "uninsured_deposit = uninsured_deposit .rename(columns={\n",
    "    'RSSD9001': 'bank_ID',\n",
    "    'RSSD9017': 'bank_name',\n",
    "    'RSSD9999': 'report_date',\n",
    "    'RCON5597': 'uninsured_deposit'\n",
    "\n",
    "})\n",
    "uninsured_deposit = uninsured_deposit[uninsured_deposit['report_date'] == '03/31/2022']"
   ]
  },
  {
   "cell_type": "code",
   "execution_count": 47,
   "id": "834f27e8",
   "metadata": {},
   "outputs": [
    {
     "data": {
      "text/plain": [
       "8585747730.0"
      ]
     },
     "execution_count": 47,
     "metadata": {},
     "output_type": "execute_result"
    }
   ],
   "source": [
    "uninsured_deposit['uninsured_deposit'].sum() #Roughly 9 trillion "
   ]
  },
  {
   "cell_type": "markdown",
   "id": "30481528",
   "metadata": {},
   "source": [
    "#### 4. Insured Deposit Coverage Ratio - CURRENTLY NOT WORKING"
   ]
  },
  {
   "cell_type": "code",
   "execution_count": 48,
   "id": "9898336f",
   "metadata": {},
   "outputs": [
    {
     "data": {
      "text/plain": [
       "0.33296701528357264"
      ]
     },
     "execution_count": 48,
     "metadata": {},
     "output_type": "execute_result"
    }
   ],
   "source": [
    "insured_deposit = rcon_data_1[['RSSD9001','RSSD9017', 'RSSD9999', 'RCONF049', 'RCONF045']] \n",
    "#RCFDF049 are Deposit accounts (excluding retirement accounts) of $250,000 or less\n",
    "#RCFDF045 are Retirement deposit accounts of $250,000 or less\n",
    "\n",
    "insured_deposit = insured_deposit.rename(columns={\n",
    "    'RSSD9001': 'bank_ID',\n",
    "    'RSSD9017': 'bank_name',\n",
    "    'RSSD9999': 'report_date',\n",
    "    'RCONF049': 'insured_deposit_1',\n",
    "    'RCONF045': 'insured_deposit_2'\n",
    "})\n",
    "insured_deposit = insured_deposit[insured_deposit['report_date'] == '03/31/2022']\n",
    "insured_deposit['insured_deposit_1'].sum()/total_asset + insured_deposit['insured_deposit_2'].sum()/total_asset"
   ]
  },
  {
   "cell_type": "code",
   "execution_count": 49,
   "id": "51354ae7",
   "metadata": {},
   "outputs": [
    {
     "data": {
      "text/html": [
       "<div>\n",
       "<style scoped>\n",
       "    .dataframe tbody tr th:only-of-type {\n",
       "        vertical-align: middle;\n",
       "    }\n",
       "\n",
       "    .dataframe tbody tr th {\n",
       "        vertical-align: top;\n",
       "    }\n",
       "\n",
       "    .dataframe thead th {\n",
       "        text-align: right;\n",
       "    }\n",
       "</style>\n",
       "<table border=\"1\" class=\"dataframe\">\n",
       "  <thead>\n",
       "    <tr style=\"text-align: right;\">\n",
       "      <th></th>\n",
       "      <th>bank_ID</th>\n",
       "      <th>bank_name</th>\n",
       "      <th>report_date</th>\n",
       "      <th>insured_deposit_1</th>\n",
       "      <th>insured_deposit_2</th>\n",
       "      <th>insured_deposit</th>\n",
       "    </tr>\n",
       "  </thead>\n",
       "  <tbody>\n",
       "    <tr>\n",
       "      <th>0</th>\n",
       "      <td>37</td>\n",
       "      <td>BANK OF HANCOCK COUNTY</td>\n",
       "      <td>03/31/2022</td>\n",
       "      <td>57430.0</td>\n",
       "      <td>2428.0</td>\n",
       "      <td>59858.0</td>\n",
       "    </tr>\n",
       "    <tr>\n",
       "      <th>5</th>\n",
       "      <td>242</td>\n",
       "      <td>FIRST COMMUNITY BANK XENIA-FLORA</td>\n",
       "      <td>03/31/2022</td>\n",
       "      <td>33454.0</td>\n",
       "      <td>1385.0</td>\n",
       "      <td>34839.0</td>\n",
       "    </tr>\n",
       "    <tr>\n",
       "      <th>10</th>\n",
       "      <td>279</td>\n",
       "      <td>MINEOLA COMMUNITY BANK, SSB</td>\n",
       "      <td>03/31/2022</td>\n",
       "      <td>197561.0</td>\n",
       "      <td>11879.0</td>\n",
       "      <td>209440.0</td>\n",
       "    </tr>\n",
       "    <tr>\n",
       "      <th>15</th>\n",
       "      <td>354</td>\n",
       "      <td>BISON STATE BANK</td>\n",
       "      <td>03/31/2022</td>\n",
       "      <td>9794.0</td>\n",
       "      <td>0.0</td>\n",
       "      <td>9794.0</td>\n",
       "    </tr>\n",
       "    <tr>\n",
       "      <th>20</th>\n",
       "      <td>457</td>\n",
       "      <td>LOWRY STATE BANK</td>\n",
       "      <td>03/31/2022</td>\n",
       "      <td>34905.0</td>\n",
       "      <td>2229.0</td>\n",
       "      <td>37134.0</td>\n",
       "    </tr>\n",
       "    <tr>\n",
       "      <th>...</th>\n",
       "      <td>...</td>\n",
       "      <td>...</td>\n",
       "      <td>...</td>\n",
       "      <td>...</td>\n",
       "      <td>...</td>\n",
       "      <td>...</td>\n",
       "    </tr>\n",
       "    <tr>\n",
       "      <th>23870</th>\n",
       "      <td>5620869</td>\n",
       "      <td>GENESIS BANK</td>\n",
       "      <td>03/31/2022</td>\n",
       "      <td>9402.0</td>\n",
       "      <td>0.0</td>\n",
       "      <td>9402.0</td>\n",
       "    </tr>\n",
       "    <tr>\n",
       "      <th>23875</th>\n",
       "      <td>5650923</td>\n",
       "      <td>WATERFALL BANK</td>\n",
       "      <td>03/31/2022</td>\n",
       "      <td>7911.0</td>\n",
       "      <td>0.0</td>\n",
       "      <td>7911.0</td>\n",
       "    </tr>\n",
       "    <tr>\n",
       "      <th>23880</th>\n",
       "      <td>5660146</td>\n",
       "      <td>ENTREBANK</td>\n",
       "      <td>03/31/2022</td>\n",
       "      <td>1020.0</td>\n",
       "      <td>0.0</td>\n",
       "      <td>1020.0</td>\n",
       "    </tr>\n",
       "    <tr>\n",
       "      <th>23885</th>\n",
       "      <td>5673191</td>\n",
       "      <td>LOCALITY BANK</td>\n",
       "      <td>03/31/2022</td>\n",
       "      <td>912.0</td>\n",
       "      <td>0.0</td>\n",
       "      <td>912.0</td>\n",
       "    </tr>\n",
       "    <tr>\n",
       "      <th>23894</th>\n",
       "      <td>5691319</td>\n",
       "      <td>SCOTTSDALE COMMUNITY BANK</td>\n",
       "      <td>03/31/2022</td>\n",
       "      <td>612.0</td>\n",
       "      <td>0.0</td>\n",
       "      <td>612.0</td>\n",
       "    </tr>\n",
       "  </tbody>\n",
       "</table>\n",
       "<p>4844 rows × 6 columns</p>\n",
       "</div>"
      ],
      "text/plain": [
       "       bank_ID                         bank_name report_date  \\\n",
       "0           37            BANK OF HANCOCK COUNTY  03/31/2022   \n",
       "5          242  FIRST COMMUNITY BANK XENIA-FLORA  03/31/2022   \n",
       "10         279       MINEOLA COMMUNITY BANK, SSB  03/31/2022   \n",
       "15         354                  BISON STATE BANK  03/31/2022   \n",
       "20         457                  LOWRY STATE BANK  03/31/2022   \n",
       "...        ...                               ...         ...   \n",
       "23870  5620869                      GENESIS BANK  03/31/2022   \n",
       "23875  5650923                    WATERFALL BANK  03/31/2022   \n",
       "23880  5660146                         ENTREBANK  03/31/2022   \n",
       "23885  5673191                     LOCALITY BANK  03/31/2022   \n",
       "23894  5691319         SCOTTSDALE COMMUNITY BANK  03/31/2022   \n",
       "\n",
       "       insured_deposit_1  insured_deposit_2  insured_deposit  \n",
       "0                57430.0             2428.0          59858.0  \n",
       "5                33454.0             1385.0          34839.0  \n",
       "10              197561.0            11879.0         209440.0  \n",
       "15                9794.0                0.0           9794.0  \n",
       "20               34905.0             2229.0          37134.0  \n",
       "...                  ...                ...              ...  \n",
       "23870             9402.0                0.0           9402.0  \n",
       "23875             7911.0                0.0           7911.0  \n",
       "23880             1020.0                0.0           1020.0  \n",
       "23885              912.0                0.0            912.0  \n",
       "23894              612.0                0.0            612.0  \n",
       "\n",
       "[4844 rows x 6 columns]"
      ]
     },
     "execution_count": 49,
     "metadata": {},
     "output_type": "execute_result"
    }
   ],
   "source": [
    "insured_deposit['insured_deposit'] = insured_deposit['insured_deposit_1'] + insured_deposit['insured_deposit_2']\n",
    "insured_deposit "
   ]
  },
  {
   "cell_type": "code",
   "execution_count": 50,
   "id": "301c1530",
   "metadata": {},
   "outputs": [
    {
     "data": {
      "text/plain": [
       "7987385121.0"
      ]
     },
     "execution_count": 50,
     "metadata": {},
     "output_type": "execute_result"
    }
   ],
   "source": [
    "insured_deposit['insured_deposit'].sum()"
   ]
  },
  {
   "cell_type": "code",
   "execution_count": 51,
   "id": "a24d63c5",
   "metadata": {},
   "outputs": [
    {
     "data": {
      "text/html": [
       "<div>\n",
       "<style scoped>\n",
       "    .dataframe tbody tr th:only-of-type {\n",
       "        vertical-align: middle;\n",
       "    }\n",
       "\n",
       "    .dataframe tbody tr th {\n",
       "        vertical-align: top;\n",
       "    }\n",
       "\n",
       "    .dataframe thead th {\n",
       "        text-align: right;\n",
       "    }\n",
       "</style>\n",
       "<table border=\"1\" class=\"dataframe\">\n",
       "  <thead>\n",
       "    <tr style=\"text-align: right;\">\n",
       "      <th></th>\n",
       "      <th>bank_name</th>\n",
       "      <th>bank_ID</th>\n",
       "      <th>total_loss</th>\n",
       "      <th>total_asset</th>\n",
       "      <th>mm_asset</th>\n",
       "      <th>insured_deposit</th>\n",
       "      <th>uninsured_deposit</th>\n",
       "      <th>Uninsured_Deposit_MM_Asset</th>\n",
       "      <th>insured_deposit_coverage_ratio</th>\n",
       "    </tr>\n",
       "  </thead>\n",
       "  <tbody>\n",
       "    <tr>\n",
       "      <th>0</th>\n",
       "      <td>HUNTINGTON NATIONAL BANK, THE</td>\n",
       "      <td>12311</td>\n",
       "      <td>-2.243156e+07</td>\n",
       "      <td>176020595.0</td>\n",
       "      <td>1.535890e+08</td>\n",
       "      <td>78986097.0</td>\n",
       "      <td>83160026.0</td>\n",
       "      <td>0.541445</td>\n",
       "      <td>-0.108337</td>\n",
       "    </tr>\n",
       "    <tr>\n",
       "      <th>1</th>\n",
       "      <td>DISCOVER BANK</td>\n",
       "      <td>30810</td>\n",
       "      <td>-1.778327e+05</td>\n",
       "      <td>105657408.0</td>\n",
       "      <td>1.054796e+08</td>\n",
       "      <td>57543068.0</td>\n",
       "      <td>8691421.0</td>\n",
       "      <td>0.082399</td>\n",
       "      <td>0.682012</td>\n",
       "    </tr>\n",
       "    <tr>\n",
       "      <th>2</th>\n",
       "      <td>STATE STREET BANK AND TRUST COMPANY</td>\n",
       "      <td>35301</td>\n",
       "      <td>-1.160589e+07</td>\n",
       "      <td>318494000.0</td>\n",
       "      <td>3.068881e+08</td>\n",
       "      <td>11687000.0</td>\n",
       "      <td>155822000.0</td>\n",
       "      <td>0.507749</td>\n",
       "      <td>11.925995</td>\n",
       "    </tr>\n",
       "    <tr>\n",
       "      <th>3</th>\n",
       "      <td>COMERICA BANK</td>\n",
       "      <td>60143</td>\n",
       "      <td>-3.794949e+06</td>\n",
       "      <td>89142000.0</td>\n",
       "      <td>8.534705e+07</td>\n",
       "      <td>21921000.0</td>\n",
       "      <td>51044000.0</td>\n",
       "      <td>0.598076</td>\n",
       "      <td>0.564849</td>\n",
       "    </tr>\n",
       "    <tr>\n",
       "      <th>4</th>\n",
       "      <td>CITY NATIONAL BANK</td>\n",
       "      <td>63069</td>\n",
       "      <td>-7.618747e+06</td>\n",
       "      <td>91770285.0</td>\n",
       "      <td>8.415154e+07</td>\n",
       "      <td>17928917.0</td>\n",
       "      <td>58096403.0</td>\n",
       "      <td>0.690378</td>\n",
       "      <td>0.453246</td>\n",
       "    </tr>\n",
       "    <tr>\n",
       "      <th>...</th>\n",
       "      <td>...</td>\n",
       "      <td>...</td>\n",
       "      <td>...</td>\n",
       "      <td>...</td>\n",
       "      <td>...</td>\n",
       "      <td>...</td>\n",
       "      <td>...</td>\n",
       "      <td>...</td>\n",
       "      <td>...</td>\n",
       "    </tr>\n",
       "    <tr>\n",
       "      <th>4839</th>\n",
       "      <td>GENESIS BANK</td>\n",
       "      <td>5620869</td>\n",
       "      <td>-9.029200e+03</td>\n",
       "      <td>95052.0</td>\n",
       "      <td>8.602280e+04</td>\n",
       "      <td>9402.0</td>\n",
       "      <td>NaN</td>\n",
       "      <td>NaN</td>\n",
       "      <td>NaN</td>\n",
       "    </tr>\n",
       "    <tr>\n",
       "      <th>4840</th>\n",
       "      <td>WATERFALL BANK</td>\n",
       "      <td>5650923</td>\n",
       "      <td>-7.567046e+03</td>\n",
       "      <td>87152.0</td>\n",
       "      <td>7.958495e+04</td>\n",
       "      <td>7911.0</td>\n",
       "      <td>NaN</td>\n",
       "      <td>NaN</td>\n",
       "      <td>NaN</td>\n",
       "    </tr>\n",
       "    <tr>\n",
       "      <th>4841</th>\n",
       "      <td>ENTREBANK</td>\n",
       "      <td>5660146</td>\n",
       "      <td>-2.386654e+02</td>\n",
       "      <td>35261.0</td>\n",
       "      <td>3.502233e+04</td>\n",
       "      <td>1020.0</td>\n",
       "      <td>NaN</td>\n",
       "      <td>NaN</td>\n",
       "      <td>NaN</td>\n",
       "    </tr>\n",
       "    <tr>\n",
       "      <th>4842</th>\n",
       "      <td>LOCALITY BANK</td>\n",
       "      <td>5673191</td>\n",
       "      <td>-7.856424e+02</td>\n",
       "      <td>43775.0</td>\n",
       "      <td>4.298936e+04</td>\n",
       "      <td>912.0</td>\n",
       "      <td>NaN</td>\n",
       "      <td>NaN</td>\n",
       "      <td>NaN</td>\n",
       "    </tr>\n",
       "    <tr>\n",
       "      <th>4843</th>\n",
       "      <td>SCOTTSDALE COMMUNITY BANK</td>\n",
       "      <td>5691319</td>\n",
       "      <td>-6.492189e+02</td>\n",
       "      <td>19216.0</td>\n",
       "      <td>1.856678e+04</td>\n",
       "      <td>612.0</td>\n",
       "      <td>NaN</td>\n",
       "      <td>NaN</td>\n",
       "      <td>NaN</td>\n",
       "    </tr>\n",
       "  </tbody>\n",
       "</table>\n",
       "<p>4844 rows × 9 columns</p>\n",
       "</div>"
      ],
      "text/plain": [
       "                                bank_name  bank_ID    total_loss  total_asset  \\\n",
       "0           HUNTINGTON NATIONAL BANK, THE    12311 -2.243156e+07  176020595.0   \n",
       "1                           DISCOVER BANK    30810 -1.778327e+05  105657408.0   \n",
       "2     STATE STREET BANK AND TRUST COMPANY    35301 -1.160589e+07  318494000.0   \n",
       "3                           COMERICA BANK    60143 -3.794949e+06   89142000.0   \n",
       "4                      CITY NATIONAL BANK    63069 -7.618747e+06   91770285.0   \n",
       "...                                   ...      ...           ...          ...   \n",
       "4839                         GENESIS BANK  5620869 -9.029200e+03      95052.0   \n",
       "4840                       WATERFALL BANK  5650923 -7.567046e+03      87152.0   \n",
       "4841                            ENTREBANK  5660146 -2.386654e+02      35261.0   \n",
       "4842                        LOCALITY BANK  5673191 -7.856424e+02      43775.0   \n",
       "4843            SCOTTSDALE COMMUNITY BANK  5691319 -6.492189e+02      19216.0   \n",
       "\n",
       "          mm_asset  insured_deposit  uninsured_deposit  \\\n",
       "0     1.535890e+08       78986097.0         83160026.0   \n",
       "1     1.054796e+08       57543068.0          8691421.0   \n",
       "2     3.068881e+08       11687000.0        155822000.0   \n",
       "3     8.534705e+07       21921000.0         51044000.0   \n",
       "4     8.415154e+07       17928917.0         58096403.0   \n",
       "...            ...              ...                ...   \n",
       "4839  8.602280e+04           9402.0                NaN   \n",
       "4840  7.958495e+04           7911.0                NaN   \n",
       "4841  3.502233e+04           1020.0                NaN   \n",
       "4842  4.298936e+04            912.0                NaN   \n",
       "4843  1.856678e+04            612.0                NaN   \n",
       "\n",
       "      Uninsured_Deposit_MM_Asset  insured_deposit_coverage_ratio  \n",
       "0                       0.541445                       -0.108337  \n",
       "1                       0.082399                        0.682012  \n",
       "2                       0.507749                       11.925995  \n",
       "3                       0.598076                        0.564849  \n",
       "4                       0.690378                        0.453246  \n",
       "...                          ...                             ...  \n",
       "4839                         NaN                             NaN  \n",
       "4840                         NaN                             NaN  \n",
       "4841                         NaN                             NaN  \n",
       "4842                         NaN                             NaN  \n",
       "4843                         NaN                             NaN  \n",
       "\n",
       "[4844 rows x 9 columns]"
      ]
     },
     "execution_count": 51,
     "metadata": {},
     "output_type": "execute_result"
    }
   ],
   "source": [
    "\n",
    "coverage_ratios_df = calc_functions.insured_deposit_coverage_ratio(insured_deposit, uninsured_deposit, bank_losses)\n",
    "coverage_ratios_df"
   ]
  },
  {
   "cell_type": "markdown",
   "id": "50af25f6",
   "metadata": {},
   "source": [
    "## Checks"
   ]
  },
  {
   "cell_type": "code",
   "execution_count": 52,
   "id": "87f3794a",
   "metadata": {},
   "outputs": [
    {
     "data": {
      "text/plain": [
       "-2338613159.696033"
      ]
     },
     "execution_count": 52,
     "metadata": {},
     "output_type": "execute_result"
    }
   ],
   "source": [
    "coverage_ratios_df['total_loss'].sum()"
   ]
  },
  {
   "cell_type": "code",
   "execution_count": 53,
   "id": "907387b9",
   "metadata": {},
   "outputs": [
    {
     "data": {
      "text/plain": [
       "23988517644.0"
      ]
     },
     "execution_count": 53,
     "metadata": {},
     "output_type": "execute_result"
    }
   ],
   "source": [
    "coverage_ratios_df['total_asset'].sum()"
   ]
  },
  {
   "cell_type": "code",
   "execution_count": 54,
   "id": "a6cc310e",
   "metadata": {},
   "outputs": [
    {
     "data": {
      "text/plain": [
       "21649904484.30397"
      ]
     },
     "execution_count": 54,
     "metadata": {},
     "output_type": "execute_result"
    }
   ],
   "source": [
    "coverage_ratios_df['mm_asset'].sum()"
   ]
  },
  {
   "cell_type": "code",
   "execution_count": 55,
   "id": "801711bb",
   "metadata": {},
   "outputs": [
    {
     "data": {
      "text/plain": [
       "7987385121.0"
      ]
     },
     "execution_count": 55,
     "metadata": {},
     "output_type": "execute_result"
    }
   ],
   "source": [
    "coverage_ratios_df['insured_deposit'].sum()"
   ]
  },
  {
   "cell_type": "code",
   "execution_count": 56,
   "id": "0b675c46",
   "metadata": {},
   "outputs": [
    {
     "data": {
      "text/plain": [
       "8585747730.0"
      ]
     },
     "execution_count": 56,
     "metadata": {},
     "output_type": "execute_result"
    }
   ],
   "source": [
    "coverage_ratios_df['uninsured_deposit'].sum()"
   ]
  },
  {
   "cell_type": "code",
   "execution_count": 57,
   "id": "7b29d88f",
   "metadata": {},
   "outputs": [
    {
     "data": {
      "text/plain": [
       "21649904484.30397"
      ]
     },
     "execution_count": 57,
     "metadata": {},
     "output_type": "execute_result"
    }
   ],
   "source": [
    "coverage_ratios_df['mm_asset'].sum()"
   ]
  },
  {
   "cell_type": "markdown",
   "id": "b4620619",
   "metadata": {},
   "source": [
    "## Ratio Results"
   ]
  },
  {
   "cell_type": "code",
   "execution_count": 58,
   "id": "1087ae2d",
   "metadata": {},
   "outputs": [
    {
     "data": {
      "text/plain": [
       "0.3296886521959773"
      ]
     },
     "execution_count": 58,
     "metadata": {},
     "output_type": "execute_result"
    }
   ],
   "source": [
    "coverage_ratios_df['Uninsured_Deposit_MM_Asset'].median()"
   ]
  },
  {
   "cell_type": "code",
   "execution_count": 59,
   "id": "197b6984",
   "metadata": {},
   "outputs": [
    {
     "data": {
      "text/plain": [
       "0.17175544729350692"
      ]
     },
     "execution_count": 59,
     "metadata": {},
     "output_type": "execute_result"
    }
   ],
   "source": [
    "coverage_ratios_df['Uninsured_Deposit_MM_Asset'].std()"
   ]
  },
  {
   "cell_type": "code",
   "execution_count": 60,
   "id": "cfd0cb47",
   "metadata": {},
   "outputs": [
    {
     "data": {
      "text/plain": [
       "0.3731255625801196"
      ]
     },
     "execution_count": 60,
     "metadata": {},
     "output_type": "execute_result"
    }
   ],
   "source": [
    "coverage_ratios_df['insured_deposit_coverage_ratio'].median()"
   ]
  },
  {
   "cell_type": "code",
   "execution_count": 61,
   "id": "d69c0d30",
   "metadata": {},
   "outputs": [
    {
     "data": {
      "text/plain": [
       "329.6287912387752"
      ]
     },
     "execution_count": 61,
     "metadata": {},
     "output_type": "execute_result"
    }
   ],
   "source": [
    "coverage_ratios_df['insured_deposit_coverage_ratio'].std()"
   ]
  },
  {
   "cell_type": "markdown",
   "id": "fcb0f4e4",
   "metadata": {},
   "source": [
    "# Final Table Results"
   ]
  },
  {
   "cell_type": "code",
   "execution_count": 81,
   "id": "69cbdb76",
   "metadata": {},
   "outputs": [],
   "source": [
    "def final_statistic_table(bank_losses_assets, uninsured_deposit_mm_asset, insured_deposit_coverage, index_name = 'All Banks'):\n",
    "    # Merge the DataFrames on bank_name and Bank_ID to include uninsured deposit/MM Asset ratios and insured deposit coverage ratios\n",
    "    \n",
    "    \n",
    "    bank_count = len(bank_losses_assets.index)\n",
    "\n",
    "    final_stats = pd.DataFrame({\n",
    "        'Aggregate Loss': [f\"{-round(bank_losses_assets['total_loss'].sum() / 1e9, 1)}T\"],  # Convert to trillions\n",
    "        'Bank Level Loss': [f\"{-round(bank_losses_assets['total_loss'].median() / 1e3, 1)}M\"],  # Convert to millions\n",
    "        'Bank Level Loss Std': [f\"{round(bank_losses_assets['total_loss'].std() / 1e6, 2)}B\"],  # Std deviation for Bank Level Loss\n",
    "        'Share RMBS': [round(bank_losses_assets['Share RMBs'].median() * 100, 1)],  # Median percentage\n",
    "        'Share RMBS Std': [round(bank_losses_assets['Share RMBs'].std() * 100, 1)],  # Std deviation for Share RMBS\n",
    "        'Share Treasury and Other': [round(bank_losses_assets['Share Treasury and Other'].median() * 100, 1)],  # Median percentage\n",
    "        'Share Treasury and Other Std': [round(bank_losses_assets['Share Treasury and Other'].std() * 100, 1)],  # Std deviation\n",
    "        'Share Residential Mortgage': [round(bank_losses_assets['Share Residential Mortgage'].median() * 100, 1)],  # Median percentage\n",
    "        'Share Residential Mortgage Std': [round(bank_losses_assets['Share Residential Mortgage'].std() * 100, 1)],  # Std deviation\n",
    "        'Share Other Loan': [round(bank_losses_assets['Share Other Loan'].median() * 100, 1)],  # Median percentage\n",
    "        'Share Other Loan Std': [round(bank_losses_assets['Share Other Loan'].std() * 100, 1)],  # Std deviation\n",
    "        'Loss/Asset': [round(bank_losses_assets['loss/gross_asset'].median() * 100, 1)],  # Median percentage\n",
    "        'Loss/Asset Std': [round(bank_losses_assets['loss/gross_asset'].std() * 100, 1)],  # Std deviation\n",
    "        'Uninsured Deposit/MM Asset': [round(uninsured_deposit_mm_asset['Uninsured_Deposit_MM_Asset'].median() * 100, 1)],  # Median percentage\n",
    "        'Uninsured Deposit/MM Asset Std': [round(uninsured_deposit_mm_asset['Uninsured_Deposit_MM_Asset'].std() * 100, 1)],  # Std deviation\n",
    "        'Insured Deposit Coverage Ratio': [round(insured_deposit_coverage['insured_deposit_coverage_ratio'].median() * 100, 1)],  # Median percentage\n",
    "        'Insured Deposit Coverage Ratio Std': [round(insured_deposit_coverage['insured_deposit_coverage_ratio'].std() * 100, 1)],  # Std deviation\n",
    "        'Number of Banks': [len(bank_losses_assets.index.unique())]  # Count of unique banks\n",
    "    })\n",
    "\n",
    "    # Rename index to 'All Banks'\n",
    "    final_stats.index = [index_name]\n",
    "\n",
    "    final_stats = final_stats.T\n",
    "    \n",
    "    return final_stats"
   ]
  },
  {
   "cell_type": "code",
   "execution_count": 82,
   "id": "ad70e36a",
   "metadata": {},
   "outputs": [],
   "source": [
    "def GSIB_bank_id():\n",
    "    #GSIB = [35301,93619,229913,398668,413208,451965,476810,480228,488318,\n",
    "     #497404,541101,651448,688079,722777,812164,852218,934329,1225761,\n",
    "     #1443266,1456501,2182786,2362458,2489805,2531991,3066025]\n",
    "    GSIB = [852218, 480228, 476810, 413208, #JP Morgan, Bank of America, Citigroup, HSBC\n",
    "      2980209, 2182786, 541101, 655839, 1015560, 229913,#Barclays, Goldman Sachs, BNY Mellon, CCB COMMUNITY BANK, ICBC, Mizuho\n",
    "       1456501, 722777, 35301, 925411, 497404, 3212149, #Morgan Stanley, Santander, State Street, Sumitomo Mitsui, TD Bank, UBS\n",
    "      451965] #wells fargo\n",
    "    return GSIB\n",
    "\n",
    "def large_ex_GSIB_bank_id(large):\n",
    "    bank_id_large_ex_GSIB = []\n",
    "    for bank_id in large['Bank_ID']:\n",
    "       bank_id_large_ex_GSIB.append(bank_id)\n",
    "    return bank_id_large_ex_GSIB\n",
    "\n",
    "def small_bank_id(small):\n",
    "    bank_id_small = []\n",
    "    for bank_id in small['Bank_ID']:\n",
    "       bank_id_small.append(bank_id)\n",
    "    return bank_id_small"
   ]
  },
  {
   "cell_type": "code",
   "execution_count": 83,
   "id": "bac1a40b",
   "metadata": {},
   "outputs": [],
   "source": [
    "GSIB = GSIB_bank_id() #list of GSIB bank IDs\n",
    "df_asset_GSIB = df_asset[df_asset['Bank_ID'].isin(GSIB)] #total assets all GSIB banks\n",
    "#Large non-GSIB Banks\n",
    "df_asset_large_ex_GSIB = df_asset[(~df_asset['Bank_ID'].isin(GSIB)) & (df_asset['gross_asset']>1384000)] #total assets all large non-GSIB banks\n",
    "large_ex_GSIB = large_ex_GSIB_bank_id(df_asset_large_ex_GSIB) #list of large non-GSIB bank IDs\n",
    "#Small Banks\n",
    "df_asset_small = df_asset[(~df_asset['Bank_ID'].isin(GSIB)) & (df_asset['gross_asset']<=1384000)] #total asset all small banks \n",
    "small = small_bank_id(df_asset_small)"
   ]
  },
  {
   "cell_type": "code",
   "execution_count": 84,
   "id": "aa60823b",
   "metadata": {},
   "outputs": [],
   "source": [
    "df_RMBS_GSIB = df_RMBS_Final[df_RMBS_Final['Bank_ID'].isin(GSIB)] #RMBS for GSIB banks\n",
    "df_RMBS_large_ex_GSIB = df_RMBS_Final[df_RMBS_Final['Bank_ID'].isin(large_ex_GSIB)] #RMBS for large non-GSIB banks\n",
    "df_RMBS_small = df_RMBS_Final[df_RMBS_Final['Bank_ID'].isin(small)]\n",
    "\n",
    "df_RMBS_Final = df_RMBS_Final #RMBS for all banks \n",
    "df_RMBS_GSIB = df_RMBS_Final[df_RMBS_Final['Bank_ID'].isin(GSIB)] #RMBS for GSIB banks\n",
    "df_RMBS_large_ex_GSIB = df_RMBS_Final[df_RMBS_Final['Bank_ID'].isin(large_ex_GSIB)] #RMBS for large non-GSIB banks\n",
    "df_RMBS_small = df_RMBS_Final[df_RMBS_Final['Bank_ID'].isin(small)] #RMBS for small banks\n",
    "\n",
    "#Loans First Lien Domestic\n",
    "\n",
    "df_loans_first_lien_domestic = df_loans_first_lien_domestic # loans first lien domestic for all banks\n",
    "df_loans_first_lien_domestic_GSIB = df_loans_first_lien_domestic[df_loans_first_lien_domestic['Bank_ID'].isin(GSIB)] # loans first lien domestic for all GSIB banks\n",
    "df_loans_first_lien_domestic_large_ex_GSIB = df_loans_first_lien_domestic[df_loans_first_lien_domestic['Bank_ID'].isin(large_ex_GSIB)] # loans first lien domestic for all large non-GSIB banks\n",
    "df_loans_first_lien_domestic_small = df_loans_first_lien_domestic[df_loans_first_lien_domestic['Bank_ID'].isin(small)]\n",
    "\n",
    "df_treasury_and_others = df_treasury_and_others #treasury and others all banks \n",
    "df_treasury_and_others_GSIB = df_treasury_and_others[df_treasury_and_others['Bank_ID'].isin(GSIB)] #treasury and others GSIB banks\n",
    "df_treasury_and_others_large_ex_GSIB = df_treasury_and_others[df_treasury_and_others['Bank_ID'].isin(large_ex_GSIB)] #treasury and others large non-GSIB baanks \n",
    "df_treasury_and_others_small = df_treasury_and_others[df_treasury_and_others['Bank_ID'].isin(small)] #treasury and others small banks \n",
    "\n",
    "#Other Loan \n",
    "\n",
    "df_other_loan = df_other_loan #other loans for all banks \n",
    "df_other_loan_GSIB = df_other_loan[df_other_loan['Bank_ID'].isin(GSIB)] #other loans for all GSIB banks \n",
    "df_other_loan_large_ex_GSIB = df_other_loan[df_other_loan['Bank_ID'].isin(large_ex_GSIB)] #other loans for all large non-GSIB banks\n",
    "df_other_loan_small = df_other_loan[df_other_loan['Bank_ID'].isin(small)] \n",
    "\n",
    " #uninsured deposits\n",
    "uninsured_deposit = uninsured_deposit #uninsured deposits for all banks\n",
    "uninsured_deposit_GSIB = uninsured_deposit[uninsured_deposit['bank_ID'].isin(GSIB)] #uninsured deposits for GSIB banks\n",
    "uninsured_deposit_large_ex_GSIB = uninsured_deposit[uninsured_deposit['bank_ID'].isin(large_ex_GSIB)] #uninsured deposits for large non-GSIB banks\n",
    "uninsured_deposit_small = uninsured_deposit[uninsured_deposit['bank_ID'].isin(small)] #uninsured deposits for small banks\n",
    "\n",
    "#insured deposits\n",
    "insured_deposits = insured_deposit.copy() #insured deposits for all banks\n",
    "insured_deposits_GSIB = insured_deposits[insured_deposits['bank_ID'].isin(GSIB)] #insured deposits for GSIB banks\n",
    "insured_deposits_large_ex_GSIB = insured_deposits[insured_deposits['bank_ID'].isin(large_ex_GSIB)] #insured deposits for large non-GSIB banks\n",
    "insured_deposits_small = insured_deposits[insured_deposits['bank_ID'].isin(small)]"
   ]
  },
  {
   "cell_type": "code",
   "execution_count": 85,
   "id": "1c392f65",
   "metadata": {},
   "outputs": [],
   "source": [
    "bank_losses_assets = bank_losses.copy()\n",
    "bank_losses_assets_small = calc_functions.report_losses(inital_date,analysis_date,df_RMBS_small, df_loans_first_lien_domestic_small, df_treasury_and_others_small, df_other_loan_small, treasury_prices, RMBS_Multiplier, df_asset_small)\n"
   ]
  },
  {
   "cell_type": "code",
   "execution_count": 86,
   "id": "15486c8a",
   "metadata": {},
   "outputs": [],
   "source": [
    "bank_losses_assets_large_ex_GSIB = calc_functions.report_losses(inital_date,analysis_date,df_RMBS_large_ex_GSIB, df_loans_first_lien_domestic_large_ex_GSIB, df_treasury_and_others_large_ex_GSIB, df_other_loan_large_ex_GSIB, treasury_prices, RMBS_Multiplier, df_asset_large_ex_GSIB)"
   ]
  },
  {
   "cell_type": "code",
   "execution_count": 87,
   "id": "06633c0b",
   "metadata": {},
   "outputs": [],
   "source": [
    "bank_losses_assets_GSIB = calc_functions.report_losses(inital_date,analysis_date,df_RMBS_GSIB, df_loans_first_lien_domestic_GSIB, df_treasury_and_others_GSIB, df_other_loan_GSIB, treasury_prices, RMBS_Multiplier, df_asset_GSIB)"
   ]
  },
  {
   "cell_type": "code",
   "execution_count": 88,
   "id": "a8bbfcf3",
   "metadata": {},
   "outputs": [],
   "source": [
    "def calculate_uninsured_deposit_mm_asset(uninsured_deposit, bank_losses):\n",
    "    \n",
    "    # Initialize an empty list to store the results\n",
    "    results = []\n",
    "    \n",
    "    # Adjust the uninsured_deposit DataFrame to use both 'bank_name' and 'Bank_ID' as a multi-index for quick lookup\n",
    "    uninsured_lookup = uninsured_deposit.set_index(['bank_name', 'bank_ID'])['uninsured_deposit'].to_dict()\n",
    "    \n",
    "    # Iterate over each row in bank_losses DataFrame\n",
    "    for index, bank_loss_row in bank_losses.iterrows():\n",
    "        bank_name = bank_loss_row['bank_name']\n",
    "        bank_id = bank_loss_row['bank_ID']\n",
    "        \n",
    "        # Adjust the lookup to include 'Bank_ID'\n",
    "        uninsured_deposit_value = uninsured_lookup.get((bank_name, bank_id), 0)\n",
    "        \n",
    "        # Calculate 'MM Asset' as the sum of 'total_loss' and 'gross_asset' (as defined in the paper)\n",
    "        mm_asset = bank_loss_row['total_loss'] + bank_loss_row['gross_asset']\n",
    "        \n",
    "        # Calculate Uninsured Deposit/MM Asset ratio \n",
    "        if mm_asset > 0:\n",
    "            uninsured_deposit_mm_asset_ratio = uninsured_deposit_value / mm_asset\n",
    "        \n",
    "        # Append to final dataframe\n",
    "        results.append({\n",
    "            'bank_name': bank_name,\n",
    "            'bank_ID': bank_id, \n",
    "            'total_loss': bank_loss_row['total_loss'], \n",
    "            'total_asset': bank_loss_row['gross_asset'],\n",
    "            'mm_asset': mm_asset,\n",
    "            'uninsured_deposit': uninsured_deposit_value, \n",
    "            'Uninsured_Deposit_MM_Asset': uninsured_deposit_mm_asset_ratio\n",
    "        })\n",
    "    \n",
    "    # Convert results list to DataFrame and sort by 'Bank_ID'\n",
    "    results_df = pd.DataFrame(results).sort_values(by=['bank_name', 'bank_ID'])\n",
    "    \n",
    "    return results_df\n",
    "\n",
    "def insured_deposit_coverage_ratio(insured_deposit, uninsured_deposit, bank_losses):\n",
    "    # Initialize an empty list to store the results\n",
    "    results = []\n",
    "    \n",
    "    # Create dictionaries from insured and uninsured deposits for quick lookup\n",
    "    insured_lookup = insured_deposit.set_index(['bank_name', 'bank_ID'])['insured_deposit'].to_dict()\n",
    "    uninsured_lookup = uninsured_deposit.set_index(['bank_name', 'bank_ID'])['uninsured_deposit'].to_dict()\n",
    "    \n",
    "    # Iterate over each row in bank_losses DataFrame\n",
    "    for index, bank_loss_row in bank_losses.iterrows():\n",
    "        bank_name = bank_loss_row['bank_name']\n",
    "        bank_id = bank_loss_row['bank_ID']\n",
    "        \n",
    "        # Retrieve insured and uninsured deposit values\n",
    "        insured_deposit_value = insured_lookup.get((bank_name, bank_id), 0)\n",
    "        uninsured_deposit_value = uninsured_lookup.get((bank_name, bank_id), 0)\n",
    "        \n",
    "        # Calculate mark-to-market asset value as the sum of 'total_asset' minus 'total_loss'\n",
    "        mark_to_market_asset_value = bank_loss_row['gross_asset'] + bank_loss_row['total_loss']\n",
    "        \n",
    "        # Calculate the insured deposit coverage ratio\n",
    "        if insured_deposit_value > 0:  # Prevent division by zero\n",
    "            coverage_ratio = (mark_to_market_asset_value - uninsured_deposit_value - insured_deposit_value) / insured_deposit_value\n",
    "        \n",
    "        # Append the result\n",
    "        results.append({\n",
    "            'bank_name': bank_name,\n",
    "            'bank_ID': bank_id,\n",
    "            'mm_asset': mark_to_market_asset_value,\n",
    "            'insured_deposit': insured_deposit_value,\n",
    "            'uninsured_deposit': uninsured_deposit_value,\n",
    "            'insured_deposit_coverage_ratio': coverage_ratio\n",
    "        })\n",
    "    \n",
    "    # Convert results list to DataFrame\n",
    "    results_df = pd.DataFrame(results)\n",
    "    \n",
    "    return results_df\n"
   ]
  },
  {
   "cell_type": "code",
   "execution_count": 89,
   "id": "de9740f7",
   "metadata": {},
   "outputs": [
    {
     "data": {
      "text/html": [
       "<div>\n",
       "<style scoped>\n",
       "    .dataframe tbody tr th:only-of-type {\n",
       "        vertical-align: middle;\n",
       "    }\n",
       "\n",
       "    .dataframe tbody tr th {\n",
       "        vertical-align: top;\n",
       "    }\n",
       "\n",
       "    .dataframe thead th {\n",
       "        text-align: right;\n",
       "    }\n",
       "</style>\n",
       "<table border=\"1\" class=\"dataframe\">\n",
       "  <thead>\n",
       "    <tr style=\"text-align: right;\">\n",
       "      <th></th>\n",
       "      <th>bank_ID</th>\n",
       "      <th>bank_name</th>\n",
       "      <th>report_date</th>\n",
       "      <th>uninsured_deposit</th>\n",
       "    </tr>\n",
       "  </thead>\n",
       "  <tbody>\n",
       "    <tr>\n",
       "      <th>0</th>\n",
       "      <td>37</td>\n",
       "      <td>BANK OF HANCOCK COUNTY</td>\n",
       "      <td>03/31/2022</td>\n",
       "      <td>NaN</td>\n",
       "    </tr>\n",
       "    <tr>\n",
       "      <th>5</th>\n",
       "      <td>242</td>\n",
       "      <td>FIRST COMMUNITY BANK XENIA-FLORA</td>\n",
       "      <td>03/31/2022</td>\n",
       "      <td>NaN</td>\n",
       "    </tr>\n",
       "    <tr>\n",
       "      <th>10</th>\n",
       "      <td>279</td>\n",
       "      <td>MINEOLA COMMUNITY BANK, SSB</td>\n",
       "      <td>03/31/2022</td>\n",
       "      <td>NaN</td>\n",
       "    </tr>\n",
       "    <tr>\n",
       "      <th>15</th>\n",
       "      <td>354</td>\n",
       "      <td>BISON STATE BANK</td>\n",
       "      <td>03/31/2022</td>\n",
       "      <td>NaN</td>\n",
       "    </tr>\n",
       "    <tr>\n",
       "      <th>20</th>\n",
       "      <td>457</td>\n",
       "      <td>LOWRY STATE BANK</td>\n",
       "      <td>03/31/2022</td>\n",
       "      <td>NaN</td>\n",
       "    </tr>\n",
       "    <tr>\n",
       "      <th>...</th>\n",
       "      <td>...</td>\n",
       "      <td>...</td>\n",
       "      <td>...</td>\n",
       "      <td>...</td>\n",
       "    </tr>\n",
       "    <tr>\n",
       "      <th>23870</th>\n",
       "      <td>5620869</td>\n",
       "      <td>GENESIS BANK</td>\n",
       "      <td>03/31/2022</td>\n",
       "      <td>NaN</td>\n",
       "    </tr>\n",
       "    <tr>\n",
       "      <th>23875</th>\n",
       "      <td>5650923</td>\n",
       "      <td>WATERFALL BANK</td>\n",
       "      <td>03/31/2022</td>\n",
       "      <td>NaN</td>\n",
       "    </tr>\n",
       "    <tr>\n",
       "      <th>23880</th>\n",
       "      <td>5660146</td>\n",
       "      <td>ENTREBANK</td>\n",
       "      <td>03/31/2022</td>\n",
       "      <td>NaN</td>\n",
       "    </tr>\n",
       "    <tr>\n",
       "      <th>23885</th>\n",
       "      <td>5673191</td>\n",
       "      <td>LOCALITY BANK</td>\n",
       "      <td>03/31/2022</td>\n",
       "      <td>NaN</td>\n",
       "    </tr>\n",
       "    <tr>\n",
       "      <th>23894</th>\n",
       "      <td>5691319</td>\n",
       "      <td>SCOTTSDALE COMMUNITY BANK</td>\n",
       "      <td>03/31/2022</td>\n",
       "      <td>NaN</td>\n",
       "    </tr>\n",
       "  </tbody>\n",
       "</table>\n",
       "<p>4095 rows × 4 columns</p>\n",
       "</div>"
      ],
      "text/plain": [
       "       bank_ID                         bank_name report_date  \\\n",
       "0           37            BANK OF HANCOCK COUNTY  03/31/2022   \n",
       "5          242  FIRST COMMUNITY BANK XENIA-FLORA  03/31/2022   \n",
       "10         279       MINEOLA COMMUNITY BANK, SSB  03/31/2022   \n",
       "15         354                  BISON STATE BANK  03/31/2022   \n",
       "20         457                  LOWRY STATE BANK  03/31/2022   \n",
       "...        ...                               ...         ...   \n",
       "23870  5620869                      GENESIS BANK  03/31/2022   \n",
       "23875  5650923                    WATERFALL BANK  03/31/2022   \n",
       "23880  5660146                         ENTREBANK  03/31/2022   \n",
       "23885  5673191                     LOCALITY BANK  03/31/2022   \n",
       "23894  5691319         SCOTTSDALE COMMUNITY BANK  03/31/2022   \n",
       "\n",
       "       uninsured_deposit  \n",
       "0                    NaN  \n",
       "5                    NaN  \n",
       "10                   NaN  \n",
       "15                   NaN  \n",
       "20                   NaN  \n",
       "...                  ...  \n",
       "23870                NaN  \n",
       "23875                NaN  \n",
       "23880                NaN  \n",
       "23885                NaN  \n",
       "23894                NaN  \n",
       "\n",
       "[4095 rows x 4 columns]"
      ]
     },
     "execution_count": 89,
     "metadata": {},
     "output_type": "execute_result"
    }
   ],
   "source": [
    "uninsured_deposit_small"
   ]
  },
  {
   "cell_type": "code",
   "execution_count": null,
   "id": "f18f3675",
   "metadata": {},
   "outputs": [],
   "source": []
  },
  {
   "cell_type": "code",
   "execution_count": 90,
   "id": "2eb7d3db",
   "metadata": {},
   "outputs": [],
   "source": [
    "uninsured_deposit_mm_asset_small = calculate_uninsured_deposit_mm_asset(uninsured_deposit_small, bank_losses_assets_small)\n",
    "insured_deposit_coverage_small = insured_deposit_coverage_ratio(insured_deposits_small, uninsured_deposit_small, bank_losses_assets_small)\n",
    "uninsured_deposit_mm_asset_large_ex_GSIB = calculate_uninsured_deposit_mm_asset(uninsured_deposit_large_ex_GSIB, bank_losses_assets_large_ex_GSIB)\n",
    "insured_deposit_coverage_large_ex_GSIB = insured_deposit_coverage_large_ex_GSIB = insured_deposit_coverage_ratio(insured_deposits_large_ex_GSIB, uninsured_deposit_large_ex_GSIB, bank_losses_assets_large_ex_GSIB)\n",
    "uninsured_deposit_mm_asset_GSIB = calculate_uninsured_deposit_mm_asset(uninsured_deposit_GSIB, bank_losses_assets_GSIB)\n",
    "insured_deposit_coverage_GSIB = insured_deposit_coverage_ratio(insured_deposits_GSIB, uninsured_deposit_GSIB, bank_losses_assets_GSIB)\n",
    "    "
   ]
  },
  {
   "cell_type": "code",
   "execution_count": 92,
   "id": "c3fd3e31",
   "metadata": {},
   "outputs": [],
   "source": [
    "un_mm_ratio = calculate_uninsured_deposit_mm_asset(uninsured_deposit, bank_losses)"
   ]
  },
  {
   "cell_type": "code",
   "execution_count": 93,
   "id": "c198ea07",
   "metadata": {},
   "outputs": [],
   "source": [
    "final_stats = final_statistic_table(bank_losses_assets, un_mm_ratio, coverage_ratios_df)\n",
    "final_stats_small = final_statistic_table(bank_losses_assets_small, uninsured_deposit_mm_asset_small, insured_deposit_coverage_small, index_name = 'Small Banks')\n",
    "final_stats_large_ex_GSIB = final_statistic_table(bank_losses_assets_large_ex_GSIB, uninsured_deposit_mm_asset_large_ex_GSIB, insured_deposit_coverage_large_ex_GSIB, index_name = 'Large Ex GSIB Banks')\n",
    "final_stats_GSIB = final_statistic_table(bank_losses_assets_GSIB, uninsured_deposit_mm_asset_GSIB, insured_deposit_coverage_GSIB, index_name = 'GSIB Banks')"
   ]
  },
  {
   "cell_type": "code",
   "execution_count": 94,
   "id": "de11a676",
   "metadata": {},
   "outputs": [
    {
     "data": {
      "text/html": [
       "<div>\n",
       "<style scoped>\n",
       "    .dataframe tbody tr th:only-of-type {\n",
       "        vertical-align: middle;\n",
       "    }\n",
       "\n",
       "    .dataframe tbody tr th {\n",
       "        vertical-align: top;\n",
       "    }\n",
       "\n",
       "    .dataframe thead th {\n",
       "        text-align: right;\n",
       "    }\n",
       "</style>\n",
       "<table border=\"1\" class=\"dataframe\">\n",
       "  <thead>\n",
       "    <tr style=\"text-align: right;\">\n",
       "      <th></th>\n",
       "      <th>All Banks</th>\n",
       "      <th>Small Banks</th>\n",
       "      <th>Large Ex GSIB Banks</th>\n",
       "      <th>GSIB Banks</th>\n",
       "    </tr>\n",
       "  </thead>\n",
       "  <tbody>\n",
       "    <tr>\n",
       "      <th>Aggregate Loss</th>\n",
       "      <td>2.3T</td>\n",
       "      <td>0.2T</td>\n",
       "      <td>1.1T</td>\n",
       "      <td>1.0T</td>\n",
       "    </tr>\n",
       "    <tr>\n",
       "      <th>Bank Level Loss</th>\n",
       "      <td>32.5M</td>\n",
       "      <td>24.9M</td>\n",
       "      <td>342.8M</td>\n",
       "      <td>10079.6M</td>\n",
       "    </tr>\n",
       "    <tr>\n",
       "      <th>Bank Level Loss Std</th>\n",
       "      <td>7.84B</td>\n",
       "      <td>0.05B</td>\n",
       "      <td>5.93B</td>\n",
       "      <td>114.1B</td>\n",
       "    </tr>\n",
       "    <tr>\n",
       "      <th>Share RMBS</th>\n",
       "      <td>893.7</td>\n",
       "      <td>777.9</td>\n",
       "      <td>1534.1</td>\n",
       "      <td>2572.5</td>\n",
       "    </tr>\n",
       "    <tr>\n",
       "      <th>Share RMBS Std</th>\n",
       "      <td>3387.6</td>\n",
       "      <td>3428.1</td>\n",
       "      <td>3079.2</td>\n",
       "      <td>3876.0</td>\n",
       "    </tr>\n",
       "    <tr>\n",
       "      <th>Share Treasury and Other</th>\n",
       "      <td>1742.2</td>\n",
       "      <td>1873.0</td>\n",
       "      <td>1179.6</td>\n",
       "      <td>1441.0</td>\n",
       "    </tr>\n",
       "    <tr>\n",
       "      <th>Share Treasury and Other Std</th>\n",
       "      <td>5680.2</td>\n",
       "      <td>5733.7</td>\n",
       "      <td>5418.5</td>\n",
       "      <td>1882.9</td>\n",
       "    </tr>\n",
       "    <tr>\n",
       "      <th>Share Residential Mortgage</th>\n",
       "      <td>2013.7</td>\n",
       "      <td>1947.5</td>\n",
       "      <td>2330.2</td>\n",
       "      <td>2085.1</td>\n",
       "    </tr>\n",
       "    <tr>\n",
       "      <th>Share Residential Mortgage Std</th>\n",
       "      <td>8619.5</td>\n",
       "      <td>7800.2</td>\n",
       "      <td>12238.3</td>\n",
       "      <td>7832.0</td>\n",
       "    </tr>\n",
       "    <tr>\n",
       "      <th>Share Other Loan</th>\n",
       "      <td>3084.8</td>\n",
       "      <td>3026.1</td>\n",
       "      <td>3354.3</td>\n",
       "      <td>145.4</td>\n",
       "    </tr>\n",
       "    <tr>\n",
       "      <th>Share Other Loan Std</th>\n",
       "      <td>10378.1</td>\n",
       "      <td>8878.0</td>\n",
       "      <td>16406.8</td>\n",
       "      <td>10709.8</td>\n",
       "    </tr>\n",
       "    <tr>\n",
       "      <th>Loss/Asset</th>\n",
       "      <td>10.5</td>\n",
       "      <td>10.4</td>\n",
       "      <td>10.8</td>\n",
       "      <td>5.4</td>\n",
       "    </tr>\n",
       "    <tr>\n",
       "      <th>Loss/Asset Std</th>\n",
       "      <td>6.7</td>\n",
       "      <td>6.8</td>\n",
       "      <td>6.3</td>\n",
       "      <td>5.1</td>\n",
       "    </tr>\n",
       "    <tr>\n",
       "      <th>Uninsured Deposit/MM Asset</th>\n",
       "      <td>33.0</td>\n",
       "      <td>28.7</td>\n",
       "      <td>34.7</td>\n",
       "      <td>39.5</td>\n",
       "    </tr>\n",
       "    <tr>\n",
       "      <th>Uninsured Deposit/MM Asset Std</th>\n",
       "      <td>17.2</td>\n",
       "      <td>16.0</td>\n",
       "      <td>17.3</td>\n",
       "      <td>16.7</td>\n",
       "    </tr>\n",
       "    <tr>\n",
       "      <th>Insured Deposit Coverage Ratio</th>\n",
       "      <td>37.3</td>\n",
       "      <td>35.4</td>\n",
       "      <td>37.4</td>\n",
       "      <td>93.6</td>\n",
       "    </tr>\n",
       "    <tr>\n",
       "      <th>Insured Deposit Coverage Ratio Std</th>\n",
       "      <td>32962.9</td>\n",
       "      <td>909.5</td>\n",
       "      <td>37983.9</td>\n",
       "      <td>436.8</td>\n",
       "    </tr>\n",
       "    <tr>\n",
       "      <th>Number of Banks</th>\n",
       "      <td>4844</td>\n",
       "      <td>4095</td>\n",
       "      <td>732</td>\n",
       "      <td>17</td>\n",
       "    </tr>\n",
       "  </tbody>\n",
       "</table>\n",
       "</div>"
      ],
      "text/plain": [
       "                                   All Banks Small Banks Large Ex GSIB Banks  \\\n",
       "Aggregate Loss                          2.3T        0.2T                1.1T   \n",
       "Bank Level Loss                        32.5M       24.9M              342.8M   \n",
       "Bank Level Loss Std                    7.84B       0.05B               5.93B   \n",
       "Share RMBS                             893.7       777.9              1534.1   \n",
       "Share RMBS Std                        3387.6      3428.1              3079.2   \n",
       "Share Treasury and Other              1742.2      1873.0              1179.6   \n",
       "Share Treasury and Other Std          5680.2      5733.7              5418.5   \n",
       "Share Residential Mortgage            2013.7      1947.5              2330.2   \n",
       "Share Residential Mortgage Std        8619.5      7800.2             12238.3   \n",
       "Share Other Loan                      3084.8      3026.1              3354.3   \n",
       "Share Other Loan Std                 10378.1      8878.0             16406.8   \n",
       "Loss/Asset                              10.5        10.4                10.8   \n",
       "Loss/Asset Std                           6.7         6.8                 6.3   \n",
       "Uninsured Deposit/MM Asset              33.0        28.7                34.7   \n",
       "Uninsured Deposit/MM Asset Std          17.2        16.0                17.3   \n",
       "Insured Deposit Coverage Ratio          37.3        35.4                37.4   \n",
       "Insured Deposit Coverage Ratio Std   32962.9       909.5             37983.9   \n",
       "Number of Banks                         4844        4095                 732   \n",
       "\n",
       "                                   GSIB Banks  \n",
       "Aggregate Loss                           1.0T  \n",
       "Bank Level Loss                      10079.6M  \n",
       "Bank Level Loss Std                    114.1B  \n",
       "Share RMBS                             2572.5  \n",
       "Share RMBS Std                         3876.0  \n",
       "Share Treasury and Other               1441.0  \n",
       "Share Treasury and Other Std           1882.9  \n",
       "Share Residential Mortgage             2085.1  \n",
       "Share Residential Mortgage Std         7832.0  \n",
       "Share Other Loan                        145.4  \n",
       "Share Other Loan Std                  10709.8  \n",
       "Loss/Asset                                5.4  \n",
       "Loss/Asset Std                            5.1  \n",
       "Uninsured Deposit/MM Asset               39.5  \n",
       "Uninsured Deposit/MM Asset Std           16.7  \n",
       "Insured Deposit Coverage Ratio           93.6  \n",
       "Insured Deposit Coverage Ratio Std      436.8  \n",
       "Number of Banks                            17  "
      ]
     },
     "execution_count": 94,
     "metadata": {},
     "output_type": "execute_result"
    }
   ],
   "source": [
    "table_2 = pd.concat([final_stats, final_stats_small, final_stats_large_ex_GSIB, final_stats_GSIB], axis=1)\n",
    "table_2"
   ]
  }
 ],
 "metadata": {
  "kernelspec": {
   "display_name": "Python 3 (ipykernel)",
   "language": "python",
   "name": "python3"
  },
  "language_info": {
   "codemirror_mode": {
    "name": "ipython",
    "version": 3
   },
   "file_extension": ".py",
   "mimetype": "text/x-python",
   "name": "python",
   "nbconvert_exporter": "python",
   "pygments_lexer": "ipython3",
   "version": "3.12.1"
  }
 },
 "nbformat": 4,
 "nbformat_minor": 5
}
