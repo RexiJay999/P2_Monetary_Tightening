{
 "cells": [
  {
   "cell_type": "markdown",
   "id": "52006e30",
   "metadata": {},
   "source": [
    "# Final Project Exploration"
   ]
  },
  {
   "cell_type": "markdown",
   "id": "eba0c608",
   "metadata": {},
   "source": [
    "This is our Team's Data Science Tool for Finance final project. In this project we attempt to replicate the results of Table 1 found in Monetary Tightening and US Bank Fragility in 2023: Mark-To-Market Losses and Uninsured Depositor Runs, written by Erica Xuewei Jiang, Gregor Matvos,Tomasz Piskorski, and Amit Seru."
   ]
  },
  {
   "cell_type": "code",
   "execution_count": 260,
   "id": "7294cc66",
   "metadata": {
    "ExecuteTime": {
     "end_time": "2024-02-27T17:58:14.960814600Z",
     "start_time": "2024-02-27T17:58:09.332504100Z"
    }
   },
   "outputs": [],
   "source": [
    "import pandas as pd\n",
    "import numpy as np \n",
    "import matplotlib.pyplot as plt\n",
    "import warnings\n",
    "import data_read\n",
    "import load_assets\n",
    "import calc_functions\n",
    "import load_WRDS\n",
    "# import Calc_table_statistic\n",
    "\n",
    "warnings.filterwarnings(\"ignore\")"
   ]
  },
  {
   "cell_type": "markdown",
   "id": "ffa35b95",
   "metadata": {},
   "source": [
    "### Reports load\n",
    "\n",
    "- We first import the necessary data from WRDS\n",
    "- RCFD includes banks with both domestic and foreign branches\n",
    "- RCON includes banks with only domestic branches\n",
    "- These data series are divided into series 1 and series 2"
   ]
  },
  {
   "cell_type": "code",
   "execution_count": 261,
   "id": "1acda765",
   "metadata": {},
   "outputs": [],
   "source": [
    "rcfd_data_1 = load_WRDS.load_RCFD_series_1()\n",
    "rcon_data_1 = load_WRDS.load_RCON_series_1()\n",
    "rcfd_data_2 = load_WRDS.load_RCFD_series_2()\n",
    "rcon_data_2 = load_WRDS.load_RCON_series_2()"
   ]
  },
  {
   "cell_type": "code",
   "execution_count": 262,
   "id": "c4c8087d",
   "metadata": {},
   "outputs": [],
   "source": [
    "rcfd_data_1.columns = [col.upper() for col in rcfd_data_1.columns]\n",
    "rcon_data_1.columns = [col.upper() for col in rcon_data_1.columns]\n",
    "rcfd_data_2.columns = [col.upper() for col in rcfd_data_2.columns]\n",
    "rcon_data_2.columns = [col.upper() for col in rcon_data_2.columns]"
   ]
  },
  {
   "cell_type": "code",
   "execution_count": 264,
   "id": "4cffb5c1",
   "metadata": {},
   "outputs": [],
   "source": [
    "inital_date = '03/31/2022'\n",
    "analysis_date = '03/31/2023'"
   ]
  },
  {
   "cell_type": "markdown",
   "id": "c363a7c1",
   "metadata": {},
   "source": [
    "## Data Cleaning"
   ]
  },
  {
   "cell_type": "markdown",
   "id": "fa07dabc",
   "metadata": {},
   "source": [
    "### Assets\n",
    "\n",
    "- We then get assets from both the RCON and RCFD, and combine the dataframes to compute the total/gross asset at bank levels"
   ]
  },
  {
   "cell_type": "code",
   "execution_count": 265,
   "id": "88738279",
   "metadata": {},
   "outputs": [
    {
     "data": {
      "text/html": [
       "<div>\n",
       "<style scoped>\n",
       "    .dataframe tbody tr th:only-of-type {\n",
       "        vertical-align: middle;\n",
       "    }\n",
       "\n",
       "    .dataframe tbody tr th {\n",
       "        vertical-align: top;\n",
       "    }\n",
       "\n",
       "    .dataframe thead th {\n",
       "        text-align: right;\n",
       "    }\n",
       "</style>\n",
       "<table border=\"1\" class=\"dataframe\">\n",
       "  <thead>\n",
       "    <tr style=\"text-align: right;\">\n",
       "      <th></th>\n",
       "      <th>Bank_ID</th>\n",
       "      <th>bank_name</th>\n",
       "      <th>report_date</th>\n",
       "      <th>gross_asset</th>\n",
       "    </tr>\n",
       "  </thead>\n",
       "  <tbody>\n",
       "    <tr>\n",
       "      <th>1</th>\n",
       "      <td>37</td>\n",
       "      <td>BANK OF HANCOCK COUNTY</td>\n",
       "      <td>2022-03-31</td>\n",
       "      <td>87842.0</td>\n",
       "    </tr>\n",
       "    <tr>\n",
       "      <th>10</th>\n",
       "      <td>279</td>\n",
       "      <td>MINEOLA COMMUNITY BANK, SSB</td>\n",
       "      <td>2022-03-31</td>\n",
       "      <td>368875.0</td>\n",
       "    </tr>\n",
       "    <tr>\n",
       "      <th>12</th>\n",
       "      <td>242</td>\n",
       "      <td>FIRST COMMUNITY BANK XENIA-FLORA</td>\n",
       "      <td>2022-03-31</td>\n",
       "      <td>53236.0</td>\n",
       "    </tr>\n",
       "    <tr>\n",
       "      <th>35</th>\n",
       "      <td>354</td>\n",
       "      <td>BISON STATE BANK</td>\n",
       "      <td>2022-03-31</td>\n",
       "      <td>25077.0</td>\n",
       "    </tr>\n",
       "    <tr>\n",
       "      <th>41</th>\n",
       "      <td>457</td>\n",
       "      <td>LOWRY STATE BANK</td>\n",
       "      <td>2022-03-31</td>\n",
       "      <td>65336.0</td>\n",
       "    </tr>\n",
       "  </tbody>\n",
       "</table>\n",
       "</div>"
      ],
      "text/plain": [
       "    Bank_ID                         bank_name report_date  gross_asset\n",
       "1        37            BANK OF HANCOCK COUNTY  2022-03-31      87842.0\n",
       "10      279       MINEOLA COMMUNITY BANK, SSB  2022-03-31     368875.0\n",
       "12      242  FIRST COMMUNITY BANK XENIA-FLORA  2022-03-31      53236.0\n",
       "35      354                  BISON STATE BANK  2022-03-31      25077.0\n",
       "41      457                  LOWRY STATE BANK  2022-03-31      65336.0"
      ]
     },
     "execution_count": 265,
     "metadata": {},
     "output_type": "execute_result"
    }
   ],
   "source": [
    "\n",
    "filtered_asset_level_0 = load_assets.clean_assets(rcfd_data_2,'RCFD2170',inital_date)\n",
    "filtered_asset_level = load_assets.clean_assets(rcon_data_2,'RCON2170',inital_date)\n",
    "filtered_asset_level.head()\n"
   ]
  },
  {
   "cell_type": "markdown",
   "id": "88fbbcd9",
   "metadata": {},
   "source": [
    "#### Creating a dataframe for total/gross asset for each bank"
   ]
  },
  {
   "cell_type": "code",
   "execution_count": 266,
   "id": "44923543",
   "metadata": {},
   "outputs": [
    {
     "data": {
      "text/html": [
       "<div>\n",
       "<style scoped>\n",
       "    .dataframe tbody tr th:only-of-type {\n",
       "        vertical-align: middle;\n",
       "    }\n",
       "\n",
       "    .dataframe tbody tr th {\n",
       "        vertical-align: top;\n",
       "    }\n",
       "\n",
       "    .dataframe thead th {\n",
       "        text-align: right;\n",
       "    }\n",
       "</style>\n",
       "<table border=\"1\" class=\"dataframe\">\n",
       "  <thead>\n",
       "    <tr style=\"text-align: right;\">\n",
       "      <th></th>\n",
       "      <th>Bank_ID</th>\n",
       "      <th>bank_name</th>\n",
       "      <th>report_date</th>\n",
       "      <th>gross_asset</th>\n",
       "    </tr>\n",
       "  </thead>\n",
       "  <tbody>\n",
       "    <tr>\n",
       "      <th>368</th>\n",
       "      <td>12311</td>\n",
       "      <td>HUNTINGTON NATIONAL BANK, THE</td>\n",
       "      <td>2022-03-31</td>\n",
       "      <td>176020595.0</td>\n",
       "    </tr>\n",
       "    <tr>\n",
       "      <th>855</th>\n",
       "      <td>30810</td>\n",
       "      <td>DISCOVER BANK</td>\n",
       "      <td>2022-03-31</td>\n",
       "      <td>105657408.0</td>\n",
       "    </tr>\n",
       "    <tr>\n",
       "      <th>1011</th>\n",
       "      <td>35301</td>\n",
       "      <td>STATE STREET BANK AND TRUST COMPANY</td>\n",
       "      <td>2022-03-31</td>\n",
       "      <td>318494000.0</td>\n",
       "    </tr>\n",
       "    <tr>\n",
       "      <th>1745</th>\n",
       "      <td>60143</td>\n",
       "      <td>COMERICA BANK</td>\n",
       "      <td>2022-03-31</td>\n",
       "      <td>89142000.0</td>\n",
       "    </tr>\n",
       "    <tr>\n",
       "      <th>1865</th>\n",
       "      <td>63069</td>\n",
       "      <td>CITY NATIONAL BANK</td>\n",
       "      <td>2022-03-31</td>\n",
       "      <td>91770285.0</td>\n",
       "    </tr>\n",
       "  </tbody>\n",
       "</table>\n",
       "</div>"
      ],
      "text/plain": [
       "      Bank_ID                            bank_name report_date  gross_asset\n",
       "368     12311        HUNTINGTON NATIONAL BANK, THE  2022-03-31  176020595.0\n",
       "855     30810                        DISCOVER BANK  2022-03-31  105657408.0\n",
       "1011    35301  STATE STREET BANK AND TRUST COMPANY  2022-03-31  318494000.0\n",
       "1745    60143                        COMERICA BANK  2022-03-31   89142000.0\n",
       "1865    63069                   CITY NATIONAL BANK  2022-03-31   91770285.0"
      ]
     },
     "execution_count": 266,
     "metadata": {},
     "output_type": "execute_result"
    }
   ],
   "source": [
    "df_asset = pd.concat([filtered_asset_level_0, filtered_asset_level])\n",
    "total_asset = df_asset['gross_asset'].sum()\n",
    "df_asset.head()"
   ]
  },
  {
   "cell_type": "markdown",
   "id": "e6aebef5",
   "metadata": {},
   "source": [
    "### LOANS\n",
    "\n",
    "- We then get assets from both the RCON and RCFD, and combine the dataframes to compute the total/gross asset at bank levels"
   ]
  },
  {
   "cell_type": "code",
   "execution_count": 267,
   "id": "3b40d945",
   "metadata": {},
   "outputs": [
    {
     "data": {
      "text/html": [
       "<div>\n",
       "<style scoped>\n",
       "    .dataframe tbody tr th:only-of-type {\n",
       "        vertical-align: middle;\n",
       "    }\n",
       "\n",
       "    .dataframe tbody tr th {\n",
       "        vertical-align: top;\n",
       "    }\n",
       "\n",
       "    .dataframe thead th {\n",
       "        text-align: right;\n",
       "    }\n",
       "</style>\n",
       "<table border=\"1\" class=\"dataframe\">\n",
       "  <thead>\n",
       "    <tr style=\"text-align: right;\">\n",
       "      <th></th>\n",
       "      <th>Bank_ID</th>\n",
       "      <th>bank_name</th>\n",
       "      <th>report_date</th>\n",
       "      <th>&lt;3m</th>\n",
       "      <th>3m-1y</th>\n",
       "      <th>1y-3y</th>\n",
       "      <th>3y-5y</th>\n",
       "      <th>5y-15y</th>\n",
       "      <th>&gt;15y</th>\n",
       "    </tr>\n",
       "  </thead>\n",
       "  <tbody>\n",
       "    <tr>\n",
       "      <th>1</th>\n",
       "      <td>37</td>\n",
       "      <td>BANK OF HANCOCK COUNTY</td>\n",
       "      <td>2022-03-31</td>\n",
       "      <td>355</td>\n",
       "      <td>354</td>\n",
       "      <td>2430</td>\n",
       "      <td>2229</td>\n",
       "      <td>2641</td>\n",
       "      <td>0</td>\n",
       "    </tr>\n",
       "    <tr>\n",
       "      <th>13</th>\n",
       "      <td>242</td>\n",
       "      <td>FIRST COMMUNITY BANK XENIA-FLORA</td>\n",
       "      <td>2022-03-31</td>\n",
       "      <td>683</td>\n",
       "      <td>588</td>\n",
       "      <td>2566</td>\n",
       "      <td>5361</td>\n",
       "      <td>2137</td>\n",
       "      <td>0</td>\n",
       "    </tr>\n",
       "    <tr>\n",
       "      <th>20</th>\n",
       "      <td>279</td>\n",
       "      <td>MINEOLA COMMUNITY BANK, SSB</td>\n",
       "      <td>2022-03-31</td>\n",
       "      <td>74</td>\n",
       "      <td>22</td>\n",
       "      <td>2136</td>\n",
       "      <td>4966</td>\n",
       "      <td>30924</td>\n",
       "      <td>113757</td>\n",
       "    </tr>\n",
       "    <tr>\n",
       "      <th>28</th>\n",
       "      <td>9553</td>\n",
       "      <td>ADAMS COUNTY BANK</td>\n",
       "      <td>2022-03-31</td>\n",
       "      <td>463</td>\n",
       "      <td>1013</td>\n",
       "      <td>1098</td>\n",
       "      <td>2114</td>\n",
       "      <td>2437</td>\n",
       "      <td>163</td>\n",
       "    </tr>\n",
       "    <tr>\n",
       "      <th>30</th>\n",
       "      <td>354</td>\n",
       "      <td>BISON STATE BANK</td>\n",
       "      <td>2022-03-31</td>\n",
       "      <td>41</td>\n",
       "      <td>230</td>\n",
       "      <td>995</td>\n",
       "      <td>4528</td>\n",
       "      <td>441</td>\n",
       "      <td>5310</td>\n",
       "    </tr>\n",
       "  </tbody>\n",
       "</table>\n",
       "</div>"
      ],
      "text/plain": [
       "    Bank_ID                         bank_name report_date  <3m  3m-1y  1y-3y  \\\n",
       "1        37            BANK OF HANCOCK COUNTY  2022-03-31  355    354   2430   \n",
       "13      242  FIRST COMMUNITY BANK XENIA-FLORA  2022-03-31  683    588   2566   \n",
       "20      279       MINEOLA COMMUNITY BANK, SSB  2022-03-31   74     22   2136   \n",
       "28     9553                 ADAMS COUNTY BANK  2022-03-31  463   1013   1098   \n",
       "30      354                  BISON STATE BANK  2022-03-31   41    230    995   \n",
       "\n",
       "    3y-5y  5y-15y    >15y  \n",
       "1    2229    2641       0  \n",
       "13   5361    2137       0  \n",
       "20   4966   30924  113757  \n",
       "28   2114    2437     163  \n",
       "30   4528     441    5310  "
      ]
     },
     "execution_count": 267,
     "metadata": {},
     "output_type": "execute_result"
    }
   ],
   "source": [
    "rcon_cols = ['RCONA564', 'RCONA565', 'RCONA566', 'RCONA567', 'RCONA568', 'RCONA569']\n",
    "rcon_cols2 = ['RCONA570', 'RCONA571', 'RCONA572', 'RCONA573', 'RCONA574', 'RCONA575']\n",
    "rcfd_cols = ['RCFDA570', 'RCFDA571', 'RCFDA572', 'RCFDA573', 'RCFDA574', 'RCFDA575']\n",
    "\n",
    "# Residential Loans with repricing maturity (secured by first liens)\n",
    "df_loans_first_lien_domestic = load_assets.clean_loans(rcon_data_1,rcon_cols,inital_date)\n",
    "\n",
    "# Loans and Leases (not-secured by first liens)\n",
    "df_loans_exc_first_lien = load_assets.clean_loans(rcfd_data_1,rcfd_cols,inital_date)\n",
    "df_loans_exc_first_lien_domestic = load_assets.clean_loans(rcon_data_2,rcon_cols2,inital_date)\n",
    "\n",
    "df_loans_first_lien_domestic.head()"
   ]
  },
  {
   "cell_type": "code",
   "execution_count": 268,
   "id": "1e768f6e",
   "metadata": {},
   "outputs": [
    {
     "data": {
      "text/html": [
       "<div>\n",
       "<style scoped>\n",
       "    .dataframe tbody tr th:only-of-type {\n",
       "        vertical-align: middle;\n",
       "    }\n",
       "\n",
       "    .dataframe tbody tr th {\n",
       "        vertical-align: top;\n",
       "    }\n",
       "\n",
       "    .dataframe thead th {\n",
       "        text-align: right;\n",
       "    }\n",
       "</style>\n",
       "<table border=\"1\" class=\"dataframe\">\n",
       "  <thead>\n",
       "    <tr style=\"text-align: right;\">\n",
       "      <th></th>\n",
       "      <th>Bank_ID</th>\n",
       "      <th>bank_name</th>\n",
       "      <th>report_date</th>\n",
       "      <th>&lt;3m</th>\n",
       "      <th>3m-1y</th>\n",
       "      <th>1y-3y</th>\n",
       "      <th>3y-5y</th>\n",
       "      <th>5y-15y</th>\n",
       "      <th>&gt;15y</th>\n",
       "    </tr>\n",
       "  </thead>\n",
       "  <tbody>\n",
       "    <tr>\n",
       "      <th>1</th>\n",
       "      <td>37</td>\n",
       "      <td>BANK OF HANCOCK COUNTY</td>\n",
       "      <td>2022-03-31</td>\n",
       "      <td>1082.0</td>\n",
       "      <td>3574.0</td>\n",
       "      <td>2928.0</td>\n",
       "      <td>3088.0</td>\n",
       "      <td>2106.0</td>\n",
       "      <td>0.0</td>\n",
       "    </tr>\n",
       "    <tr>\n",
       "      <th>10</th>\n",
       "      <td>279</td>\n",
       "      <td>MINEOLA COMMUNITY BANK, SSB</td>\n",
       "      <td>2022-03-31</td>\n",
       "      <td>8861.0</td>\n",
       "      <td>11647.0</td>\n",
       "      <td>16963.0</td>\n",
       "      <td>11508.0</td>\n",
       "      <td>18670.0</td>\n",
       "      <td>5189.0</td>\n",
       "    </tr>\n",
       "    <tr>\n",
       "      <th>12</th>\n",
       "      <td>242</td>\n",
       "      <td>FIRST COMMUNITY BANK XENIA-FLORA</td>\n",
       "      <td>2022-03-31</td>\n",
       "      <td>6436.0</td>\n",
       "      <td>2335.0</td>\n",
       "      <td>1715.0</td>\n",
       "      <td>2749.0</td>\n",
       "      <td>767.0</td>\n",
       "      <td>481.0</td>\n",
       "    </tr>\n",
       "    <tr>\n",
       "      <th>35</th>\n",
       "      <td>354</td>\n",
       "      <td>BISON STATE BANK</td>\n",
       "      <td>2022-03-31</td>\n",
       "      <td>1023.0</td>\n",
       "      <td>802.0</td>\n",
       "      <td>1041.0</td>\n",
       "      <td>1249.0</td>\n",
       "      <td>489.0</td>\n",
       "      <td>0.0</td>\n",
       "    </tr>\n",
       "    <tr>\n",
       "      <th>41</th>\n",
       "      <td>457</td>\n",
       "      <td>LOWRY STATE BANK</td>\n",
       "      <td>2022-03-31</td>\n",
       "      <td>5623.0</td>\n",
       "      <td>5694.0</td>\n",
       "      <td>6740.0</td>\n",
       "      <td>15109.0</td>\n",
       "      <td>6130.0</td>\n",
       "      <td>1116.0</td>\n",
       "    </tr>\n",
       "  </tbody>\n",
       "</table>\n",
       "</div>"
      ],
      "text/plain": [
       "    Bank_ID                         bank_name report_date     <3m    3m-1y  \\\n",
       "1        37            BANK OF HANCOCK COUNTY  2022-03-31  1082.0   3574.0   \n",
       "10      279       MINEOLA COMMUNITY BANK, SSB  2022-03-31  8861.0  11647.0   \n",
       "12      242  FIRST COMMUNITY BANK XENIA-FLORA  2022-03-31  6436.0   2335.0   \n",
       "35      354                  BISON STATE BANK  2022-03-31  1023.0    802.0   \n",
       "41      457                  LOWRY STATE BANK  2022-03-31  5623.0   5694.0   \n",
       "\n",
       "      1y-3y    3y-5y   5y-15y    >15y  \n",
       "1    2928.0   3088.0   2106.0     0.0  \n",
       "10  16963.0  11508.0  18670.0  5189.0  \n",
       "12   1715.0   2749.0    767.0   481.0  \n",
       "35   1041.0   1249.0    489.0     0.0  \n",
       "41   6740.0  15109.0   6130.0  1116.0  "
      ]
     },
     "execution_count": 268,
     "metadata": {},
     "output_type": "execute_result"
    }
   ],
   "source": [
    "df_other_loan = pd.concat([df_loans_exc_first_lien_domestic, df_loans_exc_first_lien])\n",
    "df_other_loan = df_other_loan.sort_index()\n",
    "df_other_loan.head()"
   ]
  },
  {
   "cell_type": "markdown",
   "id": "68d98ca5",
   "metadata": {},
   "source": [
    "### RMBs"
   ]
  },
  {
   "cell_type": "code",
   "execution_count": 269,
   "id": "4ebcb0ee",
   "metadata": {},
   "outputs": [],
   "source": [
    "rmbs_cols = ['RCFDA555', 'RCFDA556', 'RCFDA557', 'RCFDA558', 'RCFDA559', 'RCFDA560']\n",
    "rmbs_dom_cols = ['RCONA555', 'RCONA556', 'RCONA557', 'RCONA558', 'RCONA559', 'RCONA560']\n",
    "df_RMBS = load_assets.clean_loans(rcfd_data_1,rmbs_cols,inital_date)\n",
    "df_RMBS_dom = load_assets.clean_loans(rcon_data_1,rmbs_dom_cols,inital_date) #Form 051 - Domestic"
   ]
  },
  {
   "cell_type": "code",
   "execution_count": 270,
   "id": "931807f4",
   "metadata": {
    "ExecuteTime": {
     "end_time": "2024-02-27T17:58:50.400324300Z",
     "start_time": "2024-02-27T17:58:49.353787100Z"
    }
   },
   "outputs": [
    {
     "data": {
      "text/html": [
       "<div>\n",
       "<style scoped>\n",
       "    .dataframe tbody tr th:only-of-type {\n",
       "        vertical-align: middle;\n",
       "    }\n",
       "\n",
       "    .dataframe tbody tr th {\n",
       "        vertical-align: top;\n",
       "    }\n",
       "\n",
       "    .dataframe thead th {\n",
       "        text-align: right;\n",
       "    }\n",
       "</style>\n",
       "<table border=\"1\" class=\"dataframe\">\n",
       "  <thead>\n",
       "    <tr style=\"text-align: right;\">\n",
       "      <th></th>\n",
       "      <th>Bank_ID</th>\n",
       "      <th>bank_name</th>\n",
       "      <th>report_date</th>\n",
       "      <th>&lt;3m</th>\n",
       "      <th>3m-1y</th>\n",
       "      <th>1y-3y</th>\n",
       "      <th>3y-5y</th>\n",
       "      <th>5y-15y</th>\n",
       "      <th>&gt;15y</th>\n",
       "    </tr>\n",
       "  </thead>\n",
       "  <tbody>\n",
       "    <tr>\n",
       "      <th>1</th>\n",
       "      <td>37</td>\n",
       "      <td>BANK OF HANCOCK COUNTY</td>\n",
       "      <td>2022-03-31</td>\n",
       "      <td>0.0</td>\n",
       "      <td>0.0</td>\n",
       "      <td>0.0</td>\n",
       "      <td>0.0</td>\n",
       "      <td>856.0</td>\n",
       "      <td>6021.0</td>\n",
       "    </tr>\n",
       "    <tr>\n",
       "      <th>13</th>\n",
       "      <td>242</td>\n",
       "      <td>FIRST COMMUNITY BANK XENIA-FLORA</td>\n",
       "      <td>2022-03-31</td>\n",
       "      <td>0.0</td>\n",
       "      <td>0.0</td>\n",
       "      <td>0.0</td>\n",
       "      <td>0.0</td>\n",
       "      <td>0.0</td>\n",
       "      <td>0.0</td>\n",
       "    </tr>\n",
       "    <tr>\n",
       "      <th>20</th>\n",
       "      <td>279</td>\n",
       "      <td>MINEOLA COMMUNITY BANK, SSB</td>\n",
       "      <td>2022-03-31</td>\n",
       "      <td>2814.0</td>\n",
       "      <td>86.0</td>\n",
       "      <td>0.0</td>\n",
       "      <td>1049.0</td>\n",
       "      <td>26085.0</td>\n",
       "      <td>16737.0</td>\n",
       "    </tr>\n",
       "    <tr>\n",
       "      <th>28</th>\n",
       "      <td>9553</td>\n",
       "      <td>ADAMS COUNTY BANK</td>\n",
       "      <td>2022-03-31</td>\n",
       "      <td>43.0</td>\n",
       "      <td>178.0</td>\n",
       "      <td>156.0</td>\n",
       "      <td>760.0</td>\n",
       "      <td>7107.0</td>\n",
       "      <td>10334.0</td>\n",
       "    </tr>\n",
       "    <tr>\n",
       "      <th>30</th>\n",
       "      <td>354</td>\n",
       "      <td>BISON STATE BANK</td>\n",
       "      <td>2022-03-31</td>\n",
       "      <td>0.0</td>\n",
       "      <td>0.0</td>\n",
       "      <td>0.0</td>\n",
       "      <td>0.0</td>\n",
       "      <td>58.0</td>\n",
       "      <td>0.0</td>\n",
       "    </tr>\n",
       "  </tbody>\n",
       "</table>\n",
       "</div>"
      ],
      "text/plain": [
       "    Bank_ID                         bank_name report_date     <3m  3m-1y  \\\n",
       "1        37            BANK OF HANCOCK COUNTY  2022-03-31     0.0    0.0   \n",
       "13      242  FIRST COMMUNITY BANK XENIA-FLORA  2022-03-31     0.0    0.0   \n",
       "20      279       MINEOLA COMMUNITY BANK, SSB  2022-03-31  2814.0   86.0   \n",
       "28     9553                 ADAMS COUNTY BANK  2022-03-31    43.0  178.0   \n",
       "30      354                  BISON STATE BANK  2022-03-31     0.0    0.0   \n",
       "\n",
       "    1y-3y   3y-5y   5y-15y     >15y  \n",
       "1     0.0     0.0    856.0   6021.0  \n",
       "13    0.0     0.0      0.0      0.0  \n",
       "20    0.0  1049.0  26085.0  16737.0  \n",
       "28  156.0   760.0   7107.0  10334.0  \n",
       "30    0.0     0.0     58.0      0.0  "
      ]
     },
     "execution_count": 270,
     "metadata": {},
     "output_type": "execute_result"
    }
   ],
   "source": [
    "df_RMBS_Final = pd.concat([df_RMBS_dom, df_RMBS])\n",
    "df_RMBS_Final = df_RMBS_Final.sort_index()\n",
    "df_RMBS_Final.head()"
   ]
  },
  {
   "cell_type": "markdown",
   "id": "25d5b3e8",
   "metadata": {},
   "source": [
    "# Treausurys and Other (non-RMBs)"
   ]
  },
  {
   "cell_type": "code",
   "execution_count": 271,
   "id": "27443aaf",
   "metadata": {},
   "outputs": [],
   "source": [
    "non_RMBS_cols = ['RCFDA549', 'RCFDA550', 'RCFDA551', 'RCFDA552', 'RCFDA553', 'RCFDA554']\n",
    "non_RMBS_dom_cols = ['RCONA549', 'RCONA550', 'RCONA551', 'RCONA552', 'RCONA553', 'RCONA554']\n",
    "\n",
    "df_non_RMBS = load_assets.clean_loans(rcfd_data_2,non_RMBS_cols,inital_date)\n",
    "df_non_RMBS_dom = load_assets.clean_loans(rcon_data_2,non_RMBS_dom_cols,inital_date)"
   ]
  },
  {
   "cell_type": "code",
   "execution_count": 272,
   "id": "f1899b39",
   "metadata": {
    "ExecuteTime": {
     "end_time": "2024-02-27T17:58:51.260338Z",
     "start_time": "2024-02-27T17:58:49.554536300Z"
    }
   },
   "outputs": [
    {
     "data": {
      "text/html": [
       "<div>\n",
       "<style scoped>\n",
       "    .dataframe tbody tr th:only-of-type {\n",
       "        vertical-align: middle;\n",
       "    }\n",
       "\n",
       "    .dataframe tbody tr th {\n",
       "        vertical-align: top;\n",
       "    }\n",
       "\n",
       "    .dataframe thead th {\n",
       "        text-align: right;\n",
       "    }\n",
       "</style>\n",
       "<table border=\"1\" class=\"dataframe\">\n",
       "  <thead>\n",
       "    <tr style=\"text-align: right;\">\n",
       "      <th></th>\n",
       "      <th>Bank_ID</th>\n",
       "      <th>bank_name</th>\n",
       "      <th>report_date</th>\n",
       "      <th>&lt;3m</th>\n",
       "      <th>3m-1y</th>\n",
       "      <th>1y-3y</th>\n",
       "      <th>3y-5y</th>\n",
       "      <th>5y-15y</th>\n",
       "      <th>&gt;15y</th>\n",
       "    </tr>\n",
       "  </thead>\n",
       "  <tbody>\n",
       "    <tr>\n",
       "      <th>1</th>\n",
       "      <td>37</td>\n",
       "      <td>BANK OF HANCOCK COUNTY</td>\n",
       "      <td>2022-03-31</td>\n",
       "      <td>0.0</td>\n",
       "      <td>0.0</td>\n",
       "      <td>330.0</td>\n",
       "      <td>708.0</td>\n",
       "      <td>26220.0</td>\n",
       "      <td>19212.0</td>\n",
       "    </tr>\n",
       "    <tr>\n",
       "      <th>10</th>\n",
       "      <td>279</td>\n",
       "      <td>MINEOLA COMMUNITY BANK, SSB</td>\n",
       "      <td>2022-03-31</td>\n",
       "      <td>0.0</td>\n",
       "      <td>0.0</td>\n",
       "      <td>8190.0</td>\n",
       "      <td>7815.0</td>\n",
       "      <td>16591.0</td>\n",
       "      <td>5854.0</td>\n",
       "    </tr>\n",
       "    <tr>\n",
       "      <th>12</th>\n",
       "      <td>242</td>\n",
       "      <td>FIRST COMMUNITY BANK XENIA-FLORA</td>\n",
       "      <td>2022-03-31</td>\n",
       "      <td>600.0</td>\n",
       "      <td>784.0</td>\n",
       "      <td>2268.0</td>\n",
       "      <td>2813.0</td>\n",
       "      <td>11784.0</td>\n",
       "      <td>135.0</td>\n",
       "    </tr>\n",
       "    <tr>\n",
       "      <th>35</th>\n",
       "      <td>354</td>\n",
       "      <td>BISON STATE BANK</td>\n",
       "      <td>2022-03-31</td>\n",
       "      <td>150.0</td>\n",
       "      <td>348.0</td>\n",
       "      <td>0.0</td>\n",
       "      <td>189.0</td>\n",
       "      <td>0.0</td>\n",
       "      <td>0.0</td>\n",
       "    </tr>\n",
       "    <tr>\n",
       "      <th>41</th>\n",
       "      <td>457</td>\n",
       "      <td>LOWRY STATE BANK</td>\n",
       "      <td>2022-03-31</td>\n",
       "      <td>0.0</td>\n",
       "      <td>0.0</td>\n",
       "      <td>952.0</td>\n",
       "      <td>479.0</td>\n",
       "      <td>0.0</td>\n",
       "      <td>0.0</td>\n",
       "    </tr>\n",
       "  </tbody>\n",
       "</table>\n",
       "</div>"
      ],
      "text/plain": [
       "    Bank_ID                         bank_name report_date    <3m  3m-1y  \\\n",
       "1        37            BANK OF HANCOCK COUNTY  2022-03-31    0.0    0.0   \n",
       "10      279       MINEOLA COMMUNITY BANK, SSB  2022-03-31    0.0    0.0   \n",
       "12      242  FIRST COMMUNITY BANK XENIA-FLORA  2022-03-31  600.0  784.0   \n",
       "35      354                  BISON STATE BANK  2022-03-31  150.0  348.0   \n",
       "41      457                  LOWRY STATE BANK  2022-03-31    0.0    0.0   \n",
       "\n",
       "     1y-3y   3y-5y   5y-15y     >15y  \n",
       "1    330.0   708.0  26220.0  19212.0  \n",
       "10  8190.0  7815.0  16591.0   5854.0  \n",
       "12  2268.0  2813.0  11784.0    135.0  \n",
       "35     0.0   189.0      0.0      0.0  \n",
       "41   952.0   479.0      0.0      0.0  "
      ]
     },
     "execution_count": 272,
     "metadata": {},
     "output_type": "execute_result"
    }
   ],
   "source": [
    "df_treasury_and_others = pd.concat([df_non_RMBS_dom, df_non_RMBS])\n",
    "df_treasury_and_others = df_treasury_and_others.sort_index()\n",
    "df_treasury_and_others.head()"
   ]
  },
  {
   "cell_type": "code",
   "execution_count": 273,
   "id": "bcda7327",
   "metadata": {},
   "outputs": [
    {
     "data": {
      "text/html": [
       "<div>\n",
       "<style scoped>\n",
       "    .dataframe tbody tr th:only-of-type {\n",
       "        vertical-align: middle;\n",
       "    }\n",
       "\n",
       "    .dataframe tbody tr th {\n",
       "        vertical-align: top;\n",
       "    }\n",
       "\n",
       "    .dataframe thead th {\n",
       "        text-align: right;\n",
       "    }\n",
       "</style>\n",
       "<table border=\"1\" class=\"dataframe\">\n",
       "  <thead>\n",
       "    <tr style=\"text-align: right;\">\n",
       "      <th></th>\n",
       "      <th>Bank_ID</th>\n",
       "      <th>bank_name</th>\n",
       "      <th>report_date</th>\n",
       "      <th>&lt;3y</th>\n",
       "      <th>&gt;3y</th>\n",
       "    </tr>\n",
       "  </thead>\n",
       "  <tbody>\n",
       "    <tr>\n",
       "      <th>376</th>\n",
       "      <td>12311</td>\n",
       "      <td>HUNTINGTON NATIONAL BANK, THE</td>\n",
       "      <td>2022-03-31</td>\n",
       "      <td>905975.0</td>\n",
       "      <td>10885639.0</td>\n",
       "    </tr>\n",
       "    <tr>\n",
       "      <th>855</th>\n",
       "      <td>30810</td>\n",
       "      <td>DISCOVER BANK</td>\n",
       "      <td>2022-03-31</td>\n",
       "      <td>0.0</td>\n",
       "      <td>0.0</td>\n",
       "    </tr>\n",
       "    <tr>\n",
       "      <th>1013</th>\n",
       "      <td>35301</td>\n",
       "      <td>STATE STREET BANK AND TRUST COMPANY</td>\n",
       "      <td>2022-03-31</td>\n",
       "      <td>10596000.0</td>\n",
       "      <td>23772000.0</td>\n",
       "    </tr>\n",
       "    <tr>\n",
       "      <th>1704</th>\n",
       "      <td>112837</td>\n",
       "      <td>CAPITAL ONE, NATIONAL ASSOCIATION</td>\n",
       "      <td>2022-03-31</td>\n",
       "      <td>2189917.0</td>\n",
       "      <td>17014374.0</td>\n",
       "    </tr>\n",
       "    <tr>\n",
       "      <th>2033</th>\n",
       "      <td>171133</td>\n",
       "      <td>EASTERN NATIONAL BANK</td>\n",
       "      <td>2022-03-31</td>\n",
       "      <td>0.0</td>\n",
       "      <td>0.0</td>\n",
       "    </tr>\n",
       "  </tbody>\n",
       "</table>\n",
       "</div>"
      ],
      "text/plain": [
       "      Bank_ID                            bank_name report_date         <3y  \\\n",
       "376     12311        HUNTINGTON NATIONAL BANK, THE  2022-03-31    905975.0   \n",
       "855     30810                        DISCOVER BANK  2022-03-31         0.0   \n",
       "1013    35301  STATE STREET BANK AND TRUST COMPANY  2022-03-31  10596000.0   \n",
       "1704   112837    CAPITAL ONE, NATIONAL ASSOCIATION  2022-03-31   2189917.0   \n",
       "2033   171133                EASTERN NATIONAL BANK  2022-03-31         0.0   \n",
       "\n",
       "             >3y  \n",
       "376   10885639.0  \n",
       "855          0.0  \n",
       "1013  23772000.0  \n",
       "1704  17014374.0  \n",
       "2033         0.0  "
      ]
     },
     "execution_count": 273,
     "metadata": {},
     "output_type": "execute_result"
    }
   ],
   "source": [
    "other_cols = ['RCFDA561', 'RCFDA562']\n",
    "other_cols2 = ['RCONA561', 'RCONA562']\n",
    "other_names = ['<3y', '>3y']\n",
    "\n",
    "df_other_MBS =  load_assets.clean_others(rcfd_data_1,other_cols,other_names,inital_date)\n",
    "df_other_MBS_domestic =  load_assets.clean_others(rcon_data_2,other_cols2,other_names,inital_date)\n",
    "df_other_MBS_total = pd.concat([df_other_MBS, df_other_MBS_domestic])\n",
    "df_other_MBS_total.head()"
   ]
  },
  {
   "cell_type": "code",
   "execution_count": 274,
   "id": "e6de4e28",
   "metadata": {},
   "outputs": [
    {
     "data": {
      "text/html": [
       "<div>\n",
       "<style scoped>\n",
       "    .dataframe tbody tr th:only-of-type {\n",
       "        vertical-align: middle;\n",
       "    }\n",
       "\n",
       "    .dataframe tbody tr th {\n",
       "        vertical-align: top;\n",
       "    }\n",
       "\n",
       "    .dataframe thead th {\n",
       "        text-align: right;\n",
       "    }\n",
       "</style>\n",
       "<table border=\"1\" class=\"dataframe\">\n",
       "  <thead>\n",
       "    <tr style=\"text-align: right;\">\n",
       "      <th></th>\n",
       "      <th>Bank_ID</th>\n",
       "      <th>bank_name</th>\n",
       "      <th>report_date</th>\n",
       "      <th>&lt;1y</th>\n",
       "    </tr>\n",
       "  </thead>\n",
       "  <tbody>\n",
       "    <tr>\n",
       "      <th>376</th>\n",
       "      <td>12311</td>\n",
       "      <td>HUNTINGTON NATIONAL BANK, THE</td>\n",
       "      <td>2022-03-31</td>\n",
       "      <td>19296859.0</td>\n",
       "    </tr>\n",
       "    <tr>\n",
       "      <th>855</th>\n",
       "      <td>30810</td>\n",
       "      <td>DISCOVER BANK</td>\n",
       "      <td>2022-03-31</td>\n",
       "      <td>185091.0</td>\n",
       "    </tr>\n",
       "    <tr>\n",
       "      <th>1013</th>\n",
       "      <td>35301</td>\n",
       "      <td>STATE STREET BANK AND TRUST COMPANY</td>\n",
       "      <td>2022-03-31</td>\n",
       "      <td>20053000.0</td>\n",
       "    </tr>\n",
       "    <tr>\n",
       "      <th>1704</th>\n",
       "      <td>112837</td>\n",
       "      <td>CAPITAL ONE, NATIONAL ASSOCIATION</td>\n",
       "      <td>2022-03-31</td>\n",
       "      <td>17539810.0</td>\n",
       "    </tr>\n",
       "    <tr>\n",
       "      <th>2033</th>\n",
       "      <td>171133</td>\n",
       "      <td>EASTERN NATIONAL BANK</td>\n",
       "      <td>2022-03-31</td>\n",
       "      <td>50876.0</td>\n",
       "    </tr>\n",
       "  </tbody>\n",
       "</table>\n",
       "</div>"
      ],
      "text/plain": [
       "      Bank_ID                            bank_name report_date         <1y\n",
       "376     12311        HUNTINGTON NATIONAL BANK, THE  2022-03-31  19296859.0\n",
       "855     30810                        DISCOVER BANK  2022-03-31    185091.0\n",
       "1013    35301  STATE STREET BANK AND TRUST COMPANY  2022-03-31  20053000.0\n",
       "1704   112837    CAPITAL ONE, NATIONAL ASSOCIATION  2022-03-31  17539810.0\n",
       "2033   171133                EASTERN NATIONAL BANK  2022-03-31     50876.0"
      ]
     },
     "execution_count": 274,
     "metadata": {},
     "output_type": "execute_result"
    }
   ],
   "source": [
    "other_leases = ['RCFDA247']\n",
    "other_leases2 = ['RCONA247']\n",
    "other_names2 = ['<1y']\n",
    "\n",
    "df_other_loan_lease =  load_assets.clean_others(rcfd_data_1,other_leases,other_names2,inital_date)\n",
    "df_other_loan_lease_domestic =  load_assets.clean_others(rcon_data_1,other_leases2,other_names2,inital_date)\n",
    "df_total_other_loan_lease = pd.concat([df_other_loan_lease, df_other_loan_lease_domestic])\n",
    "df_total_other_loan_lease.head()"
   ]
  },
  {
   "cell_type": "markdown",
   "id": "45ccc0bb",
   "metadata": {},
   "source": [
    "# Asset Decomposition\n",
    "\n",
    "- We caculated the total amount of core assets (RMBs, Treasuries, Residential Loans, Other Loans)\n",
    "- We divided this by total amount of the asset (asset ratio), and calculate the ratios among the 4 categories\n",
    "- We also calculated the ratio for other MBS and other leases, but these are not used in the subsequent analyses"
   ]
  },
  {
   "cell_type": "code",
   "execution_count": 275,
   "id": "e41fbba4",
   "metadata": {},
   "outputs": [
    {
     "name": "stdout",
     "output_type": "stream",
     "text": [
      "total assets: 16,590,518,404.00\n"
     ]
    }
   ],
   "source": [
    "sum_asset = 0\n",
    "for df in [df_RMBS_Final, df_loans_first_lien_domestic, df_treasury_and_others, df_other_loan]:\n",
    "    total = df[['<3m', '3m-1y', '1y-3y', '3y-5y', '5y-15y', '>15y']].sum().sum()\n",
    "    sum_asset += total\n",
    "\n",
    "print('total assets:',\"{:,.2f}\".format(sum_asset))"
   ]
  },
  {
   "cell_type": "code",
   "execution_count": 276,
   "id": "0197f339",
   "metadata": {},
   "outputs": [
    {
     "name": "stdout",
     "output_type": "stream",
     "text": [
      "assets ratio: 69.16%\n"
     ]
    }
   ],
   "source": [
    "print('assets ratio:',\"{:,.2%}\".format(sum_asset/total_asset))"
   ]
  },
  {
   "cell_type": "code",
   "execution_count": 277,
   "id": "a0b5022c",
   "metadata": {},
   "outputs": [
    {
     "data": {
      "text/plain": [
       "'9.81%'"
      ]
     },
     "execution_count": 277,
     "metadata": {},
     "output_type": "execute_result"
    }
   ],
   "source": [
    "RMBS = df_RMBS_Final[['<3m', '3m-1y', '1y-3y', '3y-5y', '5y-15y', '>15y']].sum().sum()\n",
    "a = RMBS / total_asset\n",
    "\"{:,.2%}\".format(a)"
   ]
  },
  {
   "cell_type": "code",
   "execution_count": 278,
   "id": "51ab438d",
   "metadata": {},
   "outputs": [
    {
     "data": {
      "text/plain": [
       "'9.28%'"
      ]
     },
     "execution_count": 278,
     "metadata": {},
     "output_type": "execute_result"
    }
   ],
   "source": [
    "df_loans = df_loans_first_lien_domestic[['<3m', '3m-1y', '1y-3y', '3y-5y', '5y-15y', '>15y']].sum().sum()\n",
    "b = df_loans / total_asset\n",
    "\"{:,.2%}\".format(b)"
   ]
  },
  {
   "cell_type": "code",
   "execution_count": 279,
   "id": "5569f81c",
   "metadata": {},
   "outputs": [
    {
     "data": {
      "text/plain": [
       "'12.26%'"
      ]
     },
     "execution_count": 279,
     "metadata": {},
     "output_type": "execute_result"
    }
   ],
   "source": [
    "df_treasury = df_treasury_and_others[['<3m', '3m-1y', '1y-3y', '3y-5y', '5y-15y', '>15y']].sum().sum()\n",
    "c = df_treasury / total_asset\n",
    "\"{:,.2%}\".format(c)"
   ]
  },
  {
   "cell_type": "code",
   "execution_count": 280,
   "id": "eb5914e1",
   "metadata": {},
   "outputs": [
    {
     "data": {
      "text/plain": [
       "'37.81%'"
      ]
     },
     "execution_count": 280,
     "metadata": {},
     "output_type": "execute_result"
    }
   ],
   "source": [
    "df_other_ln = df_other_loan[['<3m', '3m-1y', '1y-3y', '3y-5y', '5y-15y', '>15y']].sum().sum()\n",
    "d = df_other_ln / total_asset\n",
    "\"{:,.2%}\".format(d)"
   ]
  },
  {
   "cell_type": "code",
   "execution_count": 281,
   "id": "5e5b0373",
   "metadata": {},
   "outputs": [
    {
     "data": {
      "text/plain": [
       "'3.98%'"
      ]
     },
     "execution_count": 281,
     "metadata": {},
     "output_type": "execute_result"
    }
   ],
   "source": [
    "df_other_MBS = df_other_MBS_total[['<3y', '>3y']].sum().sum()\n",
    "e = df_other_MBS  / total_asset\n",
    "\"{:,.2%}\".format(e)"
   ]
  },
  {
   "cell_type": "code",
   "execution_count": 282,
   "id": "636b9936",
   "metadata": {},
   "outputs": [
    {
     "data": {
      "text/plain": [
       "'9.35%'"
      ]
     },
     "execution_count": 282,
     "metadata": {},
     "output_type": "execute_result"
    }
   ],
   "source": [
    "df_total_other_ll = df_total_other_loan_lease['<1y'].sum()\n",
    "f = df_total_other_ll / total_asset\n",
    "\"{:,.2%}\".format(f)"
   ]
  },
  {
   "cell_type": "code",
   "execution_count": 283,
   "id": "c7b1ff83",
   "metadata": {},
   "outputs": [
    {
     "data": {
      "text/plain": [
       "'73.14%'"
      ]
     },
     "execution_count": 283,
     "metadata": {},
     "output_type": "execute_result"
    }
   ],
   "source": [
    "\"{:,.2%}\".format(a+b+c+d+e) #matches with the function above"
   ]
  },
  {
   "cell_type": "markdown",
   "id": "2e6c3b28",
   "metadata": {},
   "source": [
    "## roughly the same as the security component (see Panel A)"
   ]
  },
  {
   "cell_type": "code",
   "execution_count": 284,
   "id": "724cef75",
   "metadata": {},
   "outputs": [
    {
     "data": {
      "text/plain": [
       "'26.05%'"
      ]
     },
     "execution_count": 284,
     "metadata": {},
     "output_type": "execute_result"
    }
   ],
   "source": [
    "\"{:,.2%}\".format(a+e+c)"
   ]
  },
  {
   "cell_type": "markdown",
   "id": "8066a4e3",
   "metadata": {},
   "source": [
    "## roughly the same as the total loan component (see Panel A)"
   ]
  },
  {
   "cell_type": "code",
   "execution_count": 285,
   "id": "eb7d21da",
   "metadata": {},
   "outputs": [
    {
     "data": {
      "text/plain": [
       "'47.09%'"
      ]
     },
     "execution_count": 285,
     "metadata": {},
     "output_type": "execute_result"
    }
   ],
   "source": [
    "\"{:,.2%}\".format(d+b)"
   ]
  },
  {
   "cell_type": "markdown",
   "id": "6d517953",
   "metadata": {},
   "source": [
    " "
   ]
  },
  {
   "cell_type": "markdown",
   "id": "5f6091d7",
   "metadata": {},
   "source": [
    "# Table Analysis (Below are the contents for first column of table 1)"
   ]
  },
  {
   "cell_type": "markdown",
   "id": "88ee3d68",
   "metadata": {},
   "source": [
    "# 1. Aggregate Loss and Bank Loss (include each share)"
   ]
  },
  {
   "cell_type": "markdown",
   "id": "52bc311d",
   "metadata": {},
   "source": [
    "###  Treasury prices"
   ]
  },
  {
   "cell_type": "code",
   "execution_count": 286,
   "id": "edc57d30",
   "metadata": {
    "ExecuteTime": {
     "end_time": "2024-02-27T17:58:52.610176200Z",
     "start_time": "2024-02-27T17:58:49.614620800Z"
    }
   },
   "outputs": [
    {
     "data": {
      "text/html": [
       "<div>\n",
       "<style scoped>\n",
       "    .dataframe tbody tr th:only-of-type {\n",
       "        vertical-align: middle;\n",
       "    }\n",
       "\n",
       "    .dataframe tbody tr th {\n",
       "        vertical-align: top;\n",
       "    }\n",
       "\n",
       "    .dataframe thead th {\n",
       "        text-align: right;\n",
       "    }\n",
       "</style>\n",
       "<table border=\"1\" class=\"dataframe\">\n",
       "  <thead>\n",
       "    <tr style=\"text-align: right;\">\n",
       "      <th></th>\n",
       "      <th>iShares 0-1</th>\n",
       "      <th>iShares 1-3</th>\n",
       "      <th>sp 3-5</th>\n",
       "      <th>iShares 7-10</th>\n",
       "      <th>iShares 10-20</th>\n",
       "      <th>iShares 20+</th>\n",
       "    </tr>\n",
       "    <tr>\n",
       "      <th>date</th>\n",
       "      <th></th>\n",
       "      <th></th>\n",
       "      <th></th>\n",
       "      <th></th>\n",
       "      <th></th>\n",
       "      <th></th>\n",
       "    </tr>\n",
       "  </thead>\n",
       "  <tbody>\n",
       "    <tr>\n",
       "      <th>2022-03-31</th>\n",
       "      <td>102.080002</td>\n",
       "      <td>81.459160</td>\n",
       "      <td>490.30</td>\n",
       "      <td>109.055511</td>\n",
       "      <td>138.736893</td>\n",
       "      <td>139.034607</td>\n",
       "    </tr>\n",
       "    <tr>\n",
       "      <th>2022-06-30</th>\n",
       "      <td>101.980003</td>\n",
       "      <td>79.252747</td>\n",
       "      <td>465.35</td>\n",
       "      <td>101.439735</td>\n",
       "      <td>126.306000</td>\n",
       "      <td>124.729774</td>\n",
       "    </tr>\n",
       "    <tr>\n",
       "      <th>2022-09-30</th>\n",
       "      <td>101.980003</td>\n",
       "      <td>79.260551</td>\n",
       "      <td>464.47</td>\n",
       "      <td>98.588120</td>\n",
       "      <td>114.192192</td>\n",
       "      <td>109.723854</td>\n",
       "    </tr>\n",
       "    <tr>\n",
       "      <th>2022-12-31</th>\n",
       "      <td>102.220001</td>\n",
       "      <td>77.765366</td>\n",
       "      <td>445.74</td>\n",
       "      <td>91.988579</td>\n",
       "      <td>103.304291</td>\n",
       "      <td>97.439491</td>\n",
       "    </tr>\n",
       "    <tr>\n",
       "      <th>2023-03-31</th>\n",
       "      <td>103.180000</td>\n",
       "      <td>78.298477</td>\n",
       "      <td>450.77</td>\n",
       "      <td>92.527946</td>\n",
       "      <td>103.718979</td>\n",
       "      <td>95.607788</td>\n",
       "    </tr>\n",
       "  </tbody>\n",
       "</table>\n",
       "</div>"
      ],
      "text/plain": [
       "            iShares 0-1  iShares 1-3  sp 3-5  iShares 7-10  iShares 10-20  \\\n",
       "date                                                                        \n",
       "2022-03-31   102.080002    81.459160  490.30    109.055511     138.736893   \n",
       "2022-06-30   101.980003    79.252747  465.35    101.439735     126.306000   \n",
       "2022-09-30   101.980003    79.260551  464.47     98.588120     114.192192   \n",
       "2022-12-31   102.220001    77.765366  445.74     91.988579     103.304291   \n",
       "2023-03-31   103.180000    78.298477  450.77     92.527946     103.718979   \n",
       "\n",
       "            iShares 20+  \n",
       "date                     \n",
       "2022-03-31   139.034607  \n",
       "2022-06-30   124.729774  \n",
       "2022-09-30   109.723854  \n",
       "2022-12-31    97.439491  \n",
       "2023-03-31    95.607788  "
      ]
     },
     "execution_count": 286,
     "metadata": {},
     "output_type": "execute_result"
    }
   ],
   "source": [
    "combined_index_df = data_read.load_df('combined_index_df')\n",
    "treasury_prices = combined_index_df[['iShares 0-1', 'iShares 1-3', 'sp 3-5', 'iShares 7-10', 'iShares 10-20', 'iShares 20+']]\n",
    "treasury_prices = treasury_prices.resample('Q').first()\n",
    "treasury_prices = treasury_prices.loc[inital_date:analysis_date]\n",
    "treasury_prices"
   ]
  },
  {
   "cell_type": "code",
   "execution_count": 287,
   "id": "4d3ebbc9",
   "metadata": {},
   "outputs": [
    {
     "data": {
      "text/html": [
       "<div>\n",
       "<style scoped>\n",
       "    .dataframe tbody tr th:only-of-type {\n",
       "        vertical-align: middle;\n",
       "    }\n",
       "\n",
       "    .dataframe tbody tr th {\n",
       "        vertical-align: top;\n",
       "    }\n",
       "\n",
       "    .dataframe thead th {\n",
       "        text-align: right;\n",
       "    }\n",
       "</style>\n",
       "<table border=\"1\" class=\"dataframe\">\n",
       "  <thead>\n",
       "    <tr style=\"text-align: right;\">\n",
       "      <th></th>\n",
       "      <th>S&amp;P U.S. Treasury Bond Index</th>\n",
       "    </tr>\n",
       "    <tr>\n",
       "      <th>date</th>\n",
       "      <th></th>\n",
       "    </tr>\n",
       "  </thead>\n",
       "  <tbody>\n",
       "    <tr>\n",
       "      <th>2022-03-31</th>\n",
       "      <td>470.35</td>\n",
       "    </tr>\n",
       "    <tr>\n",
       "      <th>2022-06-30</th>\n",
       "      <td>449.59</td>\n",
       "    </tr>\n",
       "    <tr>\n",
       "      <th>2022-09-30</th>\n",
       "      <td>438.25</td>\n",
       "    </tr>\n",
       "    <tr>\n",
       "      <th>2022-12-31</th>\n",
       "      <td>421.94</td>\n",
       "    </tr>\n",
       "    <tr>\n",
       "      <th>2023-03-31</th>\n",
       "      <td>423.71</td>\n",
       "    </tr>\n",
       "  </tbody>\n",
       "</table>\n",
       "</div>"
      ],
      "text/plain": [
       "            S&P U.S. Treasury Bond Index\n",
       "date                                    \n",
       "2022-03-31                        470.35\n",
       "2022-06-30                        449.59\n",
       "2022-09-30                        438.25\n",
       "2022-12-31                        421.94\n",
       "2023-03-31                        423.71"
      ]
     },
     "execution_count": 287,
     "metadata": {},
     "output_type": "execute_result"
    }
   ],
   "source": [
    "df_SP_Treasury_bond_index = data_read.load_df('Treasury_index',1)\n",
    "df_SP_Treasury_bond_index = df_SP_Treasury_bond_index.resample('Q').first()\n",
    "df_SP_Treasury_bond_index = df_SP_Treasury_bond_index.loc[inital_date:analysis_date]\n",
    "df_SP_Treasury_bond_index\n"
   ]
  },
  {
   "cell_type": "code",
   "execution_count": 288,
   "id": "2ae7abc6",
   "metadata": {},
   "outputs": [
    {
     "data": {
      "text/html": [
       "<div>\n",
       "<style scoped>\n",
       "    .dataframe tbody tr th:only-of-type {\n",
       "        vertical-align: middle;\n",
       "    }\n",
       "\n",
       "    .dataframe tbody tr th {\n",
       "        vertical-align: top;\n",
       "    }\n",
       "\n",
       "    .dataframe thead th {\n",
       "        text-align: right;\n",
       "    }\n",
       "</style>\n",
       "<table border=\"1\" class=\"dataframe\">\n",
       "  <thead>\n",
       "    <tr style=\"text-align: right;\">\n",
       "      <th></th>\n",
       "      <th>Open</th>\n",
       "      <th>High</th>\n",
       "      <th>Low</th>\n",
       "      <th>Close</th>\n",
       "      <th>Adj Close</th>\n",
       "      <th>Volume</th>\n",
       "    </tr>\n",
       "    <tr>\n",
       "      <th>date</th>\n",
       "      <th></th>\n",
       "      <th></th>\n",
       "      <th></th>\n",
       "      <th></th>\n",
       "      <th></th>\n",
       "      <th></th>\n",
       "    </tr>\n",
       "  </thead>\n",
       "  <tbody>\n",
       "    <tr>\n",
       "      <th>2022-03-31</th>\n",
       "      <td>107.279999</td>\n",
       "      <td>107.279999</td>\n",
       "      <td>107.000000</td>\n",
       "      <td>107.000000</td>\n",
       "      <td>100.458702</td>\n",
       "      <td>2352200</td>\n",
       "    </tr>\n",
       "    <tr>\n",
       "      <th>2022-06-30</th>\n",
       "      <td>100.940002</td>\n",
       "      <td>101.349998</td>\n",
       "      <td>100.879997</td>\n",
       "      <td>101.260002</td>\n",
       "      <td>95.471237</td>\n",
       "      <td>1854600</td>\n",
       "    </tr>\n",
       "    <tr>\n",
       "      <th>2022-09-30</th>\n",
       "      <td>97.989998</td>\n",
       "      <td>98.599998</td>\n",
       "      <td>97.809998</td>\n",
       "      <td>98.010002</td>\n",
       "      <td>92.840919</td>\n",
       "      <td>1463400</td>\n",
       "    </tr>\n",
       "    <tr>\n",
       "      <th>2022-12-31</th>\n",
       "      <td>92.169998</td>\n",
       "      <td>92.879997</td>\n",
       "      <td>92.120003</td>\n",
       "      <td>92.220001</td>\n",
       "      <td>87.885315</td>\n",
       "      <td>2229800</td>\n",
       "    </tr>\n",
       "    <tr>\n",
       "      <th>2023-03-31</th>\n",
       "      <td>93.559998</td>\n",
       "      <td>93.699997</td>\n",
       "      <td>93.110001</td>\n",
       "      <td>93.190002</td>\n",
       "      <td>89.444168</td>\n",
       "      <td>2060800</td>\n",
       "    </tr>\n",
       "  </tbody>\n",
       "</table>\n",
       "</div>"
      ],
      "text/plain": [
       "                  Open        High         Low       Close   Adj Close  \\\n",
       "date                                                                     \n",
       "2022-03-31  107.279999  107.279999  107.000000  107.000000  100.458702   \n",
       "2022-06-30  100.940002  101.349998  100.879997  101.260002   95.471237   \n",
       "2022-09-30   97.989998   98.599998   97.809998   98.010002   92.840919   \n",
       "2022-12-31   92.169998   92.879997   92.120003   92.220001   87.885315   \n",
       "2023-03-31   93.559998   93.699997   93.110001   93.190002   89.444168   \n",
       "\n",
       "             Volume  \n",
       "date                 \n",
       "2022-03-31  2352200  \n",
       "2022-06-30  1854600  \n",
       "2022-09-30  1463400  \n",
       "2022-12-31  2229800  \n",
       "2023-03-31  2060800  "
      ]
     },
     "execution_count": 288,
     "metadata": {},
     "output_type": "execute_result"
    }
   ],
   "source": [
    "df_iShare_MBS_ETF = data_read.load_df('MBS_ETF',1,csv=True)\n",
    "df_iShare_MBS_ETF.index = pd.to_datetime(df_iShare_MBS_ETF.index)\n",
    "df_iShare_MBS_ETF = df_iShare_MBS_ETF.resample('Q').first()\n",
    "df_iShare_MBS_ETF.index.rename('date', inplace=True)\n",
    "df_iShare_MBS_ETF = df_iShare_MBS_ETF.loc['2022-03-31':'2023-03-31']\n",
    "df_iShare_MBS_ETF"
   ]
  },
  {
   "cell_type": "code",
   "execution_count": 289,
   "id": "ddfba33f",
   "metadata": {},
   "outputs": [
    {
     "data": {
      "text/plain": [
       "1.1057098336413254"
      ]
     },
     "execution_count": 289,
     "metadata": {},
     "output_type": "execute_result"
    }
   ],
   "source": [
    "RMBS_Multiplier = calc_functions.RMBs_Multiplier(df_SP_Treasury_bond_index, df_iShare_MBS_ETF,inital_date,analysis_date)\n",
    "RMBS_Multiplier"
   ]
  },
  {
   "cell_type": "code",
   "execution_count": 290,
   "id": "bdeafce6",
   "metadata": {},
   "outputs": [],
   "source": [
    "#Create copies for each dataframe\n",
    "df_RMBS_Final_1 = df_RMBS_Final.copy() \n",
    "df_loans_first_lien_domestic_1 = df_loans_first_lien_domestic.copy()\n",
    "df_treasury_and_others_1 = df_treasury_and_others.copy()\n",
    "df_other_loan_1 = df_other_loan.copy()"
   ]
  },
  {
   "cell_type": "code",
   "execution_count": 291,
   "id": "5018d3f4",
   "metadata": {},
   "outputs": [
    {
     "data": {
      "text/html": [
       "<div>\n",
       "<style scoped>\n",
       "    .dataframe tbody tr th:only-of-type {\n",
       "        vertical-align: middle;\n",
       "    }\n",
       "\n",
       "    .dataframe tbody tr th {\n",
       "        vertical-align: top;\n",
       "    }\n",
       "\n",
       "    .dataframe thead th {\n",
       "        text-align: right;\n",
       "    }\n",
       "</style>\n",
       "<table border=\"1\" class=\"dataframe\">\n",
       "  <thead>\n",
       "    <tr style=\"text-align: right;\">\n",
       "      <th></th>\n",
       "      <th>bank_name</th>\n",
       "      <th>bank_ID</th>\n",
       "      <th>RMBs_loss</th>\n",
       "      <th>treasury_loss</th>\n",
       "      <th>loans_loss</th>\n",
       "      <th>other_loan_loss</th>\n",
       "      <th>total_loss</th>\n",
       "      <th>Share RMBs</th>\n",
       "      <th>Share Treasury and Other</th>\n",
       "      <th>Share Residential Mortgage</th>\n",
       "      <th>Share Other Loan</th>\n",
       "      <th>RMBs_asset</th>\n",
       "      <th>treasury_asset</th>\n",
       "      <th>residential_mortgage_asset</th>\n",
       "      <th>other_loan_asset</th>\n",
       "      <th>core_asset</th>\n",
       "      <th>gross_asset</th>\n",
       "      <th>loss/core_asset</th>\n",
       "      <th>loss/gross_asset</th>\n",
       "    </tr>\n",
       "  </thead>\n",
       "  <tbody>\n",
       "    <tr>\n",
       "      <th>0</th>\n",
       "      <td>HUNTINGTON NATIONAL BANK, THE</td>\n",
       "      <td>12311</td>\n",
       "      <td>-8.105538e+06</td>\n",
       "      <td>-8.757660e+05</td>\n",
       "      <td>-5.646935e+06</td>\n",
       "      <td>-4.401663e+06</td>\n",
       "      <td>-1.902990e+07</td>\n",
       "      <td>42.593691</td>\n",
       "      <td>4.602052</td>\n",
       "      <td>29.674011</td>\n",
       "      <td>23.130245</td>\n",
       "      <td>23910558.0</td>\n",
       "      <td>6623679.0</td>\n",
       "      <td>22529389</td>\n",
       "      <td>92122592.0</td>\n",
       "      <td>145186218.0</td>\n",
       "      <td>176020595.0</td>\n",
       "      <td>0.131072</td>\n",
       "      <td>0.108112</td>\n",
       "    </tr>\n",
       "    <tr>\n",
       "      <th>1</th>\n",
       "      <td>DISCOVER BANK</td>\n",
       "      <td>30810</td>\n",
       "      <td>-9.594459e+04</td>\n",
       "      <td>-1.434050e+05</td>\n",
       "      <td>-2.555414e+05</td>\n",
       "      <td>-1.936466e+06</td>\n",
       "      <td>-2.431357e+06</td>\n",
       "      <td>3.946134</td>\n",
       "      <td>5.898146</td>\n",
       "      <td>10.510240</td>\n",
       "      <td>79.645481</td>\n",
       "      <td>364810.0</td>\n",
       "      <td>5612015.0</td>\n",
       "      <td>804718</td>\n",
       "      <td>92452467.0</td>\n",
       "      <td>99234010.0</td>\n",
       "      <td>105657408.0</td>\n",
       "      <td>0.024501</td>\n",
       "      <td>0.023012</td>\n",
       "    </tr>\n",
       "    <tr>\n",
       "      <th>2</th>\n",
       "      <td>STATE STREET BANK AND TRUST COMPANY</td>\n",
       "      <td>35301</td>\n",
       "      <td>-7.345597e+06</td>\n",
       "      <td>-3.128506e+06</td>\n",
       "      <td>0.000000e+00</td>\n",
       "      <td>-3.729909e+05</td>\n",
       "      <td>-1.084709e+07</td>\n",
       "      <td>67.719491</td>\n",
       "      <td>28.841883</td>\n",
       "      <td>-0.000000</td>\n",
       "      <td>3.438626</td>\n",
       "      <td>22436000.0</td>\n",
       "      <td>62518000.0</td>\n",
       "      <td>0</td>\n",
       "      <td>35293000.0</td>\n",
       "      <td>120247000.0</td>\n",
       "      <td>318494000.0</td>\n",
       "      <td>0.090207</td>\n",
       "      <td>0.034057</td>\n",
       "    </tr>\n",
       "    <tr>\n",
       "      <th>3</th>\n",
       "      <td>COMERICA BANK</td>\n",
       "      <td>60143</td>\n",
       "      <td>-3.153674e+06</td>\n",
       "      <td>-5.015969e+05</td>\n",
       "      <td>-3.526598e+05</td>\n",
       "      <td>-2.206119e+04</td>\n",
       "      <td>-4.029991e+06</td>\n",
       "      <td>78.255093</td>\n",
       "      <td>12.446600</td>\n",
       "      <td>8.750882</td>\n",
       "      <td>0.547425</td>\n",
       "      <td>9378000.0</td>\n",
       "      <td>4835000.0</td>\n",
       "      <td>1825000</td>\n",
       "      <td>47475000.0</td>\n",
       "      <td>63513000.0</td>\n",
       "      <td>89142000.0</td>\n",
       "      <td>0.063451</td>\n",
       "      <td>0.045209</td>\n",
       "    </tr>\n",
       "    <tr>\n",
       "      <th>4</th>\n",
       "      <td>CITY NATIONAL BANK</td>\n",
       "      <td>63069</td>\n",
       "      <td>-7.975196e+04</td>\n",
       "      <td>-4.008263e+05</td>\n",
       "      <td>-4.672095e+06</td>\n",
       "      <td>-1.631691e+06</td>\n",
       "      <td>-6.784364e+06</td>\n",
       "      <td>1.175526</td>\n",
       "      <td>5.908090</td>\n",
       "      <td>68.865624</td>\n",
       "      <td>24.050760</td>\n",
       "      <td>336792.0</td>\n",
       "      <td>5698026.0</td>\n",
       "      <td>19072816</td>\n",
       "      <td>39175374.0</td>\n",
       "      <td>64283008.0</td>\n",
       "      <td>91770285.0</td>\n",
       "      <td>0.105539</td>\n",
       "      <td>0.073928</td>\n",
       "    </tr>\n",
       "    <tr>\n",
       "      <th>...</th>\n",
       "      <td>...</td>\n",
       "      <td>...</td>\n",
       "      <td>...</td>\n",
       "      <td>...</td>\n",
       "      <td>...</td>\n",
       "      <td>...</td>\n",
       "      <td>...</td>\n",
       "      <td>...</td>\n",
       "      <td>...</td>\n",
       "      <td>...</td>\n",
       "      <td>...</td>\n",
       "      <td>...</td>\n",
       "      <td>...</td>\n",
       "      <td>...</td>\n",
       "      <td>...</td>\n",
       "      <td>...</td>\n",
       "      <td>...</td>\n",
       "      <td>...</td>\n",
       "      <td>...</td>\n",
       "    </tr>\n",
       "    <tr>\n",
       "      <th>4839</th>\n",
       "      <td>ONESOUTH BANK</td>\n",
       "      <td>1015832</td>\n",
       "      <td>2.382992e+00</td>\n",
       "      <td>-7.635103e+01</td>\n",
       "      <td>-2.163444e+03</td>\n",
       "      <td>-9.860389e+03</td>\n",
       "      <td>-1.209780e+04</td>\n",
       "      <td>-0.019698</td>\n",
       "      <td>0.631115</td>\n",
       "      <td>17.882951</td>\n",
       "      <td>81.505632</td>\n",
       "      <td>200.0</td>\n",
       "      <td>947.0</td>\n",
       "      <td>21688</td>\n",
       "      <td>106539.0</td>\n",
       "      <td>129374.0</td>\n",
       "      <td>162288.0</td>\n",
       "      <td>0.093510</td>\n",
       "      <td>0.074545</td>\n",
       "    </tr>\n",
       "    <tr>\n",
       "      <th>4840</th>\n",
       "      <td>COMMUNITY BANK &amp; TRUST COMPANY</td>\n",
       "      <td>1015841</td>\n",
       "      <td>-2.204866e+03</td>\n",
       "      <td>-1.046772e+04</td>\n",
       "      <td>-2.241963e+03</td>\n",
       "      <td>-8.305230e+03</td>\n",
       "      <td>-2.321978e+04</td>\n",
       "      <td>9.495636</td>\n",
       "      <td>45.081052</td>\n",
       "      <td>9.655403</td>\n",
       "      <td>35.767909</td>\n",
       "      <td>7034.0</td>\n",
       "      <td>64878.0</td>\n",
       "      <td>25904</td>\n",
       "      <td>109531.0</td>\n",
       "      <td>207347.0</td>\n",
       "      <td>281351.0</td>\n",
       "      <td>0.111985</td>\n",
       "      <td>0.082530</td>\n",
       "    </tr>\n",
       "    <tr>\n",
       "      <th>4841</th>\n",
       "      <td>LAKE ELMO BANK</td>\n",
       "      <td>1015850</td>\n",
       "      <td>-4.212290e+03</td>\n",
       "      <td>-3.517474e+03</td>\n",
       "      <td>-2.288240e+04</td>\n",
       "      <td>-2.243857e+04</td>\n",
       "      <td>-5.305074e+04</td>\n",
       "      <td>7.940116</td>\n",
       "      <td>6.630395</td>\n",
       "      <td>43.133053</td>\n",
       "      <td>42.296436</td>\n",
       "      <td>18309.0</td>\n",
       "      <td>35251.0</td>\n",
       "      <td>111927</td>\n",
       "      <td>202608.0</td>\n",
       "      <td>368095.0</td>\n",
       "      <td>532386.0</td>\n",
       "      <td>0.144122</td>\n",
       "      <td>0.099647</td>\n",
       "    </tr>\n",
       "    <tr>\n",
       "      <th>4842</th>\n",
       "      <td>OZARKS FEDERAL SAVINGS AND LOAN ASSOCIATION</td>\n",
       "      <td>1016174</td>\n",
       "      <td>-4.220012e+03</td>\n",
       "      <td>-1.115032e+02</td>\n",
       "      <td>-3.168615e+04</td>\n",
       "      <td>-8.598832e+03</td>\n",
       "      <td>-4.461650e+04</td>\n",
       "      <td>9.458411</td>\n",
       "      <td>0.249915</td>\n",
       "      <td>71.018911</td>\n",
       "      <td>19.272763</td>\n",
       "      <td>17100.0</td>\n",
       "      <td>2124.0</td>\n",
       "      <td>124787</td>\n",
       "      <td>37838.0</td>\n",
       "      <td>181849.0</td>\n",
       "      <td>240084.0</td>\n",
       "      <td>0.245349</td>\n",
       "      <td>0.185837</td>\n",
       "    </tr>\n",
       "    <tr>\n",
       "      <th>4843</th>\n",
       "      <td>MOUNTAIN COMMERCE BANK</td>\n",
       "      <td>1016231</td>\n",
       "      <td>-1.123933e+03</td>\n",
       "      <td>-1.593449e+04</td>\n",
       "      <td>-5.652118e+04</td>\n",
       "      <td>-9.581316e+04</td>\n",
       "      <td>-1.693928e+05</td>\n",
       "      <td>0.663507</td>\n",
       "      <td>9.406830</td>\n",
       "      <td>33.366941</td>\n",
       "      <td>56.562721</td>\n",
       "      <td>4163.0</td>\n",
       "      <td>84895.0</td>\n",
       "      <td>310988</td>\n",
       "      <td>811100.0</td>\n",
       "      <td>1211146.0</td>\n",
       "      <td>1398582.0</td>\n",
       "      <td>0.139862</td>\n",
       "      <td>0.121118</td>\n",
       "    </tr>\n",
       "  </tbody>\n",
       "</table>\n",
       "<p>4844 rows × 19 columns</p>\n",
       "</div>"
      ],
      "text/plain": [
       "                                        bank_name  bank_ID     RMBs_loss  \\\n",
       "0                   HUNTINGTON NATIONAL BANK, THE    12311 -8.105538e+06   \n",
       "1                                   DISCOVER BANK    30810 -9.594459e+04   \n",
       "2             STATE STREET BANK AND TRUST COMPANY    35301 -7.345597e+06   \n",
       "3                                   COMERICA BANK    60143 -3.153674e+06   \n",
       "4                              CITY NATIONAL BANK    63069 -7.975196e+04   \n",
       "...                                           ...      ...           ...   \n",
       "4839                                ONESOUTH BANK  1015832  2.382992e+00   \n",
       "4840               COMMUNITY BANK & TRUST COMPANY  1015841 -2.204866e+03   \n",
       "4841                               LAKE ELMO BANK  1015850 -4.212290e+03   \n",
       "4842  OZARKS FEDERAL SAVINGS AND LOAN ASSOCIATION  1016174 -4.220012e+03   \n",
       "4843                       MOUNTAIN COMMERCE BANK  1016231 -1.123933e+03   \n",
       "\n",
       "      treasury_loss    loans_loss  other_loan_loss    total_loss  Share RMBs  \\\n",
       "0     -8.757660e+05 -5.646935e+06    -4.401663e+06 -1.902990e+07   42.593691   \n",
       "1     -1.434050e+05 -2.555414e+05    -1.936466e+06 -2.431357e+06    3.946134   \n",
       "2     -3.128506e+06  0.000000e+00    -3.729909e+05 -1.084709e+07   67.719491   \n",
       "3     -5.015969e+05 -3.526598e+05    -2.206119e+04 -4.029991e+06   78.255093   \n",
       "4     -4.008263e+05 -4.672095e+06    -1.631691e+06 -6.784364e+06    1.175526   \n",
       "...             ...           ...              ...           ...         ...   \n",
       "4839  -7.635103e+01 -2.163444e+03    -9.860389e+03 -1.209780e+04   -0.019698   \n",
       "4840  -1.046772e+04 -2.241963e+03    -8.305230e+03 -2.321978e+04    9.495636   \n",
       "4841  -3.517474e+03 -2.288240e+04    -2.243857e+04 -5.305074e+04    7.940116   \n",
       "4842  -1.115032e+02 -3.168615e+04    -8.598832e+03 -4.461650e+04    9.458411   \n",
       "4843  -1.593449e+04 -5.652118e+04    -9.581316e+04 -1.693928e+05    0.663507   \n",
       "\n",
       "      Share Treasury and Other  Share Residential Mortgage  Share Other Loan  \\\n",
       "0                     4.602052                   29.674011         23.130245   \n",
       "1                     5.898146                   10.510240         79.645481   \n",
       "2                    28.841883                   -0.000000          3.438626   \n",
       "3                    12.446600                    8.750882          0.547425   \n",
       "4                     5.908090                   68.865624         24.050760   \n",
       "...                        ...                         ...               ...   \n",
       "4839                  0.631115                   17.882951         81.505632   \n",
       "4840                 45.081052                    9.655403         35.767909   \n",
       "4841                  6.630395                   43.133053         42.296436   \n",
       "4842                  0.249915                   71.018911         19.272763   \n",
       "4843                  9.406830                   33.366941         56.562721   \n",
       "\n",
       "      RMBs_asset  treasury_asset  residential_mortgage_asset  \\\n",
       "0     23910558.0       6623679.0                    22529389   \n",
       "1       364810.0       5612015.0                      804718   \n",
       "2     22436000.0      62518000.0                           0   \n",
       "3      9378000.0       4835000.0                     1825000   \n",
       "4       336792.0       5698026.0                    19072816   \n",
       "...          ...             ...                         ...   \n",
       "4839       200.0           947.0                       21688   \n",
       "4840      7034.0         64878.0                       25904   \n",
       "4841     18309.0         35251.0                      111927   \n",
       "4842     17100.0          2124.0                      124787   \n",
       "4843      4163.0         84895.0                      310988   \n",
       "\n",
       "      other_loan_asset   core_asset  gross_asset  loss/core_asset  \\\n",
       "0           92122592.0  145186218.0  176020595.0         0.131072   \n",
       "1           92452467.0   99234010.0  105657408.0         0.024501   \n",
       "2           35293000.0  120247000.0  318494000.0         0.090207   \n",
       "3           47475000.0   63513000.0   89142000.0         0.063451   \n",
       "4           39175374.0   64283008.0   91770285.0         0.105539   \n",
       "...                ...          ...          ...              ...   \n",
       "4839          106539.0     129374.0     162288.0         0.093510   \n",
       "4840          109531.0     207347.0     281351.0         0.111985   \n",
       "4841          202608.0     368095.0     532386.0         0.144122   \n",
       "4842           37838.0     181849.0     240084.0         0.245349   \n",
       "4843          811100.0    1211146.0    1398582.0         0.139862   \n",
       "\n",
       "      loss/gross_asset  \n",
       "0             0.108112  \n",
       "1             0.023012  \n",
       "2             0.034057  \n",
       "3             0.045209  \n",
       "4             0.073928  \n",
       "...                ...  \n",
       "4839          0.074545  \n",
       "4840          0.082530  \n",
       "4841          0.099647  \n",
       "4842          0.185837  \n",
       "4843          0.121118  \n",
       "\n",
       "[4844 rows x 19 columns]"
      ]
     },
     "execution_count": 291,
     "metadata": {},
     "output_type": "execute_result"
    }
   ],
   "source": [
    "bank_losses = calc_functions.report_losses(inital_date,analysis_date,df_RMBS_Final, df_loans_first_lien_domestic,\\\n",
    "                                            df_treasury_and_others, df_other_loan, treasury_prices, RMBS_Multiplier, df_asset)\n",
    "bank_losses"
   ]
  },
  {
   "cell_type": "code",
   "execution_count": 292,
   "id": "947b94c6",
   "metadata": {},
   "outputs": [
    {
     "data": {
      "text/plain": [
       "Share RMBs                     7.274657\n",
       "Share Treasury and Other      17.918497\n",
       "Share Residential Mortgage    18.028783\n",
       "Share Other Loan              37.271190\n",
       "dtype: float64"
      ]
     },
     "execution_count": 292,
     "metadata": {},
     "output_type": "execute_result"
    }
   ],
   "source": [
    "median_percentage = bank_losses[['Share RMBs', 'Share Treasury and Other', \n",
    "        'Share Residential Mortgage', 'Share Other Loan']].median()\n",
    "median_percentage\n",
    "#close to reported values, but the distribution looks good"
   ]
  },
  {
   "cell_type": "code",
   "execution_count": 293,
   "id": "704118d2",
   "metadata": {},
   "outputs": [
    {
     "data": {
      "text/plain": [
       "Share RMBs                    16.473288\n",
       "Share Treasury and Other      22.729545\n",
       "Share Residential Mortgage    21.397766\n",
       "Share Other Loan              24.115604\n",
       "dtype: float64"
      ]
     },
     "execution_count": 293,
     "metadata": {},
     "output_type": "execute_result"
    }
   ],
   "source": [
    "std_percentages =bank_losses[['Share RMBs', 'Share Treasury and Other', \n",
    "        'Share Residential Mortgage', 'Share Other Loan']].std()\n",
    "std_percentages #this is slightly different "
   ]
  },
  {
   "cell_type": "markdown",
   "id": "522b9c6d",
   "metadata": {},
   "source": [
    "## Total, median, and std of losses"
   ]
  },
  {
   "cell_type": "code",
   "execution_count": 294,
   "id": "f93f3744",
   "metadata": {},
   "outputs": [
    {
     "data": {
      "text/plain": [
       "-2030252700.3402686"
      ]
     },
     "execution_count": 294,
     "metadata": {},
     "output_type": "execute_result"
    }
   ],
   "source": [
    "total_sum_loss = bank_losses['total_loss'].sum()\n",
    "total_sum_loss"
   ]
  },
  {
   "cell_type": "code",
   "execution_count": 295,
   "id": "efb66ec7",
   "metadata": {},
   "outputs": [
    {
     "data": {
      "text/plain": [
       "-29677.650127523568"
      ]
     },
     "execution_count": 295,
     "metadata": {},
     "output_type": "execute_result"
    }
   ],
   "source": [
    "median_bank_loss = bank_losses['total_loss'].median()\n",
    "median_bank_loss "
   ]
  },
  {
   "cell_type": "code",
   "execution_count": 296,
   "id": "4b1c9166",
   "metadata": {},
   "outputs": [
    {
     "data": {
      "text/plain": [
       "6515039.202427551"
      ]
     },
     "execution_count": 296,
     "metadata": {},
     "output_type": "execute_result"
    }
   ],
   "source": [
    "std_bank_loss = bank_losses['total_loss'].std()\n",
    "std_bank_loss"
   ]
  },
  {
   "cell_type": "markdown",
   "id": "c05fcfcd",
   "metadata": {},
   "source": [
    "## Checks"
   ]
  },
  {
   "cell_type": "code",
   "execution_count": 297,
   "id": "e94a6864",
   "metadata": {},
   "outputs": [
    {
     "data": {
      "text/plain": [
       "16590518404.0"
      ]
     },
     "execution_count": 297,
     "metadata": {},
     "output_type": "execute_result"
    }
   ],
   "source": [
    "core_asset = bank_losses['core_asset'].sum()\n",
    "core_asset"
   ]
  },
  {
   "cell_type": "code",
   "execution_count": 298,
   "id": "e37dc638",
   "metadata": {},
   "outputs": [
    {
     "data": {
      "text/plain": [
       "23988517644.0"
      ]
     },
     "execution_count": 298,
     "metadata": {},
     "output_type": "execute_result"
    }
   ],
   "source": [
    "gross_asset = bank_losses['gross_asset'].sum()\n",
    "gross_asset "
   ]
  },
  {
   "cell_type": "code",
   "execution_count": 299,
   "id": "8d046198",
   "metadata": {},
   "outputs": [
    {
     "data": {
      "text/plain": [
       "0.6916024845807683"
      ]
     },
     "execution_count": 299,
     "metadata": {},
     "output_type": "execute_result"
    }
   ],
   "source": [
    "core_asset / gross_asset"
   ]
  },
  {
   "cell_type": "markdown",
   "id": "e4316b18",
   "metadata": {},
   "source": [
    "# 2. Loss / Asset"
   ]
  },
  {
   "cell_type": "markdown",
   "id": "962ffbc9",
   "metadata": {},
   "source": [
    "## Ratio Results"
   ]
  },
  {
   "cell_type": "code",
   "execution_count": 300,
   "id": "bc83dfa1",
   "metadata": {},
   "outputs": [
    {
     "data": {
      "text/plain": [
       "0.09394600976254505"
      ]
     },
     "execution_count": 300,
     "metadata": {},
     "output_type": "execute_result"
    }
   ],
   "source": [
    "median_loss_asset_ratio = bank_losses['loss/gross_asset'].median()\n",
    "median_loss_asset_ratio"
   ]
  },
  {
   "cell_type": "code",
   "execution_count": 301,
   "id": "b93234c7",
   "metadata": {},
   "outputs": [
    {
     "data": {
      "text/plain": [
       "0.09914503331730583"
      ]
     },
     "execution_count": 301,
     "metadata": {},
     "output_type": "execute_result"
    }
   ],
   "source": [
    "average_loss_asset_ratio = bank_losses['loss/gross_asset'].mean()\n",
    "average_loss_asset_ratio"
   ]
  },
  {
   "cell_type": "code",
   "execution_count": 302,
   "id": "427e7af7",
   "metadata": {},
   "outputs": [
    {
     "data": {
      "text/plain": [
       "0.0490027526563258"
      ]
     },
     "execution_count": 302,
     "metadata": {},
     "output_type": "execute_result"
    }
   ],
   "source": [
    "std_loss_asset_ratio = bank_losses['loss/gross_asset'].std()\n",
    "std_loss_asset_ratio"
   ]
  },
  {
   "cell_type": "markdown",
   "id": "19daeec6",
   "metadata": {},
   "source": [
    "# 3. Uninsured Deposit/MM Asset"
   ]
  },
  {
   "cell_type": "markdown",
   "id": "bbf8d32d",
   "metadata": {},
   "source": [
    "- Uninsured Deposits are directly reported as RCON5597 in the call reports\n",
    "- MM Asset: total assets in 2022:Q1 minus the mark-to-market value loss (value) "
   ]
  },
  {
   "cell_type": "code",
   "execution_count": 303,
   "id": "fd1ff5a1",
   "metadata": {},
   "outputs": [
    {
     "data": {
      "text/plain": [
       "0.3579107245147957"
      ]
     },
     "execution_count": 303,
     "metadata": {},
     "output_type": "execute_result"
    }
   ],
   "source": [
    "uninsured_deposit = rcon_data_1[['RSSD9001','RSSD9017', 'RSSD9999', 'RCON5597']]\n",
    "uninsured_deposit = uninsured_deposit .rename(columns={\n",
    "    'RSSD9001': 'bank_ID',\n",
    "    'RSSD9017': 'bank_name',\n",
    "    'RSSD9999': 'report_date',\n",
    "    'RCON5597': 'uninsured_deposit'\n",
    "\n",
    "})\n",
    "uninsured_deposit = uninsured_deposit[uninsured_deposit['report_date'] == '03/31/2022']\n",
    "uninsured_deposit['uninsured_deposit'].sum()/gross_asset #Similar to Panel A result of 37.4%"
   ]
  },
  {
   "cell_type": "code",
   "execution_count": 304,
   "id": "834f27e8",
   "metadata": {},
   "outputs": [
    {
     "data": {
      "text/plain": [
       "8585747730.0"
      ]
     },
     "execution_count": 304,
     "metadata": {},
     "output_type": "execute_result"
    }
   ],
   "source": [
    "uninsured_deposit['uninsured_deposit'].sum() #Roughly 9 trillion "
   ]
  },
  {
   "cell_type": "code",
   "execution_count": 305,
   "id": "47349629",
   "metadata": {},
   "outputs": [],
   "source": [
    "def calculate_uninsured_deposit_mm_asset(uninsured_deposit, bank_losses):\n",
    "    \n",
    "    # Initialize an empty list to store the results\n",
    "    results = []\n",
    "    \n",
    "    # Adjust the uninsured_deposit DataFrame to use both 'bank_name' and 'Bank_ID' as a multi-index for quick lookup\n",
    "    uninsured_lookup = uninsured_deposit.set_index(['bank_name', 'bank_ID'])['uninsured_deposit'].to_dict()\n",
    "    \n",
    "    # Iterate over each row in bank_losses DataFrame\n",
    "    for index, bank_loss_row in bank_losses.iterrows():\n",
    "        bank_name = bank_loss_row['bank_name']\n",
    "        bank_id = bank_loss_row['bank_ID']\n",
    "        \n",
    "        # Adjust the lookup to include 'Bank_ID'\n",
    "        uninsured_deposit_value = uninsured_lookup.get((bank_name, bank_id), 0)\n",
    "        \n",
    "        # Calculate 'MM Asset' as the sum of 'total_loss' and 'gross_asset' (as defined in the paper)\n",
    "        mm_asset = bank_loss_row['total_loss'] + bank_loss_row['gross_asset']\n",
    "        \n",
    "        # Calculate Uninsured Deposit/MM Asset ratio \n",
    "        if mm_asset > 0:\n",
    "            uninsured_deposit_mm_asset_ratio = uninsured_deposit_value / mm_asset\n",
    "        \n",
    "        # Append to final dataframe\n",
    "        results.append({\n",
    "            'bank_name': bank_name,\n",
    "            'bank_ID': bank_id, \n",
    "            'total_loss': bank_loss_row['total_loss'], \n",
    "            'total_asset': bank_loss_row['gross_asset'],\n",
    "            'mm_asset': mm_asset,\n",
    "            'uninsured_deposit': uninsured_deposit_value, \n",
    "            'Uninsured_Deposit_MM_Asset': uninsured_deposit_mm_asset_ratio\n",
    "        })\n",
    "    \n",
    "    # Convert results list to DataFrame and sort by 'Bank_ID'\n",
    "    results_df = pd.DataFrame(results).sort_values(by=['bank_name', 'bank_ID'])\n",
    "    \n",
    "    return results_df\n",
    "\n",
    "un_mm_ratio = calculate_uninsured_deposit_mm_asset(uninsured_deposit, bank_losses)"
   ]
  },
  {
   "cell_type": "markdown",
   "id": "bf9d371b",
   "metadata": {},
   "source": [
    "## Checks"
   ]
  },
  {
   "cell_type": "code",
   "execution_count": 306,
   "id": "b12e09a8",
   "metadata": {
    "scrolled": true
   },
   "outputs": [
    {
     "data": {
      "text/plain": [
       "-2030252700.3402684"
      ]
     },
     "execution_count": 306,
     "metadata": {},
     "output_type": "execute_result"
    }
   ],
   "source": [
    "un_mm_ratio['total_loss'].sum()"
   ]
  },
  {
   "cell_type": "code",
   "execution_count": 307,
   "id": "666c2063",
   "metadata": {},
   "outputs": [
    {
     "data": {
      "text/plain": [
       "23988517644.0"
      ]
     },
     "execution_count": 307,
     "metadata": {},
     "output_type": "execute_result"
    }
   ],
   "source": [
    "un_mm_ratio['total_asset'].sum()"
   ]
  },
  {
   "cell_type": "code",
   "execution_count": 308,
   "id": "84af41ad",
   "metadata": {},
   "outputs": [
    {
     "data": {
      "text/plain": [
       "21958264943.65973"
      ]
     },
     "execution_count": 308,
     "metadata": {},
     "output_type": "execute_result"
    }
   ],
   "source": [
    "un_mm_ratio['mm_asset'].sum()"
   ]
  },
  {
   "cell_type": "markdown",
   "id": "818cda55",
   "metadata": {},
   "source": [
    "## Ratio Results"
   ]
  },
  {
   "cell_type": "code",
   "execution_count": 309,
   "id": "386876f5",
   "metadata": {},
   "outputs": [
    {
     "data": {
      "text/plain": [
       "0.3251550697555542"
      ]
     },
     "execution_count": 309,
     "metadata": {},
     "output_type": "execute_result"
    }
   ],
   "source": [
    "un_mm_ratio['Uninsured_Deposit_MM_Asset'].median()"
   ]
  },
  {
   "cell_type": "code",
   "execution_count": 310,
   "id": "4e0326d9",
   "metadata": {},
   "outputs": [
    {
     "data": {
      "text/plain": [
       "0.1696668231426178"
      ]
     },
     "execution_count": 310,
     "metadata": {},
     "output_type": "execute_result"
    }
   ],
   "source": [
    "un_mm_ratio['Uninsured_Deposit_MM_Asset'].std()"
   ]
  },
  {
   "cell_type": "markdown",
   "id": "30481528",
   "metadata": {},
   "source": [
    "# 4. Insured Deposit Coverage Ratio"
   ]
  },
  {
   "cell_type": "markdown",
   "id": "92ad0171",
   "metadata": {},
   "source": [
    "\n",
    "#### we defined Insured Deposit Coverage Ratio as total amount of deposit accounts of:\n",
    "\n",
    "- RCFDF049 - Deposit accounts (excluding retirement accounts) of 250000 or less\n",
    "- RCFDF045 - Retirement deposit accounts of 250000 or less"
   ]
  },
  {
   "cell_type": "code",
   "execution_count": 311,
   "id": "f3c9d5f4",
   "metadata": {},
   "outputs": [
    {
     "data": {
      "text/plain": [
       "0.33296701528357264"
      ]
     },
     "execution_count": 311,
     "metadata": {},
     "output_type": "execute_result"
    }
   ],
   "source": [
    "insured_deposit = rcon_data_1[['RSSD9001','RSSD9017', 'RSSD9999', 'RCONF049', 'RCONF045']] \n",
    "#RCFDF049 are Deposit accounts (excluding retirement accounts) of $250,000 or less\n",
    "#RCFDF045 are Retirement deposit accounts of $250,000 or less\n",
    "\n",
    "insured_deposit = insured_deposit.rename(columns={\n",
    "    'RSSD9001': 'bank_ID',\n",
    "    'RSSD9017': 'bank_name',\n",
    "    'RSSD9999': 'report_date',\n",
    "    'RCONF049': 'insured_deposit_1',\n",
    "    'RCONF045': 'insured_deposit_2'\n",
    "})\n",
    "insured_deposit = insured_deposit[insured_deposit['report_date'] == '03/31/2022']\n",
    "insured_deposit['insured_deposit_1'].sum()/total_asset + insured_deposit['insured_deposit_2'].sum()/total_asset\n",
    "\n",
    "#THESE NUMBERS ARE SLIGHLY FAR FROM INSURED DEPOSIT IN PANEL A"
   ]
  },
  {
   "cell_type": "code",
   "execution_count": 312,
   "id": "51354ae7",
   "metadata": {},
   "outputs": [
    {
     "data": {
      "text/html": [
       "<div>\n",
       "<style scoped>\n",
       "    .dataframe tbody tr th:only-of-type {\n",
       "        vertical-align: middle;\n",
       "    }\n",
       "\n",
       "    .dataframe tbody tr th {\n",
       "        vertical-align: top;\n",
       "    }\n",
       "\n",
       "    .dataframe thead th {\n",
       "        text-align: right;\n",
       "    }\n",
       "</style>\n",
       "<table border=\"1\" class=\"dataframe\">\n",
       "  <thead>\n",
       "    <tr style=\"text-align: right;\">\n",
       "      <th></th>\n",
       "      <th>bank_ID</th>\n",
       "      <th>bank_name</th>\n",
       "      <th>report_date</th>\n",
       "      <th>insured_deposit_1</th>\n",
       "      <th>insured_deposit_2</th>\n",
       "      <th>insured_deposit</th>\n",
       "    </tr>\n",
       "  </thead>\n",
       "  <tbody>\n",
       "    <tr>\n",
       "      <th>1</th>\n",
       "      <td>37</td>\n",
       "      <td>BANK OF HANCOCK COUNTY</td>\n",
       "      <td>2022-03-31</td>\n",
       "      <td>57430.0</td>\n",
       "      <td>2428.0</td>\n",
       "      <td>59858.0</td>\n",
       "    </tr>\n",
       "    <tr>\n",
       "      <th>13</th>\n",
       "      <td>242</td>\n",
       "      <td>FIRST COMMUNITY BANK XENIA-FLORA</td>\n",
       "      <td>2022-03-31</td>\n",
       "      <td>33454.0</td>\n",
       "      <td>1385.0</td>\n",
       "      <td>34839.0</td>\n",
       "    </tr>\n",
       "    <tr>\n",
       "      <th>20</th>\n",
       "      <td>279</td>\n",
       "      <td>MINEOLA COMMUNITY BANK, SSB</td>\n",
       "      <td>2022-03-31</td>\n",
       "      <td>197561.0</td>\n",
       "      <td>11879.0</td>\n",
       "      <td>209440.0</td>\n",
       "    </tr>\n",
       "    <tr>\n",
       "      <th>28</th>\n",
       "      <td>9553</td>\n",
       "      <td>ADAMS COUNTY BANK</td>\n",
       "      <td>2022-03-31</td>\n",
       "      <td>87873.0</td>\n",
       "      <td>6269.0</td>\n",
       "      <td>94142.0</td>\n",
       "    </tr>\n",
       "    <tr>\n",
       "      <th>30</th>\n",
       "      <td>354</td>\n",
       "      <td>BISON STATE BANK</td>\n",
       "      <td>2022-03-31</td>\n",
       "      <td>9794.0</td>\n",
       "      <td>0.0</td>\n",
       "      <td>9794.0</td>\n",
       "    </tr>\n",
       "    <tr>\n",
       "      <th>...</th>\n",
       "      <td>...</td>\n",
       "      <td>...</td>\n",
       "      <td>...</td>\n",
       "      <td>...</td>\n",
       "      <td>...</td>\n",
       "      <td>...</td>\n",
       "    </tr>\n",
       "    <tr>\n",
       "      <th>38151</th>\n",
       "      <td>5582846</td>\n",
       "      <td>SQUARE FINANCIAL SERVICES, INC.</td>\n",
       "      <td>2022-03-31</td>\n",
       "      <td>78420.0</td>\n",
       "      <td>0.0</td>\n",
       "      <td>78420.0</td>\n",
       "    </tr>\n",
       "    <tr>\n",
       "      <th>38155</th>\n",
       "      <td>5591633</td>\n",
       "      <td>PLANTE MORAN TRUST, NATIONAL ASSOCIATION</td>\n",
       "      <td>2022-03-31</td>\n",
       "      <td>NaN</td>\n",
       "      <td>NaN</td>\n",
       "      <td>NaN</td>\n",
       "    </tr>\n",
       "    <tr>\n",
       "      <th>38172</th>\n",
       "      <td>38740</td>\n",
       "      <td>OWEN COUNTY STATE BANK</td>\n",
       "      <td>2022-03-31</td>\n",
       "      <td>163878.0</td>\n",
       "      <td>10252.0</td>\n",
       "      <td>174130.0</td>\n",
       "    </tr>\n",
       "    <tr>\n",
       "      <th>38174</th>\n",
       "      <td>37640</td>\n",
       "      <td>GERMAN AMERICAN BANK</td>\n",
       "      <td>2022-03-31</td>\n",
       "      <td>2701479.0</td>\n",
       "      <td>69885.0</td>\n",
       "      <td>2771364.0</td>\n",
       "    </tr>\n",
       "    <tr>\n",
       "      <th>38183</th>\n",
       "      <td>37659</td>\n",
       "      <td>FARMERS STATE BANK, ALLEN, OKLAHOMA</td>\n",
       "      <td>2022-03-31</td>\n",
       "      <td>34022.0</td>\n",
       "      <td>234.0</td>\n",
       "      <td>34256.0</td>\n",
       "    </tr>\n",
       "  </tbody>\n",
       "</table>\n",
       "<p>4844 rows × 6 columns</p>\n",
       "</div>"
      ],
      "text/plain": [
       "       bank_ID                                 bank_name report_date  \\\n",
       "1           37                    BANK OF HANCOCK COUNTY  2022-03-31   \n",
       "13         242          FIRST COMMUNITY BANK XENIA-FLORA  2022-03-31   \n",
       "20         279               MINEOLA COMMUNITY BANK, SSB  2022-03-31   \n",
       "28        9553                         ADAMS COUNTY BANK  2022-03-31   \n",
       "30         354                          BISON STATE BANK  2022-03-31   \n",
       "...        ...                                       ...         ...   \n",
       "38151  5582846           SQUARE FINANCIAL SERVICES, INC.  2022-03-31   \n",
       "38155  5591633  PLANTE MORAN TRUST, NATIONAL ASSOCIATION  2022-03-31   \n",
       "38172    38740                    OWEN COUNTY STATE BANK  2022-03-31   \n",
       "38174    37640                      GERMAN AMERICAN BANK  2022-03-31   \n",
       "38183    37659       FARMERS STATE BANK, ALLEN, OKLAHOMA  2022-03-31   \n",
       "\n",
       "       insured_deposit_1  insured_deposit_2  insured_deposit  \n",
       "1                57430.0             2428.0          59858.0  \n",
       "13               33454.0             1385.0          34839.0  \n",
       "20              197561.0            11879.0         209440.0  \n",
       "28               87873.0             6269.0          94142.0  \n",
       "30                9794.0                0.0           9794.0  \n",
       "...                  ...                ...              ...  \n",
       "38151            78420.0                0.0          78420.0  \n",
       "38155                NaN                NaN              NaN  \n",
       "38172           163878.0            10252.0         174130.0  \n",
       "38174          2701479.0            69885.0        2771364.0  \n",
       "38183            34022.0              234.0          34256.0  \n",
       "\n",
       "[4844 rows x 6 columns]"
      ]
     },
     "execution_count": 312,
     "metadata": {},
     "output_type": "execute_result"
    }
   ],
   "source": [
    "insured_deposit['insured_deposit'] = insured_deposit['insured_deposit_1'] + insured_deposit['insured_deposit_2']\n",
    "insured_deposit "
   ]
  },
  {
   "cell_type": "code",
   "execution_count": 313,
   "id": "301c1530",
   "metadata": {},
   "outputs": [
    {
     "data": {
      "text/plain": [
       "7987385121.0"
      ]
     },
     "execution_count": 313,
     "metadata": {},
     "output_type": "execute_result"
    }
   ],
   "source": [
    "insured_deposit['insured_deposit'].sum()"
   ]
  },
  {
   "cell_type": "code",
   "execution_count": 314,
   "id": "6ceb2d11",
   "metadata": {},
   "outputs": [
    {
     "data": {
      "text/html": [
       "<div>\n",
       "<style scoped>\n",
       "    .dataframe tbody tr th:only-of-type {\n",
       "        vertical-align: middle;\n",
       "    }\n",
       "\n",
       "    .dataframe tbody tr th {\n",
       "        vertical-align: top;\n",
       "    }\n",
       "\n",
       "    .dataframe thead th {\n",
       "        text-align: right;\n",
       "    }\n",
       "</style>\n",
       "<table border=\"1\" class=\"dataframe\">\n",
       "  <thead>\n",
       "    <tr style=\"text-align: right;\">\n",
       "      <th></th>\n",
       "      <th>bank_name</th>\n",
       "      <th>bank_ID</th>\n",
       "      <th>mm_asset</th>\n",
       "      <th>insured_deposit</th>\n",
       "      <th>uninsured_deposit</th>\n",
       "      <th>insured_deposit_coverage_ratio</th>\n",
       "    </tr>\n",
       "  </thead>\n",
       "  <tbody>\n",
       "    <tr>\n",
       "      <th>0</th>\n",
       "      <td>HUNTINGTON NATIONAL BANK, THE</td>\n",
       "      <td>12311</td>\n",
       "      <td>1.569907e+08</td>\n",
       "      <td>78986097.0</td>\n",
       "      <td>83160026.0</td>\n",
       "      <td>-0.065270</td>\n",
       "    </tr>\n",
       "    <tr>\n",
       "      <th>1</th>\n",
       "      <td>DISCOVER BANK</td>\n",
       "      <td>30810</td>\n",
       "      <td>1.032261e+08</td>\n",
       "      <td>57543068.0</td>\n",
       "      <td>8691421.0</td>\n",
       "      <td>0.642850</td>\n",
       "    </tr>\n",
       "    <tr>\n",
       "      <th>2</th>\n",
       "      <td>STATE STREET BANK AND TRUST COMPANY</td>\n",
       "      <td>35301</td>\n",
       "      <td>3.076469e+08</td>\n",
       "      <td>11687000.0</td>\n",
       "      <td>155822000.0</td>\n",
       "      <td>11.990922</td>\n",
       "    </tr>\n",
       "    <tr>\n",
       "      <th>3</th>\n",
       "      <td>COMERICA BANK</td>\n",
       "      <td>60143</td>\n",
       "      <td>8.511201e+07</td>\n",
       "      <td>21921000.0</td>\n",
       "      <td>51044000.0</td>\n",
       "      <td>0.554127</td>\n",
       "    </tr>\n",
       "    <tr>\n",
       "      <th>4</th>\n",
       "      <td>CITY NATIONAL BANK</td>\n",
       "      <td>63069</td>\n",
       "      <td>8.498592e+07</td>\n",
       "      <td>17928917.0</td>\n",
       "      <td>58096403.0</td>\n",
       "      <td>0.499785</td>\n",
       "    </tr>\n",
       "    <tr>\n",
       "      <th>...</th>\n",
       "      <td>...</td>\n",
       "      <td>...</td>\n",
       "      <td>...</td>\n",
       "      <td>...</td>\n",
       "      <td>...</td>\n",
       "      <td>...</td>\n",
       "    </tr>\n",
       "    <tr>\n",
       "      <th>4839</th>\n",
       "      <td>ONESOUTH BANK</td>\n",
       "      <td>1015832</td>\n",
       "      <td>1.501902e+05</td>\n",
       "      <td>91705.0</td>\n",
       "      <td>NaN</td>\n",
       "      <td>NaN</td>\n",
       "    </tr>\n",
       "    <tr>\n",
       "      <th>4840</th>\n",
       "      <td>COMMUNITY BANK &amp; TRUST COMPANY</td>\n",
       "      <td>1015841</td>\n",
       "      <td>2.581312e+05</td>\n",
       "      <td>178818.0</td>\n",
       "      <td>NaN</td>\n",
       "      <td>NaN</td>\n",
       "    </tr>\n",
       "    <tr>\n",
       "      <th>4841</th>\n",
       "      <td>LAKE ELMO BANK</td>\n",
       "      <td>1015850</td>\n",
       "      <td>4.793353e+05</td>\n",
       "      <td>303598.0</td>\n",
       "      <td>NaN</td>\n",
       "      <td>NaN</td>\n",
       "    </tr>\n",
       "    <tr>\n",
       "      <th>4842</th>\n",
       "      <td>OZARKS FEDERAL SAVINGS AND LOAN ASSOCIATION</td>\n",
       "      <td>1016174</td>\n",
       "      <td>1.954675e+05</td>\n",
       "      <td>165673.0</td>\n",
       "      <td>NaN</td>\n",
       "      <td>NaN</td>\n",
       "    </tr>\n",
       "    <tr>\n",
       "      <th>4843</th>\n",
       "      <td>MOUNTAIN COMMERCE BANK</td>\n",
       "      <td>1016231</td>\n",
       "      <td>1.229189e+06</td>\n",
       "      <td>392822.0</td>\n",
       "      <td>451388.0</td>\n",
       "      <td>0.980035</td>\n",
       "    </tr>\n",
       "  </tbody>\n",
       "</table>\n",
       "<p>4844 rows × 6 columns</p>\n",
       "</div>"
      ],
      "text/plain": [
       "                                        bank_name  bank_ID      mm_asset  \\\n",
       "0                   HUNTINGTON NATIONAL BANK, THE    12311  1.569907e+08   \n",
       "1                                   DISCOVER BANK    30810  1.032261e+08   \n",
       "2             STATE STREET BANK AND TRUST COMPANY    35301  3.076469e+08   \n",
       "3                                   COMERICA BANK    60143  8.511201e+07   \n",
       "4                              CITY NATIONAL BANK    63069  8.498592e+07   \n",
       "...                                           ...      ...           ...   \n",
       "4839                                ONESOUTH BANK  1015832  1.501902e+05   \n",
       "4840               COMMUNITY BANK & TRUST COMPANY  1015841  2.581312e+05   \n",
       "4841                               LAKE ELMO BANK  1015850  4.793353e+05   \n",
       "4842  OZARKS FEDERAL SAVINGS AND LOAN ASSOCIATION  1016174  1.954675e+05   \n",
       "4843                       MOUNTAIN COMMERCE BANK  1016231  1.229189e+06   \n",
       "\n",
       "      insured_deposit  uninsured_deposit  insured_deposit_coverage_ratio  \n",
       "0          78986097.0         83160026.0                       -0.065270  \n",
       "1          57543068.0          8691421.0                        0.642850  \n",
       "2          11687000.0        155822000.0                       11.990922  \n",
       "3          21921000.0         51044000.0                        0.554127  \n",
       "4          17928917.0         58096403.0                        0.499785  \n",
       "...               ...                ...                             ...  \n",
       "4839          91705.0                NaN                             NaN  \n",
       "4840         178818.0                NaN                             NaN  \n",
       "4841         303598.0                NaN                             NaN  \n",
       "4842         165673.0                NaN                             NaN  \n",
       "4843         392822.0           451388.0                        0.980035  \n",
       "\n",
       "[4844 rows x 6 columns]"
      ]
     },
     "execution_count": 314,
     "metadata": {},
     "output_type": "execute_result"
    }
   ],
   "source": [
    "def insured_deposit_coverage_ratio(insured_deposit, uninsured_deposit, bank_losses):\n",
    "    # Initialize an empty list to store the results\n",
    "    results = []\n",
    "    \n",
    "    # Create dictionaries from insured and uninsured deposits for quick lookup\n",
    "    insured_lookup = insured_deposit.set_index(['bank_name', 'bank_ID'])['insured_deposit'].to_dict()\n",
    "    uninsured_lookup = uninsured_deposit.set_index(['bank_name', 'bank_ID'])['uninsured_deposit'].to_dict()\n",
    "    \n",
    "    # Iterate over each row in bank_losses DataFrame\n",
    "    for index, bank_loss_row in bank_losses.iterrows():\n",
    "        bank_name = bank_loss_row['bank_name']\n",
    "        bank_id = bank_loss_row['bank_ID']\n",
    "        \n",
    "        # Retrieve insured and uninsured deposit values\n",
    "        insured_deposit_value = insured_lookup.get((bank_name, bank_id), 0)\n",
    "        uninsured_deposit_value = uninsured_lookup.get((bank_name, bank_id), 0)\n",
    "        \n",
    "        # Calculate mark-to-market asset value as the sum of 'total_asset' minus 'total_loss'\n",
    "        mark_to_market_asset_value = bank_loss_row['gross_asset'] + bank_loss_row['total_loss']\n",
    "        \n",
    "        # Calculate the insured deposit coverage ratio\n",
    "        if insured_deposit_value > 0:  # Prevent division by zero\n",
    "            coverage_ratio = (mark_to_market_asset_value - uninsured_deposit_value - insured_deposit_value) / insured_deposit_value\n",
    "        \n",
    "        # Append the result\n",
    "        results.append({\n",
    "            'bank_name': bank_name,\n",
    "            'bank_ID': bank_id,\n",
    "            'mm_asset': mark_to_market_asset_value,\n",
    "            'insured_deposit': insured_deposit_value,\n",
    "            'uninsured_deposit': uninsured_deposit_value,\n",
    "            'insured_deposit_coverage_ratio': coverage_ratio\n",
    "        })\n",
    "    \n",
    "    # Convert results list to DataFrame\n",
    "    results_df = pd.DataFrame(results)\n",
    "    \n",
    "    return results_df\n",
    "\n",
    "coverage_ratios_df = insured_deposit_coverage_ratio(insured_deposit, uninsured_deposit, bank_losses)\n",
    "coverage_ratios_df"
   ]
  },
  {
   "cell_type": "markdown",
   "id": "50af25f6",
   "metadata": {},
   "source": [
    "## Checks"
   ]
  },
  {
   "cell_type": "code",
   "execution_count": 315,
   "id": "801711bb",
   "metadata": {},
   "outputs": [
    {
     "data": {
      "text/plain": [
       "7987385121.0"
      ]
     },
     "execution_count": 315,
     "metadata": {},
     "output_type": "execute_result"
    }
   ],
   "source": [
    "coverage_ratios_df['insured_deposit'].sum()"
   ]
  },
  {
   "cell_type": "code",
   "execution_count": 316,
   "id": "0b675c46",
   "metadata": {},
   "outputs": [
    {
     "data": {
      "text/plain": [
       "8585747730.0"
      ]
     },
     "execution_count": 316,
     "metadata": {},
     "output_type": "execute_result"
    }
   ],
   "source": [
    "coverage_ratios_df['uninsured_deposit'].sum()"
   ]
  },
  {
   "cell_type": "code",
   "execution_count": 317,
   "id": "7b29d88f",
   "metadata": {},
   "outputs": [
    {
     "data": {
      "text/plain": [
       "21958264943.65973"
      ]
     },
     "execution_count": 317,
     "metadata": {},
     "output_type": "execute_result"
    }
   ],
   "source": [
    "coverage_ratios_df['mm_asset'].sum()"
   ]
  },
  {
   "cell_type": "markdown",
   "id": "b4620619",
   "metadata": {},
   "source": [
    "## Ratio Results"
   ]
  },
  {
   "cell_type": "code",
   "execution_count": 318,
   "id": "cfd0cb47",
   "metadata": {},
   "outputs": [
    {
     "data": {
      "text/plain": [
       "0.393694836115703"
      ]
     },
     "execution_count": 318,
     "metadata": {},
     "output_type": "execute_result"
    }
   ],
   "source": [
    "coverage_ratios_df['insured_deposit_coverage_ratio'].median()"
   ]
  },
  {
   "cell_type": "code",
   "execution_count": 319,
   "id": "d69c0d30",
   "metadata": {},
   "outputs": [
    {
     "data": {
      "text/plain": [
       "329.3194355896452"
      ]
     },
     "execution_count": 319,
     "metadata": {},
     "output_type": "execute_result"
    }
   ],
   "source": [
    "coverage_ratios_df['insured_deposit_coverage_ratio'].std()"
   ]
  },
  {
   "cell_type": "markdown",
   "id": "a2ceee1e",
   "metadata": {},
   "source": [
    "# Final Table Results"
   ]
  },
  {
   "cell_type": "markdown",
   "id": "88058a5f",
   "metadata": {},
   "source": [
    "- For table 1, we used the above methods to aggregate the stastics across losses"
   ]
  },
  {
   "cell_type": "code",
   "execution_count": 320,
   "id": "a69f9615",
   "metadata": {},
   "outputs": [],
   "source": [
    "def final_statistic_table(bank_losses_assets, uninsured_deposit_mm_asset, insured_deposit_coverage, index_name = 'All Banks'):\n",
    "    # Merge the DataFrames on bank_name and Bank_ID to include uninsured deposit/MM Asset ratios and insured deposit coverage ratios\n",
    "    \n",
    "    \n",
    "    bank_count = len(bank_losses_assets.index)\n",
    "\n",
    "    final_stats = pd.DataFrame({\n",
    "        'Aggregate Loss': [f\"{-round(bank_losses_assets['total_loss'].sum() / 1e9, 1)}T\"],  # Convert to trillions\n",
    "        'Bank Level Loss': [f\"{-round(bank_losses_assets['total_loss'].median() / 1e3, 1)}M\"],  # Convert to millions\n",
    "        'Bank Level Loss Std': [f\"{round(bank_losses_assets['total_loss'].std() / 1e6, 2)}B\"],  # Std deviation for Bank Level Loss\n",
    "        'Share RMBS': [round(bank_losses_assets['Share RMBs'].median() * 100, 1)],  # Median percentage\n",
    "        'Share RMBS Std': [round(bank_losses_assets['Share RMBs'].std() * 100, 1)],  # Std deviation for Share RMBS\n",
    "        'Share Treasury and Other': [round(bank_losses_assets['Share Treasury and Other'].median() * 100, 1)],  # Median percentage\n",
    "        'Share Treasury and Other Std': [round(bank_losses_assets['Share Treasury and Other'].std() * 100, 1)],  # Std deviation\n",
    "        'Share Residential Mortgage': [round(bank_losses_assets['Share Residential Mortgage'].median() * 100, 1)],  # Median percentage\n",
    "        'Share Residential Mortgage Std': [round(bank_losses_assets['Share Residential Mortgage'].std() * 100, 1)],  # Std deviation\n",
    "        'Share Other Loan': [round(bank_losses_assets['Share Other Loan'].median() * 100, 1)],  # Median percentage\n",
    "        'Share Other Loan Std': [round(bank_losses_assets['Share Other Loan'].std() * 100, 1)],  # Std deviation\n",
    "        'Loss/Asset': [round(bank_losses_assets['loss/gross_asset'].median() * 100, 1)],  # Median percentage\n",
    "        'Loss/Asset Std': [round(bank_losses_assets['loss/gross_asset'].std() * 100, 1)],  # Std deviation\n",
    "        'Uninsured Deposit/MM Asset': [round(uninsured_deposit_mm_asset['Uninsured_Deposit_MM_Asset'].median() * 100, 1)],  # Median percentage\n",
    "        'Uninsured Deposit/MM Asset Std': [round(uninsured_deposit_mm_asset['Uninsured_Deposit_MM_Asset'].std() * 100, 1)],  # Std deviation\n",
    "        'Insured Deposit Coverage Ratio': [round(insured_deposit_coverage['insured_deposit_coverage_ratio'].median() * 100, 1)],  # Median percentage\n",
    "        'Insured Deposit Coverage Ratio Std': [round(insured_deposit_coverage['insured_deposit_coverage_ratio'].std() * 100, 1)],  # Std deviation\n",
    "        'Number of Banks': [len(bank_losses_assets.index.unique())]  # Count of unique banks\n",
    "    })\n",
    "\n",
    "    # Rename index to 'All Banks'\n",
    "    final_stats.index = [index_name]\n",
    "\n",
    "    final_stats = final_stats.T\n",
    "    \n",
    "    return final_stats"
   ]
  },
  {
   "cell_type": "code",
   "execution_count": 321,
   "id": "b3fa9243",
   "metadata": {},
   "outputs": [],
   "source": [
    "def GSIB_bank_id():\n",
    "    #GSIB = [35301,93619,229913,398668,413208,451965,476810,480228,488318,\n",
    "     #497404,541101,651448,688079,722777,812164,852218,934329,1225761,\n",
    "     #1443266,1456501,2182786,2362458,2489805,2531991,3066025]\n",
    "    GSIB = [852218, 480228, 476810, 413208, #JP Morgan, Bank of America, Citigroup, HSBC\n",
    "      2980209, 2182786, 541101, 655839, 1015560, 229913,#Barclays, Goldman Sachs, BNY Mellon, CCB COMMUNITY BANK, ICBC, Mizuho\n",
    "       1456501, 722777, 35301, 925411, 497404, 3212149, #Morgan Stanley, Santander, State Street, Sumitomo Mitsui, TD Bank, UBS\n",
    "      451965] #wells fargo\n",
    "    return GSIB\n",
    "\n",
    "def large_ex_GSIB_bank_id(large):\n",
    "    bank_id_large_ex_GSIB = []\n",
    "    for bank_id in large['Bank_ID']:\n",
    "       bank_id_large_ex_GSIB.append(bank_id)\n",
    "    return bank_id_large_ex_GSIB\n",
    "\n",
    "def small_bank_id(small):\n",
    "    bank_id_small = []\n",
    "    for bank_id in small['Bank_ID']:\n",
    "       bank_id_small.append(bank_id)\n",
    "    return bank_id_small"
   ]
  },
  {
   "cell_type": "code",
   "execution_count": 322,
   "id": "65fc81e6",
   "metadata": {},
   "outputs": [],
   "source": [
    "GSIB = GSIB_bank_id() #list of GSIB bank IDs\n",
    "df_asset_GSIB = df_asset[df_asset['Bank_ID'].isin(GSIB)] #total assets all GSIB banks\n",
    "#Large non-GSIB Banks\n",
    "df_asset_large_ex_GSIB = df_asset[(~df_asset['Bank_ID'].isin(GSIB)) & (df_asset['gross_asset']>1384000)] #total assets all large non-GSIB banks\n",
    "large_ex_GSIB = large_ex_GSIB_bank_id(df_asset_large_ex_GSIB) #list of large non-GSIB bank IDs\n",
    "#Small Banks\n",
    "df_asset_small = df_asset[(~df_asset['Bank_ID'].isin(GSIB)) & (df_asset['gross_asset']<=1384000)] #total asset all small banks \n",
    "small = small_bank_id(df_asset_small)"
   ]
  },
  {
   "cell_type": "code",
   "execution_count": 323,
   "id": "0218c394",
   "metadata": {},
   "outputs": [],
   "source": [
    "df_RMBS_GSIB = df_RMBS_Final[df_RMBS_Final['Bank_ID'].isin(GSIB)] #RMBS for GSIB banks\n",
    "df_RMBS_large_ex_GSIB = df_RMBS_Final[df_RMBS_Final['Bank_ID'].isin(large_ex_GSIB)] #RMBS for large non-GSIB banks\n",
    "df_RMBS_small = df_RMBS_Final[df_RMBS_Final['Bank_ID'].isin(small)]"
   ]
  },
  {
   "cell_type": "code",
   "execution_count": 324,
   "id": "aac36ade",
   "metadata": {},
   "outputs": [],
   "source": [
    "df_RMBS_Final = df_RMBS_Final #RMBS for all banks \n",
    "df_RMBS_GSIB = df_RMBS_Final[df_RMBS_Final['Bank_ID'].isin(GSIB)] #RMBS for GSIB banks\n",
    "df_RMBS_large_ex_GSIB = df_RMBS_Final[df_RMBS_Final['Bank_ID'].isin(large_ex_GSIB)] #RMBS for large non-GSIB banks\n",
    "df_RMBS_small = df_RMBS_Final[df_RMBS_Final['Bank_ID'].isin(small)] #RMBS for small banks\n",
    "\n",
    "#Loans First Lien Domestic\n",
    "\n",
    "df_loans_first_lien_domestic = df_loans_first_lien_domestic # loans first lien domestic for all banks\n",
    "df_loans_first_lien_domestic_GSIB = df_loans_first_lien_domestic[df_loans_first_lien_domestic['Bank_ID'].isin(GSIB)] # loans first lien domestic for all GSIB banks\n",
    "df_loans_first_lien_domestic_large_ex_GSIB = df_loans_first_lien_domestic[df_loans_first_lien_domestic['Bank_ID'].isin(large_ex_GSIB)] # loans first lien domestic for all large non-GSIB banks\n",
    "df_loans_first_lien_domestic_small = df_loans_first_lien_domestic[df_loans_first_lien_domestic['Bank_ID'].isin(small)]\n",
    "\n",
    "df_treasury_and_others = df_treasury_and_others #treasury and others all banks \n",
    "df_treasury_and_others_GSIB = df_treasury_and_others[df_treasury_and_others['Bank_ID'].isin(GSIB)] #treasury and others GSIB banks\n",
    "df_treasury_and_others_large_ex_GSIB = df_treasury_and_others[df_treasury_and_others['Bank_ID'].isin(large_ex_GSIB)] #treasury and others large non-GSIB baanks \n",
    "df_treasury_and_others_small = df_treasury_and_others[df_treasury_and_others['Bank_ID'].isin(small)] #treasury and others small banks \n",
    "\n",
    "#Other Loan \n",
    "\n",
    "df_other_loan = df_other_loan #other loans for all banks \n",
    "df_other_loan_GSIB = df_other_loan[df_other_loan['Bank_ID'].isin(GSIB)] #other loans for all GSIB banks \n",
    "df_other_loan_large_ex_GSIB = df_other_loan[df_other_loan['Bank_ID'].isin(large_ex_GSIB)] #other loans for all large non-GSIB banks\n",
    "df_other_loan_small = df_other_loan[df_other_loan['Bank_ID'].isin(small)] \n",
    "\n",
    " #uninsured deposits\n",
    "uninsured_deposit = uninsured_deposit #uninsured deposits for all banks\n",
    "uninsured_deposit_GSIB = uninsured_deposit[uninsured_deposit['bank_ID'].isin(GSIB)] #uninsured deposits for GSIB banks\n",
    "uninsured_deposit_large_ex_GSIB = uninsured_deposit[uninsured_deposit['bank_ID'].isin(large_ex_GSIB)] #uninsured deposits for large non-GSIB banks\n",
    "uninsured_deposit_small = uninsured_deposit[uninsured_deposit['bank_ID'].isin(small)] #uninsured deposits for small banks\n",
    "\n",
    "#insured deposits\n",
    "insured_deposits = insured_deposit.copy() #insured deposits for all banks\n",
    "insured_deposits_GSIB = insured_deposits[insured_deposits['bank_ID'].isin(GSIB)] #insured deposits for GSIB banks\n",
    "insured_deposits_large_ex_GSIB = insured_deposits[insured_deposits['bank_ID'].isin(large_ex_GSIB)] #insured deposits for large non-GSIB banks\n",
    "insured_deposits_small = insured_deposits[insured_deposits['bank_ID'].isin(small)]"
   ]
  },
  {
   "cell_type": "code",
   "execution_count": 325,
   "id": "e215f0a6",
   "metadata": {},
   "outputs": [],
   "source": [
    "bank_losses = calc_functions.report_losses(inital_date,analysis_date,df_RMBS_Final, df_loans_first_lien_domestic,\\\n",
    "                                            df_treasury_and_others, df_other_loan, treasury_prices, RMBS_Multiplier, df_asset)"
   ]
  },
  {
   "cell_type": "code",
   "execution_count": 326,
   "id": "df10d9bb",
   "metadata": {},
   "outputs": [],
   "source": [
    "bank_losses_assets = bank_losses.copy()\n",
    "bank_losses_assets_small = calc_functions.report_losses(inital_date,analysis_date,df_RMBS_small, df_loans_first_lien_domestic_small, df_treasury_and_others_small, df_other_loan_small, treasury_prices, RMBS_Multiplier, df_asset_small)\n"
   ]
  },
  {
   "cell_type": "code",
   "execution_count": 327,
   "id": "be4845aa",
   "metadata": {},
   "outputs": [],
   "source": [
    "bank_losses_assets_large_ex_GSIB = calc_functions.report_losses(inital_date,analysis_date,df_RMBS_large_ex_GSIB, df_loans_first_lien_domestic_large_ex_GSIB, df_treasury_and_others_large_ex_GSIB, df_other_loan_large_ex_GSIB, treasury_prices, RMBS_Multiplier, df_asset_large_ex_GSIB)"
   ]
  },
  {
   "cell_type": "code",
   "execution_count": 328,
   "id": "4c25672d",
   "metadata": {},
   "outputs": [],
   "source": [
    "bank_losses_assets_GSIB = calc_functions.report_losses(inital_date,analysis_date,df_RMBS_GSIB, df_loans_first_lien_domestic_GSIB, df_treasury_and_others_GSIB, df_other_loan_GSIB, treasury_prices, RMBS_Multiplier, df_asset_GSIB)"
   ]
  },
  {
   "cell_type": "code",
   "execution_count": 329,
   "id": "25b34852",
   "metadata": {},
   "outputs": [],
   "source": [
    "uninsured_deposit_mm_asset_small = calculate_uninsured_deposit_mm_asset(uninsured_deposit_small, bank_losses_assets_small)\n",
    "insured_deposit_coverage_small = insured_deposit_coverage_ratio(insured_deposits_small, uninsured_deposit_small, bank_losses_assets_small)\n",
    "uninsured_deposit_mm_asset_large_ex_GSIB = calculate_uninsured_deposit_mm_asset(uninsured_deposit_large_ex_GSIB, bank_losses_assets_large_ex_GSIB)\n",
    "insured_deposit_coverage_large_ex_GSIB = insured_deposit_coverage_large_ex_GSIB = insured_deposit_coverage_ratio(insured_deposits_large_ex_GSIB, uninsured_deposit_large_ex_GSIB, bank_losses_assets_large_ex_GSIB)\n",
    "uninsured_deposit_mm_asset_GSIB = calculate_uninsured_deposit_mm_asset(uninsured_deposit_GSIB, bank_losses_assets_GSIB)\n",
    "insured_deposit_coverage_GSIB = insured_deposit_coverage_ratio(insured_deposits_GSIB, uninsured_deposit_GSIB, bank_losses_assets_GSIB)\n",
    "    "
   ]
  },
  {
   "cell_type": "code",
   "execution_count": 330,
   "id": "0e1f5ba4",
   "metadata": {},
   "outputs": [],
   "source": [
    "final_stats = final_statistic_table(bank_losses_assets, un_mm_ratio, coverage_ratios_df)\n",
    "final_stats_small = final_statistic_table(bank_losses_assets_small, uninsured_deposit_mm_asset_small, insured_deposit_coverage_small, index_name = 'Small Banks')\n",
    "final_stats_large_ex_GSIB = final_statistic_table(bank_losses_assets_large_ex_GSIB, uninsured_deposit_mm_asset_large_ex_GSIB, insured_deposit_coverage_large_ex_GSIB, index_name = 'Large Ex GSIB Banks')\n",
    "final_stats_GSIB = final_statistic_table(bank_losses_assets_GSIB, uninsured_deposit_mm_asset_GSIB, insured_deposit_coverage_GSIB, index_name = 'GSIB Banks')"
   ]
  },
  {
   "cell_type": "code",
   "execution_count": 331,
   "id": "60b5d2ec",
   "metadata": {},
   "outputs": [
    {
     "data": {
      "text/html": [
       "<div>\n",
       "<style scoped>\n",
       "    .dataframe tbody tr th:only-of-type {\n",
       "        vertical-align: middle;\n",
       "    }\n",
       "\n",
       "    .dataframe tbody tr th {\n",
       "        vertical-align: top;\n",
       "    }\n",
       "\n",
       "    .dataframe thead th {\n",
       "        text-align: right;\n",
       "    }\n",
       "</style>\n",
       "<table border=\"1\" class=\"dataframe\">\n",
       "  <thead>\n",
       "    <tr style=\"text-align: right;\">\n",
       "      <th></th>\n",
       "      <th>All Banks</th>\n",
       "      <th>Small Banks</th>\n",
       "      <th>Large Ex GSIB Banks</th>\n",
       "      <th>GSIB Banks</th>\n",
       "    </tr>\n",
       "  </thead>\n",
       "  <tbody>\n",
       "    <tr>\n",
       "      <th>Aggregate Loss</th>\n",
       "      <td>2.0T</td>\n",
       "      <td>0.1T</td>\n",
       "      <td>1.0T</td>\n",
       "      <td>0.9T</td>\n",
       "    </tr>\n",
       "    <tr>\n",
       "      <th>Bank Level Loss</th>\n",
       "      <td>29.7M</td>\n",
       "      <td>22.8M</td>\n",
       "      <td>318.6M</td>\n",
       "      <td>9003.4M</td>\n",
       "    </tr>\n",
       "    <tr>\n",
       "      <th>Bank Level Loss Std</th>\n",
       "      <td>6.52B</td>\n",
       "      <td>0.04B</td>\n",
       "      <td>4.93B</td>\n",
       "      <td>93.79B</td>\n",
       "    </tr>\n",
       "    <tr>\n",
       "      <th>Share RMBS</th>\n",
       "      <td>727.5</td>\n",
       "      <td>640.1</td>\n",
       "      <td>1241.6</td>\n",
       "      <td>2088.9</td>\n",
       "    </tr>\n",
       "    <tr>\n",
       "      <th>Share RMBS Std</th>\n",
       "      <td>1647.3</td>\n",
       "      <td>1588.2</td>\n",
       "      <td>1842.7</td>\n",
       "      <td>3070.9</td>\n",
       "    </tr>\n",
       "    <tr>\n",
       "      <th>Share Treasury and Other</th>\n",
       "      <td>1791.8</td>\n",
       "      <td>1920.5</td>\n",
       "      <td>1220.4</td>\n",
       "      <td>1583.0</td>\n",
       "    </tr>\n",
       "    <tr>\n",
       "      <th>Share Treasury and Other Std</th>\n",
       "      <td>2273.0</td>\n",
       "      <td>2343.6</td>\n",
       "      <td>1711.6</td>\n",
       "      <td>1594.4</td>\n",
       "    </tr>\n",
       "    <tr>\n",
       "      <th>Share Residential Mortgage</th>\n",
       "      <td>1802.9</td>\n",
       "      <td>1770.3</td>\n",
       "      <td>1962.9</td>\n",
       "      <td>2353.8</td>\n",
       "    </tr>\n",
       "    <tr>\n",
       "      <th>Share Residential Mortgage Std</th>\n",
       "      <td>2139.8</td>\n",
       "      <td>2163.4</td>\n",
       "      <td>2001.8</td>\n",
       "      <td>2283.3</td>\n",
       "    </tr>\n",
       "    <tr>\n",
       "      <th>Share Other Loan</th>\n",
       "      <td>3727.1</td>\n",
       "      <td>3649.9</td>\n",
       "      <td>4091.6</td>\n",
       "      <td>896.1</td>\n",
       "    </tr>\n",
       "    <tr>\n",
       "      <th>Share Other Loan Std</th>\n",
       "      <td>2411.6</td>\n",
       "      <td>2425.8</td>\n",
       "      <td>2258.6</td>\n",
       "      <td>4287.4</td>\n",
       "    </tr>\n",
       "    <tr>\n",
       "      <th>Loss/Asset</th>\n",
       "      <td>9.4</td>\n",
       "      <td>9.4</td>\n",
       "      <td>9.6</td>\n",
       "      <td>5.1</td>\n",
       "    </tr>\n",
       "    <tr>\n",
       "      <th>Loss/Asset Std</th>\n",
       "      <td>4.9</td>\n",
       "      <td>5.0</td>\n",
       "      <td>4.6</td>\n",
       "      <td>3.8</td>\n",
       "    </tr>\n",
       "    <tr>\n",
       "      <th>Uninsured Deposit/MM Asset</th>\n",
       "      <td>32.5</td>\n",
       "      <td>28.1</td>\n",
       "      <td>33.8</td>\n",
       "      <td>39.3</td>\n",
       "    </tr>\n",
       "    <tr>\n",
       "      <th>Uninsured Deposit/MM Asset Std</th>\n",
       "      <td>17.0</td>\n",
       "      <td>15.8</td>\n",
       "      <td>17.1</td>\n",
       "      <td>16.5</td>\n",
       "    </tr>\n",
       "    <tr>\n",
       "      <th>Insured Deposit Coverage Ratio</th>\n",
       "      <td>39.4</td>\n",
       "      <td>36.6</td>\n",
       "      <td>39.6</td>\n",
       "      <td>92.5</td>\n",
       "    </tr>\n",
       "    <tr>\n",
       "      <th>Insured Deposit Coverage Ratio Std</th>\n",
       "      <td>32931.9</td>\n",
       "      <td>1180.6</td>\n",
       "      <td>37868.5</td>\n",
       "      <td>441.2</td>\n",
       "    </tr>\n",
       "    <tr>\n",
       "      <th>Number of Banks</th>\n",
       "      <td>4844</td>\n",
       "      <td>4095</td>\n",
       "      <td>732</td>\n",
       "      <td>17</td>\n",
       "    </tr>\n",
       "  </tbody>\n",
       "</table>\n",
       "</div>"
      ],
      "text/plain": [
       "                                   All Banks Small Banks Large Ex GSIB Banks  \\\n",
       "Aggregate Loss                          2.0T        0.1T                1.0T   \n",
       "Bank Level Loss                        29.7M       22.8M              318.6M   \n",
       "Bank Level Loss Std                    6.52B       0.04B               4.93B   \n",
       "Share RMBS                             727.5       640.1              1241.6   \n",
       "Share RMBS Std                        1647.3      1588.2              1842.7   \n",
       "Share Treasury and Other              1791.8      1920.5              1220.4   \n",
       "Share Treasury and Other Std          2273.0      2343.6              1711.6   \n",
       "Share Residential Mortgage            1802.9      1770.3              1962.9   \n",
       "Share Residential Mortgage Std        2139.8      2163.4              2001.8   \n",
       "Share Other Loan                      3727.1      3649.9              4091.6   \n",
       "Share Other Loan Std                  2411.6      2425.8              2258.6   \n",
       "Loss/Asset                               9.4         9.4                 9.6   \n",
       "Loss/Asset Std                           4.9         5.0                 4.6   \n",
       "Uninsured Deposit/MM Asset              32.5        28.1                33.8   \n",
       "Uninsured Deposit/MM Asset Std          17.0        15.8                17.1   \n",
       "Insured Deposit Coverage Ratio          39.4        36.6                39.6   \n",
       "Insured Deposit Coverage Ratio Std   32931.9      1180.6             37868.5   \n",
       "Number of Banks                         4844        4095                 732   \n",
       "\n",
       "                                   GSIB Banks  \n",
       "Aggregate Loss                           0.9T  \n",
       "Bank Level Loss                       9003.4M  \n",
       "Bank Level Loss Std                    93.79B  \n",
       "Share RMBS                             2088.9  \n",
       "Share RMBS Std                         3070.9  \n",
       "Share Treasury and Other               1583.0  \n",
       "Share Treasury and Other Std           1594.4  \n",
       "Share Residential Mortgage             2353.8  \n",
       "Share Residential Mortgage Std         2283.3  \n",
       "Share Other Loan                        896.1  \n",
       "Share Other Loan Std                   4287.4  \n",
       "Loss/Asset                                5.1  \n",
       "Loss/Asset Std                            3.8  \n",
       "Uninsured Deposit/MM Asset               39.3  \n",
       "Uninsured Deposit/MM Asset Std           16.5  \n",
       "Insured Deposit Coverage Ratio           92.5  \n",
       "Insured Deposit Coverage Ratio Std      441.2  \n",
       "Number of Banks                            17  "
      ]
     },
     "execution_count": 331,
     "metadata": {},
     "output_type": "execute_result"
    }
   ],
   "source": [
    "table_1 = pd.concat([final_stats, final_stats_small, final_stats_large_ex_GSIB, final_stats_GSIB], axis=1)\n",
    "table_1"
   ]
  }
 ],
 "metadata": {
  "kernelspec": {
   "display_name": "Python 3 (ipykernel)",
   "language": "python",
   "name": "python3"
  },
  "language_info": {
   "codemirror_mode": {
    "name": "ipython",
    "version": 3
   },
   "file_extension": ".py",
   "mimetype": "text/x-python",
   "name": "python",
   "nbconvert_exporter": "python",
   "pygments_lexer": "ipython3",
   "version": "3.12.1"
  }
 },
 "nbformat": 4,
 "nbformat_minor": 5
}
