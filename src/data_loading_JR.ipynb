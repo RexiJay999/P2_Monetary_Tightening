{
 "cells": [
  {
   "cell_type": "code",
   "execution_count": 94,
   "id": "731fb390",
   "metadata": {},
   "outputs": [],
   "source": [
    "import pandas as pd\n",
    "import numpy as np\n",
    "import matplotlib.pyplot as plt\n",
    "import warnings\n",
    "warnings.filterwarnings(\"ignore\")"
   ]
  },
  {
   "cell_type": "code",
   "execution_count": 31,
   "id": "ad276e50",
   "metadata": {},
   "outputs": [],
   "source": [
    "def process_sp_data(data_name,short_name):\n",
    "    df = pd.read_excel(f'../data/{data_name}.xlsx',skiprows=6)\n",
    "    df = df.iloc[:-4]\n",
    "    df.columns = ['date',f'{short_name}']\n",
    "    df = df.set_index('date')\n",
    "    df.tail()\n",
    "    return df"
   ]
  },
  {
   "cell_type": "code",
   "execution_count": 58,
   "id": "77579eb8",
   "metadata": {},
   "outputs": [],
   "source": [
    "sp_1_3 = process_sp_data('S&P U.S. Treasury Bond 1-3 Year Index','sp 1-3')\n",
    "sp_3_5 = process_sp_data('S&P U.S. Treasury Bond 3-5 Year Index','sp 3-5')\n",
    "sp_7_10 = process_sp_data('S&P U.S. Treasury Bond 7-10 Year Index','sp 7-10')"
   ]
  },
  {
   "cell_type": "code",
   "execution_count": 77,
   "id": "ce8483a5",
   "metadata": {},
   "outputs": [],
   "source": [
    "def process_ishares_data(data_name, short_name):\n",
    "    df = pd.read_csv(f'../data/{data_name}.csv')\n",
    "    df = df[['Date','Adj Close']]\n",
    "    df.columns = ['date',f'{short_name}']\n",
    "    df = df.set_index('date')\n",
    "    df.index = pd.to_datetime(df.index)\n",
    "    return df"
   ]
  },
  {
   "cell_type": "code",
   "execution_count": 79,
   "id": "6781c8a9",
   "metadata": {},
   "outputs": [],
   "source": [
    "iShares_0_1 = process_ishares_data('iShares 0-1 Year Treasury ETF','iShares 0-1')\n",
    "iShares_1_3 = process_ishares_data('iShares 1-3 Year Treasury ETF CSBGU3SW','iShares 1-3')\n",
    "iShares_7_10 = process_ishares_data('iShares 7-10 Year Treasury ETF IEF','iShares 7-10')\n",
    "iShares_10_20 = process_ishares_data('iShares 10-20 Year Treasury ETF TLH','iShares 10-20')\n",
    "iShares_20 = process_ishares_data('iShares 20+ Year Treasury ETF TLT','iShares 20+')"
   ]
  },
  {
   "cell_type": "code",
   "execution_count": 82,
   "id": "6df1db6c",
   "metadata": {},
   "outputs": [
    {
     "data": {
      "text/html": [
       "<div>\n",
       "<style scoped>\n",
       "    .dataframe tbody tr th:only-of-type {\n",
       "        vertical-align: middle;\n",
       "    }\n",
       "\n",
       "    .dataframe tbody tr th {\n",
       "        vertical-align: top;\n",
       "    }\n",
       "\n",
       "    .dataframe thead th {\n",
       "        text-align: right;\n",
       "    }\n",
       "</style>\n",
       "<table border=\"1\" class=\"dataframe\">\n",
       "  <thead>\n",
       "    <tr style=\"text-align: right;\">\n",
       "      <th></th>\n",
       "      <th>iShares 20+</th>\n",
       "    </tr>\n",
       "    <tr>\n",
       "      <th>date</th>\n",
       "      <th></th>\n",
       "    </tr>\n",
       "  </thead>\n",
       "  <tbody>\n",
       "    <tr>\n",
       "      <th>2019-02-25</th>\n",
       "      <td>108.403175</td>\n",
       "    </tr>\n",
       "    <tr>\n",
       "      <th>2019-02-26</th>\n",
       "      <td>108.939774</td>\n",
       "    </tr>\n",
       "    <tr>\n",
       "      <th>2019-02-27</th>\n",
       "      <td>107.705566</td>\n",
       "    </tr>\n",
       "    <tr>\n",
       "      <th>2019-02-28</th>\n",
       "      <td>107.338882</td>\n",
       "    </tr>\n",
       "    <tr>\n",
       "      <th>2019-03-01</th>\n",
       "      <td>106.346779</td>\n",
       "    </tr>\n",
       "    <tr>\n",
       "      <th>...</th>\n",
       "      <td>...</td>\n",
       "    </tr>\n",
       "    <tr>\n",
       "      <th>2024-02-16</th>\n",
       "      <td>92.760002</td>\n",
       "    </tr>\n",
       "    <tr>\n",
       "      <th>2024-02-20</th>\n",
       "      <td>92.839996</td>\n",
       "    </tr>\n",
       "    <tr>\n",
       "      <th>2024-02-21</th>\n",
       "      <td>92.180000</td>\n",
       "    </tr>\n",
       "    <tr>\n",
       "      <th>2024-02-22</th>\n",
       "      <td>92.629997</td>\n",
       "    </tr>\n",
       "    <tr>\n",
       "      <th>2024-02-23</th>\n",
       "      <td>93.794998</td>\n",
       "    </tr>\n",
       "  </tbody>\n",
       "</table>\n",
       "<p>1259 rows × 1 columns</p>\n",
       "</div>"
      ],
      "text/plain": [
       "            iShares 20+\n",
       "date                   \n",
       "2019-02-25   108.403175\n",
       "2019-02-26   108.939774\n",
       "2019-02-27   107.705566\n",
       "2019-02-28   107.338882\n",
       "2019-03-01   106.346779\n",
       "...                 ...\n",
       "2024-02-16    92.760002\n",
       "2024-02-20    92.839996\n",
       "2024-02-21    92.180000\n",
       "2024-02-22    92.629997\n",
       "2024-02-23    93.794998\n",
       "\n",
       "[1259 rows x 1 columns]"
      ]
     },
     "execution_count": 82,
     "metadata": {},
     "output_type": "execute_result"
    }
   ],
   "source": [
    "iShares_20"
   ]
  },
  {
   "cell_type": "code",
   "execution_count": 83,
   "id": "e1a7e914",
   "metadata": {},
   "outputs": [],
   "source": [
    "df_ls = [sp_1_3,sp_3_5,sp_7_10,iShares_0_1,iShares_1_3, iShares_7_10, iShares_10_20, iShares_20 ]"
   ]
  },
  {
   "cell_type": "code",
   "execution_count": 84,
   "id": "c2721820",
   "metadata": {},
   "outputs": [],
   "source": [
    "def combine_dfs(df_ls):\n",
    "    df = pd.DataFrame(index=df_ls[0].index)\n",
    "    for i in df_ls:\n",
    "        df[i.columns[0]] = i\n",
    "    return df"
   ]
  },
  {
   "cell_type": "code",
   "execution_count": 114,
   "id": "3bb2bbfd",
   "metadata": {},
   "outputs": [
    {
     "data": {
      "text/html": [
       "<div>\n",
       "<style scoped>\n",
       "    .dataframe tbody tr th:only-of-type {\n",
       "        vertical-align: middle;\n",
       "    }\n",
       "\n",
       "    .dataframe tbody tr th {\n",
       "        vertical-align: top;\n",
       "    }\n",
       "\n",
       "    .dataframe thead th {\n",
       "        text-align: right;\n",
       "    }\n",
       "</style>\n",
       "<table border=\"1\" class=\"dataframe\">\n",
       "  <thead>\n",
       "    <tr style=\"text-align: right;\">\n",
       "      <th></th>\n",
       "      <th>sp 1-3</th>\n",
       "      <th>sp 3-5</th>\n",
       "      <th>sp 7-10</th>\n",
       "      <th>iShares 0-1</th>\n",
       "      <th>iShares 1-3</th>\n",
       "      <th>iShares 7-10</th>\n",
       "      <th>iShares 10-20</th>\n",
       "      <th>iShares 20+</th>\n",
       "    </tr>\n",
       "    <tr>\n",
       "      <th>date</th>\n",
       "      <th></th>\n",
       "      <th></th>\n",
       "      <th></th>\n",
       "      <th></th>\n",
       "      <th></th>\n",
       "      <th></th>\n",
       "      <th></th>\n",
       "      <th></th>\n",
       "    </tr>\n",
       "  </thead>\n",
       "  <tbody>\n",
       "    <tr>\n",
       "      <th>2022-03-31</th>\n",
       "      <td>340.20</td>\n",
       "      <td>340.20</td>\n",
       "      <td>680.30</td>\n",
       "      <td>102.099998</td>\n",
       "      <td>113.699997</td>\n",
       "      <td>108.327118</td>\n",
       "      <td>136.194000</td>\n",
       "      <td>135.810303</td>\n",
       "    </tr>\n",
       "    <tr>\n",
       "      <th>2022-06-30</th>\n",
       "      <td>331.21</td>\n",
       "      <td>331.21</td>\n",
       "      <td>638.81</td>\n",
       "      <td>101.980003</td>\n",
       "      <td>110.839996</td>\n",
       "      <td>101.708519</td>\n",
       "      <td>126.305954</td>\n",
       "      <td>125.121727</td>\n",
       "    </tr>\n",
       "    <tr>\n",
       "      <th>2022-09-30</th>\n",
       "      <td>331.17</td>\n",
       "      <td>331.17</td>\n",
       "      <td>620.23</td>\n",
       "      <td>101.980003</td>\n",
       "      <td>110.660004</td>\n",
       "      <td>98.849396</td>\n",
       "      <td>114.192223</td>\n",
       "      <td>110.068626</td>\n",
       "    </tr>\n",
       "    <tr>\n",
       "      <th>2022-12-31</th>\n",
       "      <td>325.82</td>\n",
       "      <td>325.82</td>\n",
       "      <td>586.51</td>\n",
       "      <td>102.279999</td>\n",
       "      <td>108.730003</td>\n",
       "      <td>93.326981</td>\n",
       "      <td>104.728577</td>\n",
       "      <td>99.298790</td>\n",
       "    </tr>\n",
       "    <tr>\n",
       "      <th>2023-03-31</th>\n",
       "      <td>327.74</td>\n",
       "      <td>327.74</td>\n",
       "      <td>587.90</td>\n",
       "      <td>103.129997</td>\n",
       "      <td>109.540001</td>\n",
       "      <td>93.499557</td>\n",
       "      <td>105.387222</td>\n",
       "      <td>97.738518</td>\n",
       "    </tr>\n",
       "  </tbody>\n",
       "</table>\n",
       "</div>"
      ],
      "text/plain": [
       "            sp 1-3  sp 3-5  sp 7-10  iShares 0-1  iShares 1-3  iShares 7-10  \\\n",
       "date                                                                          \n",
       "2022-03-31  340.20  340.20   680.30   102.099998   113.699997    108.327118   \n",
       "2022-06-30  331.21  331.21   638.81   101.980003   110.839996    101.708519   \n",
       "2022-09-30  331.17  331.17   620.23   101.980003   110.660004     98.849396   \n",
       "2022-12-31  325.82  325.82   586.51   102.279999   108.730003     93.326981   \n",
       "2023-03-31  327.74  327.74   587.90   103.129997   109.540001     93.499557   \n",
       "\n",
       "            iShares 10-20  iShares 20+  \n",
       "date                                    \n",
       "2022-03-31     136.194000   135.810303  \n",
       "2022-06-30     126.305954   125.121727  \n",
       "2022-09-30     114.192223   110.068626  \n",
       "2022-12-31     104.728577    99.298790  \n",
       "2023-03-31     105.387222    97.738518  "
      ]
     },
     "execution_count": 114,
     "metadata": {},
     "output_type": "execute_result"
    }
   ],
   "source": [
    "combined_df = combine_dfs(df_ls)\n",
    "combined_df_short = combined_df[combined_df.index > '2021-12-31']\n",
    "combined_df_short = combined_df_short[combined_df_short.index < '2023-03-31']\n",
    "# could also do .last()\n",
    "combined_df_q = combined_df_short.resample('Q').first()\n",
    "combined_df_q"
   ]
  },
  {
   "cell_type": "code",
   "execution_count": 117,
   "id": "38864f8e",
   "metadata": {},
   "outputs": [],
   "source": [
    "combined_df.to_excel('../data/combined_index_df.xlsx')"
   ]
  },
  {
   "cell_type": "code",
   "execution_count": 115,
   "id": "5d5445a0",
   "metadata": {},
   "outputs": [
    {
     "data": {
      "image/png": "[encoded data removed]",
      "text/plain": [
       "<Figure size 1008x504 with 1 Axes>"
      ]
     },
     "metadata": {
      "needs_background": "light"
     },
     "output_type": "display_data"
    }
   ],
   "source": [
    "scaler = 1/combined_df_q.iloc[0]\n",
    "scaled_df = combined_df_q * scaler\n",
    "\n",
    "plt.figure(figsize=(14, 7))\n",
    "for col in scaled_df:\n",
    "    plt.plot(scaled_df.index,scaled_df[col],label=col)\n",
    "    \n",
    "plt.title('Treasury by Maturity')\n",
    "plt.xlabel('Date')\n",
    "plt.ylabel('Scaled Price / Ratio Value')\n",
    "plt.legend()\n",
    "plt.xticks(rotation=45)\n",
    "plt.tight_layout()\n",
    "plt.show()"
   ]
  },
  {
   "cell_type": "code",
   "execution_count": null,
   "id": "4346842b",
   "metadata": {},
   "outputs": [],
   "source": []
  }
 ],
 "metadata": {
  "kernelspec": {
   "display_name": "Python 3 (ipykernel)",
   "language": "python",
   "name": "python3"
  },
  "language_info": {
   "codemirror_mode": {
    "name": "ipython",
    "version": 3
   },
   "file_extension": ".py",
   "mimetype": "text/x-python",
   "name": "python",
   "nbconvert_exporter": "python",
   "pygments_lexer": "ipython3",
   "version": "3.9.12"
  }
 },
 "nbformat": 4,
 "nbformat_minor": 5
}
